{
 "cells": [
  {
   "cell_type": "markdown",
   "metadata": {
    "id": "vpuozwkN-TpD"
   },
   "source": [
    "**Hello**"
   ]
  },
  {
   "cell_type": "code",
   "execution_count": 1,
   "metadata": {
    "colab": {
     "base_uri": "https://localhost:8080/"
    },
    "executionInfo": {
     "elapsed": 1171,
     "status": "ok",
     "timestamp": 1611563089390,
     "user": {
      "displayName": "Arnau Cinca",
      "photoUrl": "",
      "userId": "11498925519927330328"
     },
     "user_tz": -60
    },
    "id": "tAHH6l0s-XHW",
    "outputId": "5a7bdce2-6bdd-4ee8-a2ae-d59cce85e61b"
   },
   "outputs": [
    {
     "name": "stdout",
     "output_type": "stream",
     "text": [
      "Hello world\n"
     ]
    }
   ],
   "source": [
    "print(\"Hello world\")"
   ]
  },
  {
   "cell_type": "markdown",
   "metadata": {
    "id": "3IFNXfvS-R3S"
   },
   "source": [
    "\n",
    "kjkjdzh\n"
   ]
  },
  {
   "cell_type": "code",
   "execution_count": 2,
   "metadata": {
    "colab": {
     "base_uri": "https://localhost:8080/"
    },
    "executionInfo": {
     "elapsed": 1308,
     "status": "ok",
     "timestamp": 1611563223255,
     "user": {
      "displayName": "Arnau Cinca",
      "photoUrl": "",
      "userId": "11498925519927330328"
     },
     "user_tz": -60
    },
    "id": "Gt-B48tO-Kp_",
    "outputId": "bac87210-da26-4c6e-9ab8-37fcaa709fd4",
    "scrolled": true
   },
   "outputs": [
    {
     "name": "stdout",
     "output_type": "stream",
     "text": [
      "sample_data\n"
     ]
    }
   ],
   "source": [
    "print(\"\")"
   ]
  },
  {
   "cell_type": "markdown",
   "metadata": {
    "id": "dN0Zpr9p2VI2"
   },
   "source": [
    "## Data types\n",
    "\n",
    "### Numbers"
   ]
  },
  {
   "cell_type": "code",
   "execution_count": 5,
   "metadata": {
    "colab": {
     "base_uri": "https://localhost:8080/"
    },
    "executionInfo": {
     "elapsed": 1136,
     "status": "ok",
     "timestamp": 1611563248885,
     "user": {
      "displayName": "Arnau Cinca",
      "photoUrl": "",
      "userId": "11498925519927330328"
     },
     "user_tz": -60
    },
    "id": "iy8sV2LU2VI4",
    "outputId": "6cf6f857-c270-474e-ee6e-e60d695cf121"
   },
   "outputs": [
    {
     "data": {
      "text/plain": [
       "2"
      ]
     },
     "execution_count": 5,
     "metadata": {
      "tags": []
     },
     "output_type": "execute_result"
    }
   ],
   "source": [
    "1 + 1"
   ]
  },
  {
   "cell_type": "markdown",
   "metadata": {
    "id": "xojNkcz8e9dQ"
   },
   "source": [
    "## Operations\n",
    "\n"
   ]
  },
  {
   "cell_type": "code",
   "execution_count": 6,
   "metadata": {
    "colab": {
     "base_uri": "https://localhost:8080/"
    },
    "executionInfo": {
     "elapsed": 712,
     "status": "ok",
     "timestamp": 1611563265165,
     "user": {
      "displayName": "Arnau Cinca",
      "photoUrl": "",
      "userId": "11498925519927330328"
     },
     "user_tz": -60
    },
    "id": "TP6x_TVh2VI8",
    "outputId": "aef56ad7-23a4-4713-b9af-173b7c4bfc2b"
   },
   "outputs": [
    {
     "data": {
      "text/plain": [
       "3"
      ]
     },
     "execution_count": 6,
     "metadata": {
      "tags": []
     },
     "output_type": "execute_result"
    }
   ],
   "source": [
    "1 * 3"
   ]
  },
  {
   "cell_type": "code",
   "execution_count": 7,
   "metadata": {
    "colab": {
     "base_uri": "https://localhost:8080/"
    },
    "executionInfo": {
     "elapsed": 817,
     "status": "ok",
     "timestamp": 1611563266630,
     "user": {
      "displayName": "Arnau Cinca",
      "photoUrl": "",
      "userId": "11498925519927330328"
     },
     "user_tz": -60
    },
    "id": "L35IzIVC2VI_",
    "outputId": "2f33a7ef-a2c0-484a-90ab-6900f3ff6e54"
   },
   "outputs": [
    {
     "data": {
      "text/plain": [
       "0.5"
      ]
     },
     "execution_count": 7,
     "metadata": {
      "tags": []
     },
     "output_type": "execute_result"
    }
   ],
   "source": [
    "1 / 2"
   ]
  },
  {
   "cell_type": "code",
   "execution_count": 8,
   "metadata": {
    "colab": {
     "base_uri": "https://localhost:8080/"
    },
    "executionInfo": {
     "elapsed": 827,
     "status": "ok",
     "timestamp": 1611563268084,
     "user": {
      "displayName": "Arnau Cinca",
      "photoUrl": "",
      "userId": "11498925519927330328"
     },
     "user_tz": -60
    },
    "id": "vddLNEv9tnwv",
    "outputId": "c61feef2-f221-47cf-c6b1-266116b7f9b7"
   },
   "outputs": [
    {
     "data": {
      "text/plain": [
       "1"
      ]
     },
     "execution_count": 8,
     "metadata": {
      "tags": []
     },
     "output_type": "execute_result"
    }
   ],
   "source": [
    " 3 // 2"
   ]
  },
  {
   "cell_type": "code",
   "execution_count": 9,
   "metadata": {
    "colab": {
     "base_uri": "https://localhost:8080/"
    },
    "executionInfo": {
     "elapsed": 726,
     "status": "ok",
     "timestamp": 1611563274275,
     "user": {
      "displayName": "Arnau Cinca",
      "photoUrl": "",
      "userId": "11498925519927330328"
     },
     "user_tz": -60
    },
    "id": "pIIgQpTM2VJB",
    "outputId": "45898a46-5d0c-4fda-a020-6e769c722527"
   },
   "outputs": [
    {
     "data": {
      "text/plain": [
       "16"
      ]
     },
     "execution_count": 9,
     "metadata": {
      "tags": []
     },
     "output_type": "execute_result"
    }
   ],
   "source": [
    "2 ** 4"
   ]
  },
  {
   "cell_type": "code",
   "execution_count": 10,
   "metadata": {
    "colab": {
     "base_uri": "https://localhost:8080/"
    },
    "executionInfo": {
     "elapsed": 725,
     "status": "ok",
     "timestamp": 1611563277207,
     "user": {
      "displayName": "Arnau Cinca",
      "photoUrl": "",
      "userId": "11498925519927330328"
     },
     "user_tz": -60
    },
    "id": "RcHV1JhF2VJE",
    "outputId": "9e7e04fe-c53c-4f81-c4e0-6328f01ae6b1"
   },
   "outputs": [
    {
     "data": {
      "text/plain": [
       "0"
      ]
     },
     "execution_count": 10,
     "metadata": {
      "tags": []
     },
     "output_type": "execute_result"
    }
   ],
   "source": [
    "4 % 2"
   ]
  },
  {
   "cell_type": "code",
   "execution_count": 11,
   "metadata": {
    "colab": {
     "base_uri": "https://localhost:8080/"
    },
    "executionInfo": {
     "elapsed": 801,
     "status": "ok",
     "timestamp": 1611563278141,
     "user": {
      "displayName": "Arnau Cinca",
      "photoUrl": "",
      "userId": "11498925519927330328"
     },
     "user_tz": -60
    },
    "id": "6WtjcOys2VJH",
    "outputId": "1b969e97-f26b-4d2b-c9fc-93b6e1e307ee"
   },
   "outputs": [
    {
     "data": {
      "text/plain": [
       "1"
      ]
     },
     "execution_count": 11,
     "metadata": {
      "tags": []
     },
     "output_type": "execute_result"
    }
   ],
   "source": [
    "5 % 2"
   ]
  },
  {
   "cell_type": "code",
   "execution_count": 12,
   "metadata": {
    "colab": {
     "base_uri": "https://localhost:8080/"
    },
    "executionInfo": {
     "elapsed": 722,
     "status": "ok",
     "timestamp": 1611563281928,
     "user": {
      "displayName": "Arnau Cinca",
      "photoUrl": "",
      "userId": "11498925519927330328"
     },
     "user_tz": -60
    },
    "id": "aD7fGFgH2VJJ",
    "outputId": "7c124ed9-57c9-4869-efd0-6c44772f7b6f"
   },
   "outputs": [
    {
     "data": {
      "text/plain": [
       "50"
      ]
     },
     "execution_count": 12,
     "metadata": {
      "tags": []
     },
     "output_type": "execute_result"
    }
   ],
   "source": [
    "(2 + 3) * (5 + 5)"
   ]
  },
  {
   "cell_type": "markdown",
   "metadata": {
    "id": "-BgjoP6F2VJL"
   },
   "source": [
    "### Variable Assignment"
   ]
  },
  {
   "cell_type": "code",
   "execution_count": 13,
   "metadata": {
    "executionInfo": {
     "elapsed": 767,
     "status": "ok",
     "timestamp": 1611563292406,
     "user": {
      "displayName": "Arnau Cinca",
      "photoUrl": "",
      "userId": "11498925519927330328"
     },
     "user_tz": -60
    },
    "id": "dbOMnwW_2VJN"
   },
   "outputs": [],
   "source": [
    "# Can not start with number or special characters\n",
    "name_of_var = \"hola\""
   ]
  },
  {
   "cell_type": "code",
   "execution_count": 14,
   "metadata": {
    "executionInfo": {
     "elapsed": 878,
     "status": "ok",
     "timestamp": 1611563295857,
     "user": {
      "displayName": "Arnau Cinca",
      "photoUrl": "",
      "userId": "11498925519927330328"
     },
     "user_tz": -60
    },
    "id": "LXFQ2ZzP2VJO"
   },
   "outputs": [],
   "source": [
    "x = 2\n",
    "y = 3"
   ]
  },
  {
   "cell_type": "code",
   "execution_count": 17,
   "metadata": {
    "colab": {
     "base_uri": "https://localhost:8080/"
    },
    "executionInfo": {
     "elapsed": 757,
     "status": "ok",
     "timestamp": 1611563309907,
     "user": {
      "displayName": "Arnau Cinca",
      "photoUrl": "",
      "userId": "11498925519927330328"
     },
     "user_tz": -60
    },
    "id": "1XE5MgBo2VJR",
    "outputId": "0147cbba-90c5-46c2-ade6-10157bdb71a5"
   },
   "outputs": [
    {
     "data": {
      "text/plain": [
       "5"
      ]
     },
     "execution_count": 17,
     "metadata": {
      "tags": []
     },
     "output_type": "execute_result"
    }
   ],
   "source": [
    "x + y"
   ]
  },
  {
   "cell_type": "code",
   "execution_count": 19,
   "metadata": {
    "colab": {
     "base_uri": "https://localhost:8080/",
     "height": 35
    },
    "executionInfo": {
     "elapsed": 738,
     "status": "ok",
     "timestamp": 1611563323638,
     "user": {
      "displayName": "Arnau Cinca",
      "photoUrl": "",
      "userId": "11498925519927330328"
     },
     "user_tz": -60
    },
    "id": "r_I9wOsK2VJU",
    "outputId": "e2ecfc46-4d1e-45fa-8565-eb56c10909ac"
   },
   "outputs": [
    {
     "data": {
      "application/vnd.google.colaboratory.intrinsic+json": {
       "type": "string"
      },
      "text/plain": [
       "'hola'"
      ]
     },
     "execution_count": 19,
     "metadata": {
      "tags": []
     },
     "output_type": "execute_result"
    }
   ],
   "source": [
    "z"
   ]
  },
  {
   "cell_type": "markdown",
   "metadata": {
    "id": "8yRjoBzW2VJW"
   },
   "source": [
    "### Strings"
   ]
  },
  {
   "cell_type": "code",
   "execution_count": 20,
   "metadata": {
    "colab": {
     "base_uri": "https://localhost:8080/",
     "height": 35
    },
    "executionInfo": {
     "elapsed": 732,
     "status": "ok",
     "timestamp": 1611563329615,
     "user": {
      "displayName": "Arnau Cinca",
      "photoUrl": "",
      "userId": "11498925519927330328"
     },
     "user_tz": -60
    },
    "id": "-OQBdDI7f2XB",
    "outputId": "c0c689be-c9f7-4990-9667-d0f93c31b97e"
   },
   "outputs": [
    {
     "data": {
      "application/vnd.google.colaboratory.intrinsic+json": {
       "type": "string"
      },
      "text/plain": [
       "'a'"
      ]
     },
     "execution_count": 20,
     "metadata": {
      "tags": []
     },
     "output_type": "execute_result"
    }
   ],
   "source": [
    "'a'"
   ]
  },
  {
   "cell_type": "code",
   "execution_count": 21,
   "metadata": {
    "colab": {
     "base_uri": "https://localhost:8080/",
     "height": 35
    },
    "executionInfo": {
     "elapsed": 744,
     "status": "ok",
     "timestamp": 1611563331904,
     "user": {
      "displayName": "Arnau Cinca",
      "photoUrl": "",
      "userId": "11498925519927330328"
     },
     "user_tz": -60
    },
    "id": "L_la7fJx2VJX",
    "outputId": "2207e716-0b34-4e86-b632-5a7a0d1187c9"
   },
   "outputs": [
    {
     "data": {
      "application/vnd.google.colaboratory.intrinsic+json": {
       "type": "string"
      },
      "text/plain": [
       "'single quotes'"
      ]
     },
     "execution_count": 21,
     "metadata": {
      "tags": []
     },
     "output_type": "execute_result"
    }
   ],
   "source": [
    "'single quotes'"
   ]
  },
  {
   "cell_type": "code",
   "execution_count": 22,
   "metadata": {
    "colab": {
     "base_uri": "https://localhost:8080/",
     "height": 35
    },
    "executionInfo": {
     "elapsed": 719,
     "status": "ok",
     "timestamp": 1611563335955,
     "user": {
      "displayName": "Arnau Cinca",
      "photoUrl": "",
      "userId": "11498925519927330328"
     },
     "user_tz": -60
    },
    "id": "8KYp7PhD2VJZ",
    "outputId": "3a3da962-d888-4470-ccbf-2d00885e725e"
   },
   "outputs": [
    {
     "data": {
      "application/vnd.google.colaboratory.intrinsic+json": {
       "type": "string"
      },
      "text/plain": [
       "'double quotes'"
      ]
     },
     "execution_count": 22,
     "metadata": {
      "tags": []
     },
     "output_type": "execute_result"
    }
   ],
   "source": [
    "\"double quotes\""
   ]
  },
  {
   "cell_type": "code",
   "execution_count": 23,
   "metadata": {
    "colab": {
     "base_uri": "https://localhost:8080/",
     "height": 35
    },
    "executionInfo": {
     "elapsed": 724,
     "status": "ok",
     "timestamp": 1611563346395,
     "user": {
      "displayName": "Arnau Cinca",
      "photoUrl": "",
      "userId": "11498925519927330328"
     },
     "user_tz": -60
    },
    "id": "UF1YNt0R2VJd",
    "outputId": "97db0070-70e4-41dc-af66-ce0c12e5ef9b"
   },
   "outputs": [
    {
     "data": {
      "application/vnd.google.colaboratory.intrinsic+json": {
       "type": "string"
      },
      "text/plain": [
       "\" wrap lot's of other quotes\""
      ]
     },
     "execution_count": 23,
     "metadata": {
      "tags": []
     },
     "output_type": "execute_result"
    }
   ],
   "source": [
    "\" wrap lot's of other quotes\""
   ]
  },
  {
   "cell_type": "code",
   "execution_count": 24,
   "metadata": {
    "colab": {
     "base_uri": "https://localhost:8080/",
     "height": 35
    },
    "executionInfo": {
     "elapsed": 863,
     "status": "ok",
     "timestamp": 1611563357068,
     "user": {
      "displayName": "Arnau Cinca",
      "photoUrl": "",
      "userId": "11498925519927330328"
     },
     "user_tz": -60
    },
    "id": "BXw0ZQKa_RyM",
    "outputId": "460371d3-1e78-4c48-e494-69a6b3406549"
   },
   "outputs": [
    {
     "data": {
      "application/vnd.google.colaboratory.intrinsic+json": {
       "type": "string"
      },
      "text/plain": [
       "'\\nhola\\nadios\\n'"
      ]
     },
     "execution_count": 24,
     "metadata": {
      "tags": []
     },
     "output_type": "execute_result"
    }
   ],
   "source": [
    "\"\"\"\n",
    "hola\n",
    "adios\n",
    "\"\"\""
   ]
  },
  {
   "cell_type": "markdown",
   "metadata": {
    "id": "uX2X1Ym32VJe"
   },
   "source": [
    "### Printing"
   ]
  },
  {
   "cell_type": "code",
   "execution_count": 25,
   "metadata": {
    "executionInfo": {
     "elapsed": 726,
     "status": "ok",
     "timestamp": 1611563369355,
     "user": {
      "displayName": "Arnau Cinca",
      "photoUrl": "",
      "userId": "11498925519927330328"
     },
     "user_tz": -60
    },
    "id": "9EOJW0xn2VJf"
   },
   "outputs": [],
   "source": [
    "x = 'hello'"
   ]
  },
  {
   "cell_type": "code",
   "execution_count": 26,
   "metadata": {
    "colab": {
     "base_uri": "https://localhost:8080/",
     "height": 35
    },
    "executionInfo": {
     "elapsed": 512,
     "status": "ok",
     "timestamp": 1611563370739,
     "user": {
      "displayName": "Arnau Cinca",
      "photoUrl": "",
      "userId": "11498925519927330328"
     },
     "user_tz": -60
    },
    "id": "omQG8cR72VJh",
    "outputId": "0320ef53-5d31-43b6-f908-e84f623166ca"
   },
   "outputs": [
    {
     "data": {
      "application/vnd.google.colaboratory.intrinsic+json": {
       "type": "string"
      },
      "text/plain": [
       "'hello'"
      ]
     },
     "execution_count": 26,
     "metadata": {
      "tags": []
     },
     "output_type": "execute_result"
    }
   ],
   "source": [
    "x"
   ]
  },
  {
   "cell_type": "code",
   "execution_count": 27,
   "metadata": {
    "colab": {
     "base_uri": "https://localhost:8080/"
    },
    "executionInfo": {
     "elapsed": 1047,
     "status": "ok",
     "timestamp": 1611563373446,
     "user": {
      "displayName": "Arnau Cinca",
      "photoUrl": "",
      "userId": "11498925519927330328"
     },
     "user_tz": -60
    },
    "id": "vVwCdYXB2VJk",
    "outputId": "90a6d544-1a57-42db-af4f-e16eccd6876b"
   },
   "outputs": [
    {
     "name": "stdout",
     "output_type": "stream",
     "text": [
      "hello\n"
     ]
    }
   ],
   "source": [
    "print(x)"
   ]
  },
  {
   "cell_type": "code",
   "execution_count": 28,
   "metadata": {
    "executionInfo": {
     "elapsed": 695,
     "status": "ok",
     "timestamp": 1611563376071,
     "user": {
      "displayName": "Arnau Cinca",
      "photoUrl": "",
      "userId": "11498925519927330328"
     },
     "user_tz": -60
    },
    "id": "bjHOzaqD2VJo"
   },
   "outputs": [],
   "source": [
    "num = 12\n",
    "name = 'Jedi'"
   ]
  },
  {
   "cell_type": "markdown",
   "metadata": {
    "id": "CiN0QaehvJRV"
   },
   "source": [
    "cout << \"My Number is: \" << str(num) <<< \"and my name is: \" << name << endl;"
   ]
  },
  {
   "cell_type": "code",
   "execution_count": 31,
   "metadata": {
    "colab": {
     "base_uri": "https://localhost:8080/"
    },
    "executionInfo": {
     "elapsed": 1123,
     "status": "ok",
     "timestamp": 1611563406347,
     "user": {
      "displayName": "Arnau Cinca",
      "photoUrl": "",
      "userId": "11498925519927330328"
     },
     "user_tz": -60
    },
    "id": "qIlGxmvYgQJs",
    "outputId": "4dd45efa-d053-433a-be21-9ca631ec714e"
   },
   "outputs": [
    {
     "name": "stdout",
     "output_type": "stream",
     "text": [
      "My number is 12 and my name is Jedi\n"
     ]
    }
   ],
   "source": [
    "print(\"My number is \" + str(num) + \" and my name is \" + name)"
   ]
  },
  {
   "cell_type": "code",
   "execution_count": 32,
   "metadata": {
    "colab": {
     "base_uri": "https://localhost:8080/"
    },
    "executionInfo": {
     "elapsed": 876,
     "status": "ok",
     "timestamp": 1611563410085,
     "user": {
      "displayName": "Arnau Cinca",
      "photoUrl": "",
      "userId": "11498925519927330328"
     },
     "user_tz": -60
    },
    "id": "ESRJ7tih2VJr",
    "outputId": "0074fda2-59c4-4885-fbab-a71e88d6fcba"
   },
   "outputs": [
    {
     "name": "stdout",
     "output_type": "stream",
     "text": [
      "My number is: 12, and my name is: Jedi\n"
     ]
    }
   ],
   "source": [
    "print('My number is: {one}, and my name is: {two}'.format(one=num,two=name))"
   ]
  },
  {
   "cell_type": "code",
   "execution_count": 33,
   "metadata": {
    "colab": {
     "base_uri": "https://localhost:8080/"
    },
    "executionInfo": {
     "elapsed": 768,
     "status": "ok",
     "timestamp": 1611563419376,
     "user": {
      "displayName": "Arnau Cinca",
      "photoUrl": "",
      "userId": "11498925519927330328"
     },
     "user_tz": -60
    },
    "id": "E5eGpRY92VJu",
    "outputId": "145e142a-07b0-47c5-f2c9-471a11b8b4c8"
   },
   "outputs": [
    {
     "name": "stdout",
     "output_type": "stream",
     "text": [
      "My number is: 12, and my name is: Jedi\n"
     ]
    }
   ],
   "source": [
    "print('My number is: {}, and my name is: {}'.format(num,name))"
   ]
  },
  {
   "cell_type": "code",
   "execution_count": 34,
   "metadata": {
    "colab": {
     "base_uri": "https://localhost:8080/",
     "height": 35
    },
    "executionInfo": {
     "elapsed": 943,
     "status": "ok",
     "timestamp": 1611563423782,
     "user": {
      "displayName": "Arnau Cinca",
      "photoUrl": "",
      "userId": "11498925519927330328"
     },
     "user_tz": -60
    },
    "id": "EQKRs6QSvk_C",
    "outputId": "d72914bf-8f3e-4b42-92ae-af826c936a48"
   },
   "outputs": [
    {
     "data": {
      "application/vnd.google.colaboratory.intrinsic+json": {
       "type": "string"
      },
      "text/plain": [
       "'My number is: 12, and my name is: Jedi'"
      ]
     },
     "execution_count": 34,
     "metadata": {
      "tags": []
     },
     "output_type": "execute_result"
    }
   ],
   "source": [
    "'My number is: {one}, and my name is: {two}'.format(one=num,two=name)"
   ]
  },
  {
   "cell_type": "code",
   "execution_count": 35,
   "metadata": {
    "colab": {
     "base_uri": "https://localhost:8080/"
    },
    "executionInfo": {
     "elapsed": 731,
     "status": "ok",
     "timestamp": 1611563434991,
     "user": {
      "displayName": "Arnau Cinca",
      "photoUrl": "",
      "userId": "11498925519927330328"
     },
     "user_tz": -60
    },
    "id": "GFBRxhWcgoqg",
    "outputId": "94cee8fa-f673-4bf5-a8e8-4f35162f16f7"
   },
   "outputs": [
    {
     "name": "stdout",
     "output_type": "stream",
     "text": [
      "expresion: 7 12\n"
     ]
    }
   ],
   "source": [
    "print(f\"expresion: {3+4} {num}\")"
   ]
  },
  {
   "cell_type": "markdown",
   "metadata": {
    "id": "zwUH2Vb22VJw"
   },
   "source": [
    "### Lists"
   ]
  },
  {
   "cell_type": "code",
   "execution_count": 36,
   "metadata": {
    "colab": {
     "base_uri": "https://localhost:8080/"
    },
    "executionInfo": {
     "elapsed": 812,
     "status": "ok",
     "timestamp": 1611563443287,
     "user": {
      "displayName": "Arnau Cinca",
      "photoUrl": "",
      "userId": "11498925519927330328"
     },
     "user_tz": -60
    },
    "id": "-2KtpUiI2VJx",
    "outputId": "7bdab1cf-994b-4656-f6c9-37efb0e798a0"
   },
   "outputs": [
    {
     "data": {
      "text/plain": [
       "[1, 2, 3]"
      ]
     },
     "execution_count": 36,
     "metadata": {
      "tags": []
     },
     "output_type": "execute_result"
    }
   ],
   "source": [
    "[1,2,3]"
   ]
  },
  {
   "cell_type": "code",
   "execution_count": 37,
   "metadata": {
    "colab": {
     "base_uri": "https://localhost:8080/"
    },
    "executionInfo": {
     "elapsed": 873,
     "status": "ok",
     "timestamp": 1611563445558,
     "user": {
      "displayName": "Arnau Cinca",
      "photoUrl": "",
      "userId": "11498925519927330328"
     },
     "user_tz": -60
    },
    "id": "dsvW3Xk-2VJz",
    "outputId": "38cab03c-019a-47f9-8449-3fa239e72a54"
   },
   "outputs": [
    {
     "data": {
      "text/plain": [
       "['hi', 1, [1, 2]]"
      ]
     },
     "execution_count": 37,
     "metadata": {
      "tags": []
     },
     "output_type": "execute_result"
    }
   ],
   "source": [
    "['hi',1,[1,2]] #son heterogeneas ya que los elementos pueden ser de diferentes tipos"
   ]
  },
  {
   "cell_type": "code",
   "execution_count": 38,
   "metadata": {
    "executionInfo": {
     "elapsed": 784,
     "status": "ok",
     "timestamp": 1611563455249,
     "user": {
      "displayName": "Arnau Cinca",
      "photoUrl": "",
      "userId": "11498925519927330328"
     },
     "user_tz": -60
    },
    "id": "phkEdItc2VJ1"
   },
   "outputs": [],
   "source": [
    "my_list =['a','b','c']"
   ]
  },
  {
   "cell_type": "code",
   "execution_count": 39,
   "metadata": {
    "executionInfo": {
     "elapsed": 619,
     "status": "ok",
     "timestamp": 1611563455601,
     "user": {
      "displayName": "Arnau Cinca",
      "photoUrl": "",
      "userId": "11498925519927330328"
     },
     "user_tz": -60
    },
    "id": "buCmAmi22VJ2"
   },
   "outputs": [],
   "source": [
    "my_list.append('d')"
   ]
  },
  {
   "cell_type": "code",
   "execution_count": 40,
   "metadata": {
    "colab": {
     "base_uri": "https://localhost:8080/"
    },
    "executionInfo": {
     "elapsed": 735,
     "status": "ok",
     "timestamp": 1611563457789,
     "user": {
      "displayName": "Arnau Cinca",
      "photoUrl": "",
      "userId": "11498925519927330328"
     },
     "user_tz": -60
    },
    "id": "nrE-8L5W2VJ4",
    "outputId": "df269ee3-1f1b-4c19-db36-07a385211081"
   },
   "outputs": [
    {
     "data": {
      "text/plain": [
       "['a', 'b', 'c', 'd']"
      ]
     },
     "execution_count": 40,
     "metadata": {
      "tags": []
     },
     "output_type": "execute_result"
    }
   ],
   "source": [
    "my_list"
   ]
  },
  {
   "cell_type": "code",
   "execution_count": 41,
   "metadata": {
    "colab": {
     "base_uri": "https://localhost:8080/",
     "height": 35
    },
    "executionInfo": {
     "elapsed": 514,
     "status": "ok",
     "timestamp": 1611563464251,
     "user": {
      "displayName": "Arnau Cinca",
      "photoUrl": "",
      "userId": "11498925519927330328"
     },
     "user_tz": -60
    },
    "id": "x8xXvcPr2VJ6",
    "outputId": "a7b0b147-5ad0-418f-8803-2c6cb7b99805"
   },
   "outputs": [
    {
     "data": {
      "application/vnd.google.colaboratory.intrinsic+json": {
       "type": "string"
      },
      "text/plain": [
       "'a'"
      ]
     },
     "execution_count": 41,
     "metadata": {
      "tags": []
     },
     "output_type": "execute_result"
    }
   ],
   "source": [
    "my_list[0]"
   ]
  },
  {
   "cell_type": "code",
   "execution_count": 42,
   "metadata": {
    "colab": {
     "base_uri": "https://localhost:8080/",
     "height": 35
    },
    "executionInfo": {
     "elapsed": 884,
     "status": "ok",
     "timestamp": 1611563465377,
     "user": {
      "displayName": "Arnau Cinca",
      "photoUrl": "",
      "userId": "11498925519927330328"
     },
     "user_tz": -60
    },
    "id": "evfnHcIL2VJ8",
    "outputId": "c14162e7-e529-4bd5-ff6e-c9d3c9741144"
   },
   "outputs": [
    {
     "data": {
      "application/vnd.google.colaboratory.intrinsic+json": {
       "type": "string"
      },
      "text/plain": [
       "'b'"
      ]
     },
     "execution_count": 42,
     "metadata": {
      "tags": []
     },
     "output_type": "execute_result"
    }
   ],
   "source": [
    "my_list[1]"
   ]
  },
  {
   "cell_type": "code",
   "execution_count": 43,
   "metadata": {
    "colab": {
     "base_uri": "https://localhost:8080/"
    },
    "executionInfo": {
     "elapsed": 746,
     "status": "ok",
     "timestamp": 1611563468419,
     "user": {
      "displayName": "Arnau Cinca",
      "photoUrl": "",
      "userId": "11498925519927330328"
     },
     "user_tz": -60
    },
    "id": "_zzRdg3g2VJ_",
    "outputId": "22c8f346-208d-4030-ed86-dab0f6d23b3c"
   },
   "outputs": [
    {
     "data": {
      "text/plain": [
       "['b', 'c']"
      ]
     },
     "execution_count": 43,
     "metadata": {
      "tags": []
     },
     "output_type": "execute_result"
    }
   ],
   "source": [
    "my_list[1:3]"
   ]
  },
  {
   "cell_type": "code",
   "execution_count": 44,
   "metadata": {
    "colab": {
     "base_uri": "https://localhost:8080/"
    },
    "executionInfo": {
     "elapsed": 835,
     "status": "ok",
     "timestamp": 1611563472700,
     "user": {
      "displayName": "Arnau Cinca",
      "photoUrl": "",
      "userId": "11498925519927330328"
     },
     "user_tz": -60
    },
    "id": "RuPvzfpr2VKA",
    "outputId": "a863d788-fe6f-4add-c642-a3f332773e09"
   },
   "outputs": [
    {
     "data": {
      "text/plain": [
       "['a']"
      ]
     },
     "execution_count": 44,
     "metadata": {
      "tags": []
     },
     "output_type": "execute_result"
    }
   ],
   "source": [
    "my_list[:1]"
   ]
  },
  {
   "cell_type": "code",
   "execution_count": 45,
   "metadata": {
    "executionInfo": {
     "elapsed": 731,
     "status": "ok",
     "timestamp": 1611563482152,
     "user": {
      "displayName": "Arnau Cinca",
      "photoUrl": "",
      "userId": "11498925519927330328"
     },
     "user_tz": -60
    },
    "id": "kQKEjdKl2VKC"
   },
   "outputs": [],
   "source": [
    "my_list[0] = 'NEW'"
   ]
  },
  {
   "cell_type": "code",
   "execution_count": 46,
   "metadata": {
    "colab": {
     "base_uri": "https://localhost:8080/"
    },
    "executionInfo": {
     "elapsed": 856,
     "status": "ok",
     "timestamp": 1611563483955,
     "user": {
      "displayName": "Arnau Cinca",
      "photoUrl": "",
      "userId": "11498925519927330328"
     },
     "user_tz": -60
    },
    "id": "DMJ4B0dG2VKF",
    "outputId": "92729472-d69f-4d72-d92b-ba12ffa92e9f"
   },
   "outputs": [
    {
     "data": {
      "text/plain": [
       "['NEW', 'b', 'c', 'd']"
      ]
     },
     "execution_count": 46,
     "metadata": {
      "tags": []
     },
     "output_type": "execute_result"
    }
   ],
   "source": [
    "my_list"
   ]
  },
  {
   "cell_type": "code",
   "execution_count": 47,
   "metadata": {
    "executionInfo": {
     "elapsed": 689,
     "status": "ok",
     "timestamp": 1611563486808,
     "user": {
      "displayName": "Arnau Cinca",
      "photoUrl": "",
      "userId": "11498925519927330328"
     },
     "user_tz": -60
    },
    "id": "i4ECD39B2VKR"
   },
   "outputs": [],
   "source": [
    "nest = [1,2,3,[4,5,['target']]]"
   ]
  },
  {
   "cell_type": "code",
   "execution_count": 48,
   "metadata": {
    "colab": {
     "base_uri": "https://localhost:8080/"
    },
    "executionInfo": {
     "elapsed": 779,
     "status": "ok",
     "timestamp": 1611563492273,
     "user": {
      "displayName": "Arnau Cinca",
      "photoUrl": "",
      "userId": "11498925519927330328"
     },
     "user_tz": -60
    },
    "id": "2CbBkcIX2VKS",
    "outputId": "94c8575a-1d5b-4123-990f-7a9e8ab3d9bb"
   },
   "outputs": [
    {
     "data": {
      "text/plain": [
       "[4, 5, ['target']]"
      ]
     },
     "execution_count": 48,
     "metadata": {
      "tags": []
     },
     "output_type": "execute_result"
    }
   ],
   "source": [
    "nest[3]"
   ]
  },
  {
   "cell_type": "code",
   "execution_count": 49,
   "metadata": {
    "colab": {
     "base_uri": "https://localhost:8080/"
    },
    "executionInfo": {
     "elapsed": 1137,
     "status": "ok",
     "timestamp": 1611563493461,
     "user": {
      "displayName": "Arnau Cinca",
      "photoUrl": "",
      "userId": "11498925519927330328"
     },
     "user_tz": -60
    },
    "id": "WjojEUyM2VKU",
    "outputId": "1b461779-312f-4140-ebee-5ba91851636f"
   },
   "outputs": [
    {
     "data": {
      "text/plain": [
       "['target']"
      ]
     },
     "execution_count": 49,
     "metadata": {
      "tags": []
     },
     "output_type": "execute_result"
    }
   ],
   "source": [
    "nest[3][2]"
   ]
  },
  {
   "cell_type": "code",
   "execution_count": 50,
   "metadata": {
    "colab": {
     "base_uri": "https://localhost:8080/",
     "height": 35
    },
    "executionInfo": {
     "elapsed": 889,
     "status": "ok",
     "timestamp": 1611563497024,
     "user": {
      "displayName": "Arnau Cinca",
      "photoUrl": "",
      "userId": "11498925519927330328"
     },
     "user_tz": -60
    },
    "id": "o37eFZQO2VKY",
    "outputId": "713dbc6c-052a-4c6c-d636-9e75cb57123e"
   },
   "outputs": [
    {
     "data": {
      "application/vnd.google.colaboratory.intrinsic+json": {
       "type": "string"
      },
      "text/plain": [
       "'target'"
      ]
     },
     "execution_count": 50,
     "metadata": {
      "tags": []
     },
     "output_type": "execute_result"
    }
   ],
   "source": [
    "nest[3][2][0]"
   ]
  },
  {
   "cell_type": "code",
   "execution_count": 51,
   "metadata": {
    "colab": {
     "base_uri": "https://localhost:8080/"
    },
    "executionInfo": {
     "elapsed": 758,
     "status": "ok",
     "timestamp": 1611563507711,
     "user": {
      "displayName": "Arnau Cinca",
      "photoUrl": "",
      "userId": "11498925519927330328"
     },
     "user_tz": -60
    },
    "id": "Fjio8F4YxHSP",
    "outputId": "7e869ba8-5960-4c4b-b46f-b3f6a4e68d5e"
   },
   "outputs": [
    {
     "data": {
      "text/plain": [
       "4"
      ]
     },
     "execution_count": 51,
     "metadata": {
      "tags": []
     },
     "output_type": "execute_result"
    }
   ],
   "source": [
    "len(nest)"
   ]
  },
  {
   "cell_type": "code",
   "execution_count": 52,
   "metadata": {
    "colab": {
     "base_uri": "https://localhost:8080/"
    },
    "executionInfo": {
     "elapsed": 709,
     "status": "ok",
     "timestamp": 1611563515338,
     "user": {
      "displayName": "Arnau Cinca",
      "photoUrl": "",
      "userId": "11498925519927330328"
     },
     "user_tz": -60
    },
    "id": "n5BLaZZvhyHJ",
    "outputId": "ec25f84e-a89f-4693-bbd5-1e2b8af281ce"
   },
   "outputs": [
    {
     "data": {
      "text/plain": [
       "[4, 5, ['target']]"
      ]
     },
     "execution_count": 52,
     "metadata": {
      "tags": []
     },
     "output_type": "execute_result"
    }
   ],
   "source": [
    "nest[len(nest) - 1]"
   ]
  },
  {
   "cell_type": "code",
   "execution_count": 54,
   "metadata": {
    "colab": {
     "base_uri": "https://localhost:8080/"
    },
    "executionInfo": {
     "elapsed": 730,
     "status": "ok",
     "timestamp": 1611563525748,
     "user": {
      "displayName": "Arnau Cinca",
      "photoUrl": "",
      "userId": "11498925519927330328"
     },
     "user_tz": -60
    },
    "id": "8G-TYZrTxW1L",
    "outputId": "3ce799ff-8e0f-4309-92a7-0015ccba4a24"
   },
   "outputs": [
    {
     "data": {
      "text/plain": [
       "3"
      ]
     },
     "execution_count": 54,
     "metadata": {
      "tags": []
     },
     "output_type": "execute_result"
    }
   ],
   "source": [
    "nest[-2]"
   ]
  },
  {
   "cell_type": "markdown",
   "metadata": {
    "id": "sdy0YnpD2VKb"
   },
   "source": [
    "### Dictionaries"
   ]
  },
  {
   "cell_type": "code",
   "execution_count": 55,
   "metadata": {
    "executionInfo": {
     "elapsed": 730,
     "status": "ok",
     "timestamp": 1611563531971,
     "user": {
      "displayName": "Arnau Cinca",
      "photoUrl": "",
      "userId": "11498925519927330328"
     },
     "user_tz": -60
    },
    "id": "5ZfbWS_qiCjv"
   },
   "outputs": [],
   "source": [
    "s = {'s', 'd', 's'}"
   ]
  },
  {
   "cell_type": "code",
   "execution_count": 56,
   "metadata": {
    "colab": {
     "base_uri": "https://localhost:8080/"
    },
    "executionInfo": {
     "elapsed": 556,
     "status": "ok",
     "timestamp": 1611563532954,
     "user": {
      "displayName": "Arnau Cinca",
      "photoUrl": "",
      "userId": "11498925519927330328"
     },
     "user_tz": -60
    },
    "id": "CCkHvkSwiF-7",
    "outputId": "6e7059ec-e41e-4e90-8c93-66bc79d67887"
   },
   "outputs": [
    {
     "name": "stdout",
     "output_type": "stream",
     "text": [
      "{'d', 's'}\n"
     ]
    }
   ],
   "source": [
    "print(s)"
   ]
  },
  {
   "cell_type": "code",
   "execution_count": 57,
   "metadata": {
    "executionInfo": {
     "elapsed": 773,
     "status": "ok",
     "timestamp": 1611563544507,
     "user": {
      "displayName": "Arnau Cinca",
      "photoUrl": "",
      "userId": "11498925519927330328"
     },
     "user_tz": -60
    },
    "id": "i8oCi1pT2VKb"
   },
   "outputs": [],
   "source": [
    "d = {'key1':'item1','key2':'item2'}"
   ]
  },
  {
   "cell_type": "code",
   "execution_count": 58,
   "metadata": {
    "colab": {
     "base_uri": "https://localhost:8080/"
    },
    "executionInfo": {
     "elapsed": 764,
     "status": "ok",
     "timestamp": 1611563547856,
     "user": {
      "displayName": "Arnau Cinca",
      "photoUrl": "",
      "userId": "11498925519927330328"
     },
     "user_tz": -60
    },
    "id": "dHgucVQh2VKf",
    "outputId": "825d6882-d63f-4a63-dae1-9ebc24491aad"
   },
   "outputs": [
    {
     "data": {
      "text/plain": [
       "{'key1': 'item1', 'key2': 'item2'}"
      ]
     },
     "execution_count": 58,
     "metadata": {
      "tags": []
     },
     "output_type": "execute_result"
    }
   ],
   "source": [
    "d"
   ]
  },
  {
   "cell_type": "code",
   "execution_count": 59,
   "metadata": {
    "colab": {
     "base_uri": "https://localhost:8080/",
     "height": 35
    },
    "executionInfo": {
     "elapsed": 715,
     "status": "ok",
     "timestamp": 1611563552951,
     "user": {
      "displayName": "Arnau Cinca",
      "photoUrl": "",
      "userId": "11498925519927330328"
     },
     "user_tz": -60
    },
    "id": "ZlUR3XPX2VKj",
    "outputId": "0c1d3f45-6303-4000-b2e0-2aa1b754edb0"
   },
   "outputs": [
    {
     "data": {
      "application/vnd.google.colaboratory.intrinsic+json": {
       "type": "string"
      },
      "text/plain": [
       "'item1'"
      ]
     },
     "execution_count": 59,
     "metadata": {
      "tags": []
     },
     "output_type": "execute_result"
    }
   ],
   "source": [
    "d['key1']"
   ]
  },
  {
   "cell_type": "code",
   "execution_count": 60,
   "metadata": {
    "colab": {
     "base_uri": "https://localhost:8080/"
    },
    "executionInfo": {
     "elapsed": 860,
     "status": "ok",
     "timestamp": 1611563559882,
     "user": {
      "displayName": "Arnau Cinca",
      "photoUrl": "",
      "userId": "11498925519927330328"
     },
     "user_tz": -60
    },
    "id": "wnWFo0MZxwTK",
    "outputId": "53676717-13db-4634-d533-d4374e6bca55"
   },
   "outputs": [
    {
     "data": {
      "text/plain": [
       "{'a': 1, 'a_1': 5, 'b': 2}"
      ]
     },
     "execution_count": 60,
     "metadata": {
      "tags": []
     },
     "output_type": "execute_result"
    }
   ],
   "source": [
    "d2 = dict(a=1,b=2,a_1=5)\n",
    "d2"
   ]
  },
  {
   "cell_type": "code",
   "execution_count": 62,
   "metadata": {
    "colab": {
     "base_uri": "https://localhost:8080/"
    },
    "executionInfo": {
     "elapsed": 717,
     "status": "ok",
     "timestamp": 1611563584670,
     "user": {
      "displayName": "Arnau Cinca",
      "photoUrl": "",
      "userId": "11498925519927330328"
     },
     "user_tz": -60
    },
    "id": "pmwXTj4di0og",
    "outputId": "31ad8544-e75f-4aa8-d5fa-8e9424677097"
   },
   "outputs": [
    {
     "data": {
      "text/plain": [
       "[0, 1, 2, 3, 4, 5, 6, 7, 8, 9]"
      ]
     },
     "execution_count": 62,
     "metadata": {
      "tags": []
     },
     "output_type": "execute_result"
    }
   ],
   "source": [
    "list(range(10))"
   ]
  },
  {
   "cell_type": "code",
   "execution_count": 63,
   "metadata": {
    "colab": {
     "base_uri": "https://localhost:8080/"
    },
    "executionInfo": {
     "elapsed": 722,
     "status": "ok",
     "timestamp": 1611563603900,
     "user": {
      "displayName": "Arnau Cinca",
      "photoUrl": "",
      "userId": "11498925519927330328"
     },
     "user_tz": -60
    },
    "id": "up0vJIQcisOj",
    "outputId": "bb2c2c56-040f-4809-e34d-5dfcc68b7732"
   },
   "outputs": [
    {
     "name": "stdout",
     "output_type": "stream",
     "text": [
      "0\n",
      "1\n",
      "2\n",
      "3\n",
      "4\n",
      "5\n",
      "6\n",
      "7\n",
      "8\n",
      "9\n"
     ]
    }
   ],
   "source": [
    "for i in range(10):\n",
    "  print(i)"
   ]
  },
  {
   "cell_type": "code",
   "execution_count": 64,
   "metadata": {
    "colab": {
     "base_uri": "https://localhost:8080/"
    },
    "executionInfo": {
     "elapsed": 834,
     "status": "ok",
     "timestamp": 1611563636387,
     "user": {
      "displayName": "Arnau Cinca",
      "photoUrl": "",
      "userId": "11498925519927330328"
     },
     "user_tz": -60
    },
    "id": "qcHzHhluiWol",
    "outputId": "c4fba6c7-acb6-43fd-e3f1-5a674130cae8"
   },
   "outputs": [
    {
     "name": "stdout",
     "output_type": "stream",
     "text": [
      "a\n",
      "1\n",
      "2\n",
      "['3', 3]\n"
     ]
    }
   ],
   "source": [
    "my_list = ['a', 1, 2, ['3', 3]]\n",
    "for l in my_list:\n",
    "  print(l)"
   ]
  },
  {
   "cell_type": "code",
   "execution_count": 65,
   "metadata": {
    "colab": {
     "base_uri": "https://localhost:8080/"
    },
    "executionInfo": {
     "elapsed": 874,
     "status": "ok",
     "timestamp": 1611563646711,
     "user": {
      "displayName": "Arnau Cinca",
      "photoUrl": "",
      "userId": "11498925519927330328"
     },
     "user_tz": -60
    },
    "id": "O4DXfJcXyqFP",
    "outputId": "2133ff07-2e61-4739-ea13-69c6ee9fea99"
   },
   "outputs": [
    {
     "name": "stdout",
     "output_type": "stream",
     "text": [
      "a 1\n",
      "b 2\n",
      "a_1 5\n"
     ]
    }
   ],
   "source": [
    "for key,value in d2.items():\n",
    "  print(key,value)"
   ]
  },
  {
   "cell_type": "markdown",
   "metadata": {
    "id": "W9iIdRRo2VKo"
   },
   "source": [
    "### Booleans"
   ]
  },
  {
   "cell_type": "code",
   "execution_count": 66,
   "metadata": {
    "colab": {
     "base_uri": "https://localhost:8080/"
    },
    "executionInfo": {
     "elapsed": 955,
     "status": "ok",
     "timestamp": 1611563661984,
     "user": {
      "displayName": "Arnau Cinca",
      "photoUrl": "",
      "userId": "11498925519927330328"
     },
     "user_tz": -60
    },
    "id": "mKDOg3BP2VKo",
    "outputId": "5ace2a13-31bd-4ec7-b519-6cea7d0a3cd6"
   },
   "outputs": [
    {
     "data": {
      "text/plain": [
       "1"
      ]
     },
     "execution_count": 66,
     "metadata": {
      "tags": []
     },
     "output_type": "execute_result"
    }
   ],
   "source": [
    "int(True)"
   ]
  },
  {
   "cell_type": "code",
   "execution_count": 67,
   "metadata": {
    "colab": {
     "base_uri": "https://localhost:8080/"
    },
    "executionInfo": {
     "elapsed": 662,
     "status": "ok",
     "timestamp": 1611563661986,
     "user": {
      "displayName": "Arnau Cinca",
      "photoUrl": "",
      "userId": "11498925519927330328"
     },
     "user_tz": -60
    },
    "id": "l7c-3S0_2VKv",
    "outputId": "c3fb50ae-2139-455a-9d9b-13dae4451287"
   },
   "outputs": [
    {
     "data": {
      "text/plain": [
       "0"
      ]
     },
     "execution_count": 67,
     "metadata": {
      "tags": []
     },
     "output_type": "execute_result"
    }
   ],
   "source": [
    "int(False)"
   ]
  },
  {
   "cell_type": "markdown",
   "metadata": {
    "id": "5PB_s2w12VKy"
   },
   "source": [
    "### Tuples "
   ]
  },
  {
   "cell_type": "code",
   "execution_count": 68,
   "metadata": {
    "executionInfo": {
     "elapsed": 738,
     "status": "ok",
     "timestamp": 1611563670860,
     "user": {
      "displayName": "Arnau Cinca",
      "photoUrl": "",
      "userId": "11498925519927330328"
     },
     "user_tz": -60
    },
    "id": "WizgqaYu2VKz"
   },
   "outputs": [],
   "source": [
    "t = (1,2,3)"
   ]
  },
  {
   "cell_type": "code",
   "execution_count": 69,
   "metadata": {
    "colab": {
     "base_uri": "https://localhost:8080/"
    },
    "executionInfo": {
     "elapsed": 888,
     "status": "ok",
     "timestamp": 1611563672866,
     "user": {
      "displayName": "Arnau Cinca",
      "photoUrl": "",
      "userId": "11498925519927330328"
     },
     "user_tz": -60
    },
    "id": "IKicV1Gc2VK3",
    "outputId": "bfc3e48a-b31d-4054-a3bf-0deeb58dfd91"
   },
   "outputs": [
    {
     "data": {
      "text/plain": [
       "1"
      ]
     },
     "execution_count": 69,
     "metadata": {
      "tags": []
     },
     "output_type": "execute_result"
    }
   ],
   "source": [
    "t[0]"
   ]
  },
  {
   "cell_type": "code",
   "execution_count": 70,
   "metadata": {
    "colab": {
     "base_uri": "https://localhost:8080/",
     "height": 166
    },
    "executionInfo": {
     "elapsed": 779,
     "status": "error",
     "timestamp": 1611563672868,
     "user": {
      "displayName": "Arnau Cinca",
      "photoUrl": "",
      "userId": "11498925519927330328"
     },
     "user_tz": -60
    },
    "id": "46N78baI2VK8",
    "outputId": "e2930cd8-97e4-4b30-e7e9-7d421752cec5"
   },
   "outputs": [
    {
     "ename": "TypeError",
     "evalue": "ignored",
     "output_type": "error",
     "traceback": [
      "\u001b[0;31m---------------------------------------------------------------------------\u001b[0m",
      "\u001b[0;31mTypeError\u001b[0m                                 Traceback (most recent call last)",
      "\u001b[0;32m<ipython-input-70-388574e69c02>\u001b[0m in \u001b[0;36m<module>\u001b[0;34m()\u001b[0m\n\u001b[0;32m----> 1\u001b[0;31m \u001b[0mt\u001b[0m\u001b[0;34m[\u001b[0m\u001b[0;36m0\u001b[0m\u001b[0;34m]\u001b[0m \u001b[0;34m=\u001b[0m \u001b[0;34m'NEW'\u001b[0m \u001b[0;31m#porque la tupla es INMUTABLE\u001b[0m\u001b[0;34m\u001b[0m\u001b[0;34m\u001b[0m\u001b[0m\n\u001b[0m",
      "\u001b[0;31mTypeError\u001b[0m: 'tuple' object does not support item assignment"
     ]
    }
   ],
   "source": [
    "t[0] = 'NEW' #porque la tupla es INMUTABLE"
   ]
  },
  {
   "cell_type": "markdown",
   "metadata": {
    "id": "v8Zq1AdP2VK_"
   },
   "source": [
    "### Sets"
   ]
  },
  {
   "cell_type": "code",
   "execution_count": 71,
   "metadata": {
    "colab": {
     "base_uri": "https://localhost:8080/"
    },
    "executionInfo": {
     "elapsed": 717,
     "status": "ok",
     "timestamp": 1611563696992,
     "user": {
      "displayName": "Arnau Cinca",
      "photoUrl": "",
      "userId": "11498925519927330328"
     },
     "user_tz": -60
    },
    "id": "921YQGQ92VLA",
    "outputId": "2b2875aa-6fcf-44b7-8405-39e5ac99fa23"
   },
   "outputs": [
    {
     "data": {
      "text/plain": [
       "{1, 2, 3}"
      ]
     },
     "execution_count": 71,
     "metadata": {
      "tags": []
     },
     "output_type": "execute_result"
    }
   ],
   "source": [
    "{1,2,3}"
   ]
  },
  {
   "cell_type": "code",
   "execution_count": 72,
   "metadata": {
    "colab": {
     "base_uri": "https://localhost:8080/"
    },
    "executionInfo": {
     "elapsed": 800,
     "status": "ok",
     "timestamp": 1611563698860,
     "user": {
      "displayName": "Arnau Cinca",
      "photoUrl": "",
      "userId": "11498925519927330328"
     },
     "user_tz": -60
    },
    "id": "nRV791kW2VLC",
    "outputId": "8d9c9f98-63dd-4b6b-d306-91cdfe5cc2e4"
   },
   "outputs": [
    {
     "data": {
      "text/plain": [
       "{1, 2, 3}"
      ]
     },
     "execution_count": 72,
     "metadata": {
      "tags": []
     },
     "output_type": "execute_result"
    }
   ],
   "source": [
    "{1,2,3,1,2,1,2,3,3,3,3,2,2,2,1,1,2}"
   ]
  },
  {
   "cell_type": "markdown",
   "metadata": {
    "id": "lTRVEDwF2VLE"
   },
   "source": [
    "## Comparison Operators"
   ]
  },
  {
   "cell_type": "code",
   "execution_count": 73,
   "metadata": {
    "colab": {
     "base_uri": "https://localhost:8080/"
    },
    "executionInfo": {
     "elapsed": 816,
     "status": "ok",
     "timestamp": 1611563709173,
     "user": {
      "displayName": "Arnau Cinca",
      "photoUrl": "",
      "userId": "11498925519927330328"
     },
     "user_tz": -60
    },
    "id": "q9DuCCqj2VLG",
    "outputId": "e9ed194c-b9a8-4d13-afe5-2d682992b2e1"
   },
   "outputs": [
    {
     "data": {
      "text/plain": [
       "False"
      ]
     },
     "execution_count": 73,
     "metadata": {
      "tags": []
     },
     "output_type": "execute_result"
    }
   ],
   "source": [
    "1 > 2"
   ]
  },
  {
   "cell_type": "code",
   "execution_count": 74,
   "metadata": {
    "colab": {
     "base_uri": "https://localhost:8080/"
    },
    "executionInfo": {
     "elapsed": 1066,
     "status": "ok",
     "timestamp": 1611563709820,
     "user": {
      "displayName": "Arnau Cinca",
      "photoUrl": "",
      "userId": "11498925519927330328"
     },
     "user_tz": -60
    },
    "id": "VsK6ymKg2VLM",
    "outputId": "1ac31f2a-1a6e-4e83-a3ea-1f260196eee6"
   },
   "outputs": [
    {
     "data": {
      "text/plain": [
       "True"
      ]
     },
     "execution_count": 74,
     "metadata": {
      "tags": []
     },
     "output_type": "execute_result"
    }
   ],
   "source": [
    "1 < 2"
   ]
  },
  {
   "cell_type": "code",
   "execution_count": 75,
   "metadata": {
    "colab": {
     "base_uri": "https://localhost:8080/"
    },
    "executionInfo": {
     "elapsed": 1074,
     "status": "ok",
     "timestamp": 1611563711434,
     "user": {
      "displayName": "Arnau Cinca",
      "photoUrl": "",
      "userId": "11498925519927330328"
     },
     "user_tz": -60
    },
    "id": "7Yo-Fry82VLP",
    "outputId": "ab19d137-5c10-4dcb-ebd2-befc8de85097"
   },
   "outputs": [
    {
     "data": {
      "text/plain": [
       "True"
      ]
     },
     "execution_count": 75,
     "metadata": {
      "tags": []
     },
     "output_type": "execute_result"
    }
   ],
   "source": [
    "1 >= 1"
   ]
  },
  {
   "cell_type": "code",
   "execution_count": 76,
   "metadata": {
    "colab": {
     "base_uri": "https://localhost:8080/"
    },
    "executionInfo": {
     "elapsed": 723,
     "status": "ok",
     "timestamp": 1611563714440,
     "user": {
      "displayName": "Arnau Cinca",
      "photoUrl": "",
      "userId": "11498925519927330328"
     },
     "user_tz": -60
    },
    "id": "3g_GGfJH2VLR",
    "outputId": "9a17b8cb-59e9-4bd7-d3d6-d3898dcb9816"
   },
   "outputs": [
    {
     "data": {
      "text/plain": [
       "True"
      ]
     },
     "execution_count": 76,
     "metadata": {
      "tags": []
     },
     "output_type": "execute_result"
    }
   ],
   "source": [
    "1 <= 4"
   ]
  },
  {
   "cell_type": "code",
   "execution_count": 77,
   "metadata": {
    "colab": {
     "base_uri": "https://localhost:8080/"
    },
    "executionInfo": {
     "elapsed": 739,
     "status": "ok",
     "timestamp": 1611563716385,
     "user": {
      "displayName": "Arnau Cinca",
      "photoUrl": "",
      "userId": "11498925519927330328"
     },
     "user_tz": -60
    },
    "id": "uicjgyBl2VLT",
    "outputId": "442f778f-d5f8-40c5-8af1-5125118e9c07"
   },
   "outputs": [
    {
     "data": {
      "text/plain": [
       "True"
      ]
     },
     "execution_count": 77,
     "metadata": {
      "tags": []
     },
     "output_type": "execute_result"
    }
   ],
   "source": [
    "1 == 1"
   ]
  },
  {
   "cell_type": "code",
   "execution_count": 78,
   "metadata": {
    "colab": {
     "base_uri": "https://localhost:8080/"
    },
    "executionInfo": {
     "elapsed": 752,
     "status": "ok",
     "timestamp": 1611563718347,
     "user": {
      "displayName": "Arnau Cinca",
      "photoUrl": "",
      "userId": "11498925519927330328"
     },
     "user_tz": -60
    },
    "id": "aXy7Xc2E2VLW",
    "outputId": "6e13c715-9779-4a68-aa9b-719426b7b153"
   },
   "outputs": [
    {
     "data": {
      "text/plain": [
       "True"
      ]
     },
     "execution_count": 78,
     "metadata": {
      "tags": []
     },
     "output_type": "execute_result"
    }
   ],
   "source": [
    "'hi' != 'bye'"
   ]
  },
  {
   "cell_type": "markdown",
   "metadata": {
    "id": "AGQ3UMFf2VLY"
   },
   "source": [
    "## Logic Operators"
   ]
  },
  {
   "cell_type": "code",
   "execution_count": 79,
   "metadata": {
    "colab": {
     "base_uri": "https://localhost:8080/"
    },
    "executionInfo": {
     "elapsed": 1159,
     "status": "ok",
     "timestamp": 1611563729899,
     "user": {
      "displayName": "Arnau Cinca",
      "photoUrl": "",
      "userId": "11498925519927330328"
     },
     "user_tz": -60
    },
    "id": "lVXqOoB82VLY",
    "outputId": "4d5e6327-ebeb-48a0-8c45-bdc632d100f6"
   },
   "outputs": [
    {
     "data": {
      "text/plain": [
       "False"
      ]
     },
     "execution_count": 79,
     "metadata": {
      "tags": []
     },
     "output_type": "execute_result"
    }
   ],
   "source": [
    "(1 > 2) and (2 < 3)"
   ]
  },
  {
   "cell_type": "code",
   "execution_count": 80,
   "metadata": {
    "colab": {
     "base_uri": "https://localhost:8080/"
    },
    "executionInfo": {
     "elapsed": 1285,
     "status": "ok",
     "timestamp": 1611563730281,
     "user": {
      "displayName": "Arnau Cinca",
      "photoUrl": "",
      "userId": "11498925519927330328"
     },
     "user_tz": -60
    },
    "id": "VPThiXzz2VLb",
    "outputId": "2e3905eb-c2d7-4318-dcaa-2c1ce0ab395e"
   },
   "outputs": [
    {
     "data": {
      "text/plain": [
       "True"
      ]
     },
     "execution_count": 80,
     "metadata": {
      "tags": []
     },
     "output_type": "execute_result"
    }
   ],
   "source": [
    "(1 > 2) or (2 < 3)"
   ]
  },
  {
   "cell_type": "code",
   "execution_count": 81,
   "metadata": {
    "colab": {
     "base_uri": "https://localhost:8080/"
    },
    "executionInfo": {
     "elapsed": 561,
     "status": "ok",
     "timestamp": 1611563731611,
     "user": {
      "displayName": "Arnau Cinca",
      "photoUrl": "",
      "userId": "11498925519927330328"
     },
     "user_tz": -60
    },
    "id": "Klix-uCs2VLe",
    "outputId": "677e1fc6-0e76-48ba-da25-d8772c9da559"
   },
   "outputs": [
    {
     "data": {
      "text/plain": [
       "True"
      ]
     },
     "execution_count": 81,
     "metadata": {
      "tags": []
     },
     "output_type": "execute_result"
    }
   ],
   "source": [
    "(1 == 2) or (2 == 3) or (4 == 4)"
   ]
  },
  {
   "cell_type": "markdown",
   "metadata": {
    "id": "wAvUILDU2VLg"
   },
   "source": [
    "## if,elif, else Statements"
   ]
  },
  {
   "cell_type": "code",
   "execution_count": 82,
   "metadata": {
    "colab": {
     "base_uri": "https://localhost:8080/"
    },
    "executionInfo": {
     "elapsed": 749,
     "status": "ok",
     "timestamp": 1611563737641,
     "user": {
      "displayName": "Arnau Cinca",
      "photoUrl": "",
      "userId": "11498925519927330328"
     },
     "user_tz": -60
    },
    "id": "Je3z3OdQ2VLm",
    "outputId": "14258e1c-788e-4d55-e317-7da8c402b2de"
   },
   "outputs": [
    {
     "name": "stdout",
     "output_type": "stream",
     "text": [
      "yep!\n"
     ]
    }
   ],
   "source": [
    "if 1 < 2:\n",
    "    print('yep!')"
   ]
  },
  {
   "cell_type": "code",
   "execution_count": 86,
   "metadata": {
    "colab": {
     "base_uri": "https://localhost:8080/"
    },
    "executionInfo": {
     "elapsed": 714,
     "status": "ok",
     "timestamp": 1611563774994,
     "user": {
      "displayName": "Arnau Cinca",
      "photoUrl": "",
      "userId": "11498925519927330328"
     },
     "user_tz": -60
    },
    "id": "fVIy7Iof2VLp",
    "outputId": "b29d1def-9b69-465d-d6c6-92025cdee5cb"
   },
   "outputs": [
    {
     "name": "stdout",
     "output_type": "stream",
     "text": [
      "first\n"
     ]
    }
   ],
   "source": [
    "if 1 < 2:\n",
    "  print('first')\n",
    "else:\n",
    "    print('last')"
   ]
  },
  {
   "cell_type": "code",
   "execution_count": 87,
   "metadata": {
    "colab": {
     "base_uri": "https://localhost:8080/"
    },
    "executionInfo": {
     "elapsed": 806,
     "status": "ok",
     "timestamp": 1611563781001,
     "user": {
      "displayName": "Arnau Cinca",
      "photoUrl": "",
      "userId": "11498925519927330328"
     },
     "user_tz": -60
    },
    "id": "4jr2RMzk2VLr",
    "outputId": "3e82a90f-09f4-4a6d-a512-2c8777db2208"
   },
   "outputs": [
    {
     "name": "stdout",
     "output_type": "stream",
     "text": [
      "last\n"
     ]
    }
   ],
   "source": [
    "if 1 > 2:\n",
    "    print('first')\n",
    "else:\n",
    "    print('last')"
   ]
  },
  {
   "cell_type": "code",
   "execution_count": 88,
   "metadata": {
    "colab": {
     "base_uri": "https://localhost:8080/"
    },
    "executionInfo": {
     "elapsed": 711,
     "status": "ok",
     "timestamp": 1611563793209,
     "user": {
      "displayName": "Arnau Cinca",
      "photoUrl": "",
      "userId": "11498925519927330328"
     },
     "user_tz": -60
    },
    "id": "yxrk4OWS2VLu",
    "outputId": "b1f2006d-e3d6-4ff9-ac1e-c0e62b6126ad"
   },
   "outputs": [
    {
     "name": "stdout",
     "output_type": "stream",
     "text": [
      "middle\n"
     ]
    }
   ],
   "source": [
    "if 1 == 2:\n",
    "    print('first')\n",
    "elif 3 == 3:\n",
    "    print('middle')\n",
    "else:\n",
    "    print('Last')"
   ]
  },
  {
   "cell_type": "markdown",
   "metadata": {
    "id": "AkUt1gMs2VLx"
   },
   "source": [
    "## for Loops"
   ]
  },
  {
   "cell_type": "code",
   "execution_count": 89,
   "metadata": {
    "executionInfo": {
     "elapsed": 747,
     "status": "ok",
     "timestamp": 1611563804120,
     "user": {
      "displayName": "Arnau Cinca",
      "photoUrl": "",
      "userId": "11498925519927330328"
     },
     "user_tz": -60
    },
    "id": "2e-208U92VLy"
   },
   "outputs": [],
   "source": [
    "seq = [1,2,3,4,5]"
   ]
  },
  {
   "cell_type": "code",
   "execution_count": 90,
   "metadata": {
    "colab": {
     "base_uri": "https://localhost:8080/"
    },
    "executionInfo": {
     "elapsed": 494,
     "status": "ok",
     "timestamp": 1611563805154,
     "user": {
      "displayName": "Arnau Cinca",
      "photoUrl": "",
      "userId": "11498925519927330328"
     },
     "user_tz": -60
    },
    "id": "AqL8IhAH2VL1",
    "outputId": "73166386-5839-4609-82af-e88dad054eed"
   },
   "outputs": [
    {
     "name": "stdout",
     "output_type": "stream",
     "text": [
      "1\n",
      "2\n",
      "3\n",
      "4\n",
      "5\n"
     ]
    }
   ],
   "source": [
    "for item in seq:\n",
    "    print(item)"
   ]
  },
  {
   "cell_type": "code",
   "execution_count": 92,
   "metadata": {
    "colab": {
     "base_uri": "https://localhost:8080/"
    },
    "executionInfo": {
     "elapsed": 1062,
     "status": "ok",
     "timestamp": 1611563817311,
     "user": {
      "displayName": "Arnau Cinca",
      "photoUrl": "",
      "userId": "11498925519927330328"
     },
     "user_tz": -60
    },
    "id": "RufEWvpt2VL3",
    "outputId": "a52598ea-480d-45cb-cbac-e17ed8f58f03"
   },
   "outputs": [
    {
     "name": "stdout",
     "output_type": "stream",
     "text": [
      "Yep\n",
      "Yep\n",
      "Yep\n",
      "Yep\n",
      "Yep\n"
     ]
    }
   ],
   "source": [
    "for _ in seq:\n",
    "    print('Yep')"
   ]
  },
  {
   "cell_type": "code",
   "execution_count": 93,
   "metadata": {
    "colab": {
     "base_uri": "https://localhost:8080/"
    },
    "executionInfo": {
     "elapsed": 793,
     "status": "ok",
     "timestamp": 1611563822383,
     "user": {
      "displayName": "Arnau Cinca",
      "photoUrl": "",
      "userId": "11498925519927330328"
     },
     "user_tz": -60
    },
    "id": "-4PGKlcc2VL5",
    "outputId": "507ef48c-fcbc-4602-cfe5-ca3ffbea67fc"
   },
   "outputs": [
    {
     "name": "stdout",
     "output_type": "stream",
     "text": [
      "2\n",
      "4\n",
      "6\n",
      "8\n",
      "10\n"
     ]
    }
   ],
   "source": [
    "for jelly in seq:\n",
    "    print(jelly+jelly)"
   ]
  },
  {
   "cell_type": "markdown",
   "metadata": {
    "id": "rNFwCB-r2VL7"
   },
   "source": [
    "## while Loops"
   ]
  },
  {
   "cell_type": "code",
   "execution_count": 96,
   "metadata": {
    "colab": {
     "base_uri": "https://localhost:8080/"
    },
    "executionInfo": {
     "elapsed": 728,
     "status": "ok",
     "timestamp": 1611563867479,
     "user": {
      "displayName": "Arnau Cinca",
      "photoUrl": "",
      "userId": "11498925519927330328"
     },
     "user_tz": -60
    },
    "id": "VlH76sNK2VL8",
    "outputId": "6ee70a5e-aa16-4804-f891-f90a2be788fa"
   },
   "outputs": [
    {
     "name": "stdout",
     "output_type": "stream",
     "text": [
      "i is: 1\n",
      "i is: 2\n",
      "i is: 3\n",
      "i is: 4\n"
     ]
    }
   ],
   "source": [
    "i = 1\n",
    "while i < 5:\n",
    "    print('i is: {}'.format(i))\n",
    "    i = i+1"
   ]
  },
  {
   "cell_type": "markdown",
   "metadata": {
    "id": "LIn1fmkd2VL9"
   },
   "source": [
    "## range()"
   ]
  },
  {
   "cell_type": "code",
   "execution_count": 105,
   "metadata": {
    "colab": {
     "base_uri": "https://localhost:8080/"
    },
    "executionInfo": {
     "elapsed": 1434,
     "status": "ok",
     "timestamp": 1611563931031,
     "user": {
      "displayName": "Arnau Cinca",
      "photoUrl": "",
      "userId": "11498925519927330328"
     },
     "user_tz": -60
    },
    "id": "RezcyQLM2VL-",
    "outputId": "22f5e983-c9b1-4285-facf-04a3d94a5fcd"
   },
   "outputs": [
    {
     "data": {
      "text/plain": [
       "range(1, 5, 2)"
      ]
     },
     "execution_count": 105,
     "metadata": {
      "tags": []
     },
     "output_type": "execute_result"
    }
   ],
   "source": [
    "range(5)"
   ]
  },
  {
   "cell_type": "code",
   "execution_count": 99,
   "metadata": {
    "colab": {
     "base_uri": "https://localhost:8080/"
    },
    "executionInfo": {
     "elapsed": 746,
     "status": "ok",
     "timestamp": 1611563886802,
     "user": {
      "displayName": "Arnau Cinca",
      "photoUrl": "",
      "userId": "11498925519927330328"
     },
     "user_tz": -60
    },
    "id": "XnVw3klA2VMC",
    "outputId": "9cc3684c-7195-4395-ef38-9c9fd093eabf"
   },
   "outputs": [
    {
     "name": "stdout",
     "output_type": "stream",
     "text": [
      "0\n",
      "1\n",
      "2\n",
      "3\n",
      "4\n"
     ]
    }
   ],
   "source": [
    "for i in range(5):\n",
    "    print(i)"
   ]
  },
  {
   "cell_type": "code",
   "execution_count": 100,
   "metadata": {
    "colab": {
     "base_uri": "https://localhost:8080/"
    },
    "executionInfo": {
     "elapsed": 869,
     "status": "ok",
     "timestamp": 1611563890348,
     "user": {
      "displayName": "Arnau Cinca",
      "photoUrl": "",
      "userId": "11498925519927330328"
     },
     "user_tz": -60
    },
    "id": "RScjSbvN2VMH",
    "outputId": "13fb2be6-6cc3-44c8-bc65-1b5cd28381ac"
   },
   "outputs": [
    {
     "data": {
      "text/plain": [
       "[0, 1, 2, 3, 4]"
      ]
     },
     "execution_count": 100,
     "metadata": {
      "tags": []
     },
     "output_type": "execute_result"
    }
   ],
   "source": [
    "list(range(5))"
   ]
  },
  {
   "cell_type": "markdown",
   "metadata": {
    "id": "0srM_wRB2VML"
   },
   "source": [
    "## list comprehension"
   ]
  },
  {
   "cell_type": "code",
   "execution_count": 101,
   "metadata": {
    "executionInfo": {
     "elapsed": 1154,
     "status": "ok",
     "timestamp": 1611563900807,
     "user": {
      "displayName": "Arnau Cinca",
      "photoUrl": "",
      "userId": "11498925519927330328"
     },
     "user_tz": -60
    },
    "id": "BSVhDr5f2VML"
   },
   "outputs": [],
   "source": [
    "x = [1,2,3,4]"
   ]
  },
  {
   "cell_type": "code",
   "execution_count": 102,
   "metadata": {
    "colab": {
     "base_uri": "https://localhost:8080/"
    },
    "executionInfo": {
     "elapsed": 964,
     "status": "ok",
     "timestamp": 1611563902999,
     "user": {
      "displayName": "Arnau Cinca",
      "photoUrl": "",
      "userId": "11498925519927330328"
     },
     "user_tz": -60
    },
    "id": "bb84CMEq2VMQ",
    "outputId": "75a4b306-1b05-415a-a8a6-616b0d6e8338"
   },
   "outputs": [
    {
     "name": "stdout",
     "output_type": "stream",
     "text": [
      "[1, 4, 9, 16]\n"
     ]
    }
   ],
   "source": [
    "out = []\n",
    "for item in x:\n",
    "    out.append(item**2)\n",
    "print(out)"
   ]
  },
  {
   "cell_type": "code",
   "execution_count": 106,
   "metadata": {
    "colab": {
     "base_uri": "https://localhost:8080/"
    },
    "executionInfo": {
     "elapsed": 1149,
     "status": "ok",
     "timestamp": 1611563971185,
     "user": {
      "displayName": "Arnau Cinca",
      "photoUrl": "",
      "userId": "11498925519927330328"
     },
     "user_tz": -60
    },
    "id": "4-s_WOYOlXjJ",
    "outputId": "7201c68e-9065-410e-c7da-2d4beddce911"
   },
   "outputs": [
    {
     "data": {
      "text/plain": [
       "[2, 4, 6, 8, 10]"
      ]
     },
     "execution_count": 106,
     "metadata": {
      "tags": []
     },
     "output_type": "execute_result"
    }
   ],
   "source": [
    "[x for x in range(1,11) if x % 2 == 0]"
   ]
  },
  {
   "cell_type": "code",
   "execution_count": 107,
   "metadata": {
    "colab": {
     "base_uri": "https://localhost:8080/"
    },
    "executionInfo": {
     "elapsed": 748,
     "status": "ok",
     "timestamp": 1611563982374,
     "user": {
      "displayName": "Arnau Cinca",
      "photoUrl": "",
      "userId": "11498925519927330328"
     },
     "user_tz": -60
    },
    "id": "15-oJ_eT2VMW",
    "outputId": "cd003fd4-3a3f-44af-853a-487e09f29350"
   },
   "outputs": [
    {
     "data": {
      "text/plain": [
       "[1, 4, 9, 16]"
      ]
     },
     "execution_count": 107,
     "metadata": {
      "tags": []
     },
     "output_type": "execute_result"
    }
   ],
   "source": [
    "[item**2 for item in x]"
   ]
  },
  {
   "cell_type": "markdown",
   "metadata": {
    "id": "5LNiZEl22VMa"
   },
   "source": [
    "## functions"
   ]
  },
  {
   "cell_type": "code",
   "execution_count": 114,
   "metadata": {
    "executionInfo": {
     "elapsed": 812,
     "status": "ok",
     "timestamp": 1611564046414,
     "user": {
      "displayName": "Arnau Cinca",
      "photoUrl": "",
      "userId": "11498925519927330328"
     },
     "user_tz": -60
    },
    "id": "Zsiq9qRbl4EV"
   },
   "outputs": [],
   "source": [
    "def sum(a, b=2):\n",
    "  return a + b"
   ]
  },
  {
   "cell_type": "code",
   "execution_count": 115,
   "metadata": {
    "colab": {
     "base_uri": "https://localhost:8080/"
    },
    "executionInfo": {
     "elapsed": 944,
     "status": "ok",
     "timestamp": 1611564046786,
     "user": {
      "displayName": "Arnau Cinca",
      "photoUrl": "",
      "userId": "11498925519927330328"
     },
     "user_tz": -60
    },
    "id": "Prkf6bmll7Zl",
    "outputId": "65f0aaa7-e012-4e2a-aaa8-0ef38623323c"
   },
   "outputs": [
    {
     "data": {
      "text/plain": [
       "3"
      ]
     },
     "execution_count": 115,
     "metadata": {
      "tags": []
     },
     "output_type": "execute_result"
    }
   ],
   "source": [
    "sum(1)"
   ]
  },
  {
   "cell_type": "code",
   "execution_count": 122,
   "metadata": {
    "colab": {
     "base_uri": "https://localhost:8080/",
     "height": 35
    },
    "executionInfo": {
     "elapsed": 822,
     "status": "ok",
     "timestamp": 1611564094089,
     "user": {
      "displayName": "Arnau Cinca",
      "photoUrl": "",
      "userId": "11498925519927330328"
     },
     "user_tz": -60
    },
    "id": "WbEyc-81l9t8",
    "outputId": "caa68573-bb8a-4f45-b2e4-4df5dd087cf3"
   },
   "outputs": [
    {
     "data": {
      "application/vnd.google.colaboratory.intrinsic+json": {
       "type": "string"
      },
      "text/plain": [
       "'ahol'"
      ]
     },
     "execution_count": 122,
     "metadata": {
      "tags": []
     },
     "output_type": "execute_result"
    }
   ],
   "source": [
    "sum(b='hol',a='a')"
   ]
  },
  {
   "cell_type": "code",
   "execution_count": 117,
   "metadata": {
    "executionInfo": {
     "elapsed": 885,
     "status": "ok",
     "timestamp": 1611564055040,
     "user": {
      "displayName": "Arnau Cinca",
      "photoUrl": "",
      "userId": "11498925519927330328"
     },
     "user_tz": -60
    },
    "id": "QyKZByCL2VMa"
   },
   "outputs": [],
   "source": [
    "def my_func(param1):\n",
    "    \"\"\"\n",
    "    Docstring goes here.\n",
    "    \"\"\"\n",
    "    print(param1)"
   ]
  },
  {
   "cell_type": "code",
   "execution_count": 118,
   "metadata": {
    "colab": {
     "base_uri": "https://localhost:8080/"
    },
    "executionInfo": {
     "elapsed": 755,
     "status": "ok",
     "timestamp": 1611564058368,
     "user": {
      "displayName": "Arnau Cinca",
      "photoUrl": "",
      "userId": "11498925519927330328"
     },
     "user_tz": -60
    },
    "id": "80j07lUi2VMd",
    "outputId": "250e9a98-4d50-43c7-a059-45ac314d6f9b"
   },
   "outputs": [
    {
     "data": {
      "text/plain": [
       "<function __main__.my_func>"
      ]
     },
     "execution_count": 118,
     "metadata": {
      "tags": []
     },
     "output_type": "execute_result"
    }
   ],
   "source": [
    "my_func"
   ]
  },
  {
   "cell_type": "code",
   "execution_count": 119,
   "metadata": {
    "colab": {
     "base_uri": "https://localhost:8080/",
     "height": 166
    },
    "executionInfo": {
     "elapsed": 798,
     "status": "error",
     "timestamp": 1611564071472,
     "user": {
      "displayName": "Arnau Cinca",
      "photoUrl": "",
      "userId": "11498925519927330328"
     },
     "user_tz": -60
    },
    "id": "ox1njhAf2VMh",
    "outputId": "0d1bcfc8-8e3b-4062-83af-41e07ecf0c62"
   },
   "outputs": [
    {
     "ename": "TypeError",
     "evalue": "ignored",
     "output_type": "error",
     "traceback": [
      "\u001b[0;31m---------------------------------------------------------------------------\u001b[0m",
      "\u001b[0;31mTypeError\u001b[0m                                 Traceback (most recent call last)",
      "\u001b[0;32m<ipython-input-119-db3ada79940f>\u001b[0m in \u001b[0;36m<module>\u001b[0;34m()\u001b[0m\n\u001b[0;32m----> 1\u001b[0;31m \u001b[0mmy_func\u001b[0m\u001b[0;34m(\u001b[0m\u001b[0;34m)\u001b[0m\u001b[0;34m\u001b[0m\u001b[0;34m\u001b[0m\u001b[0m\n\u001b[0m",
      "\u001b[0;31mTypeError\u001b[0m: my_func() missing 1 required positional argument: 'param1'"
     ]
    }
   ],
   "source": [
    "my_func()"
   ]
  },
  {
   "cell_type": "code",
   "execution_count": 120,
   "metadata": {
    "colab": {
     "base_uri": "https://localhost:8080/"
    },
    "executionInfo": {
     "elapsed": 721,
     "status": "ok",
     "timestamp": 1611564074210,
     "user": {
      "displayName": "Arnau Cinca",
      "photoUrl": "",
      "userId": "11498925519927330328"
     },
     "user_tz": -60
    },
    "id": "RGVjCpLB2VMm",
    "outputId": "bb908999-b554-4979-82da-a9a0471ffa63"
   },
   "outputs": [
    {
     "name": "stdout",
     "output_type": "stream",
     "text": [
      "new param\n"
     ]
    }
   ],
   "source": [
    "my_func('new param')"
   ]
  },
  {
   "cell_type": "code",
   "execution_count": 121,
   "metadata": {
    "colab": {
     "base_uri": "https://localhost:8080/"
    },
    "executionInfo": {
     "elapsed": 763,
     "status": "ok",
     "timestamp": 1611564077878,
     "user": {
      "displayName": "Arnau Cinca",
      "photoUrl": "",
      "userId": "11498925519927330328"
     },
     "user_tz": -60
    },
    "id": "ICEHAGUU2VMp",
    "outputId": "350ee880-9578-42c9-a2a0-f3800e3429aa"
   },
   "outputs": [
    {
     "name": "stdout",
     "output_type": "stream",
     "text": [
      "new param\n"
     ]
    }
   ],
   "source": [
    "my_func(param1='new param')"
   ]
  },
  {
   "cell_type": "code",
   "execution_count": 123,
   "metadata": {
    "executionInfo": {
     "elapsed": 752,
     "status": "ok",
     "timestamp": 1611564107318,
     "user": {
      "displayName": "Arnau Cinca",
      "photoUrl": "",
      "userId": "11498925519927330328"
     },
     "user_tz": -60
    },
    "id": "fCzafzgN2VMr"
   },
   "outputs": [],
   "source": [
    "def square(x):\n",
    "    return x**2"
   ]
  },
  {
   "cell_type": "code",
   "execution_count": 124,
   "metadata": {
    "executionInfo": {
     "elapsed": 829,
     "status": "ok",
     "timestamp": 1611564108797,
     "user": {
      "displayName": "Arnau Cinca",
      "photoUrl": "",
      "userId": "11498925519927330328"
     },
     "user_tz": -60
    },
    "id": "mZ7Dw9zE2VMt"
   },
   "outputs": [],
   "source": [
    "out = square(2)"
   ]
  },
  {
   "cell_type": "code",
   "execution_count": 125,
   "metadata": {
    "colab": {
     "base_uri": "https://localhost:8080/"
    },
    "executionInfo": {
     "elapsed": 716,
     "status": "ok",
     "timestamp": 1611564112099,
     "user": {
      "displayName": "Arnau Cinca",
      "photoUrl": "",
      "userId": "11498925519927330328"
     },
     "user_tz": -60
    },
    "id": "wke9MY-t2VMy",
    "outputId": "960e7413-49c7-42ec-f57e-9159f137d3d7",
    "scrolled": true
   },
   "outputs": [
    {
     "name": "stdout",
     "output_type": "stream",
     "text": [
      "4\n"
     ]
    }
   ],
   "source": [
    "print(out)"
   ]
  },
  {
   "cell_type": "markdown",
   "metadata": {
    "id": "hRoRmOAc2VM3"
   },
   "source": [
    "## lambda expressions"
   ]
  },
  {
   "cell_type": "code",
   "execution_count": 126,
   "metadata": {
    "executionInfo": {
     "elapsed": 704,
     "status": "ok",
     "timestamp": 1611564125363,
     "user": {
      "displayName": "Arnau Cinca",
      "photoUrl": "",
      "userId": "11498925519927330328"
     },
     "user_tz": -60
    },
    "id": "PRyVsSZk2VM4"
   },
   "outputs": [],
   "source": [
    "def times2(var):\n",
    "    return var*2"
   ]
  },
  {
   "cell_type": "code",
   "execution_count": 127,
   "metadata": {
    "colab": {
     "base_uri": "https://localhost:8080/"
    },
    "executionInfo": {
     "elapsed": 715,
     "status": "ok",
     "timestamp": 1611564127279,
     "user": {
      "displayName": "Arnau Cinca",
      "photoUrl": "",
      "userId": "11498925519927330328"
     },
     "user_tz": -60
    },
    "id": "voJgbKAM2VM7",
    "outputId": "acd2979e-34dc-47b7-c308-686d1f68ae47"
   },
   "outputs": [
    {
     "data": {
      "text/plain": [
       "4"
      ]
     },
     "execution_count": 127,
     "metadata": {
      "tags": []
     },
     "output_type": "execute_result"
    }
   ],
   "source": [
    "times2(2)"
   ]
  },
  {
   "cell_type": "code",
   "execution_count": 128,
   "metadata": {
    "executionInfo": {
     "elapsed": 701,
     "status": "ok",
     "timestamp": 1611564133534,
     "user": {
      "displayName": "Arnau Cinca",
      "photoUrl": "",
      "userId": "11498925519927330328"
     },
     "user_tz": -60
    },
    "id": "g95tcbMZ2VM9"
   },
   "outputs": [],
   "source": [
    "a = lambda var: var*2"
   ]
  },
  {
   "cell_type": "code",
   "execution_count": 131,
   "metadata": {
    "colab": {
     "base_uri": "https://localhost:8080/"
    },
    "executionInfo": {
     "elapsed": 744,
     "status": "ok",
     "timestamp": 1611564200444,
     "user": {
      "displayName": "Arnau Cinca",
      "photoUrl": "",
      "userId": "11498925519927330328"
     },
     "user_tz": -60
    },
    "id": "fv8Q_0SDmwZp",
    "outputId": "c7c41a74-75dd-4412-c55e-f170a0d86ca2"
   },
   "outputs": [
    {
     "data": {
      "text/plain": [
       "6"
      ]
     },
     "execution_count": 131,
     "metadata": {
      "tags": []
     },
     "output_type": "execute_result"
    }
   ],
   "source": [
    "a(3)"
   ]
  },
  {
   "cell_type": "markdown",
   "metadata": {
    "id": "2I0BISW-2VM_"
   },
   "source": [
    "## map and filter"
   ]
  },
  {
   "cell_type": "code",
   "execution_count": 132,
   "metadata": {
    "executionInfo": {
     "elapsed": 753,
     "status": "ok",
     "timestamp": 1611564205255,
     "user": {
      "displayName": "Arnau Cinca",
      "photoUrl": "",
      "userId": "11498925519927330328"
     },
     "user_tz": -60
    },
    "id": "Pt_MY0Pq2VM_"
   },
   "outputs": [],
   "source": [
    "seq = [1,2,3,4,5]"
   ]
  },
  {
   "cell_type": "code",
   "execution_count": 136,
   "metadata": {
    "colab": {
     "base_uri": "https://localhost:8080/"
    },
    "executionInfo": {
     "elapsed": 696,
     "status": "ok",
     "timestamp": 1611564247675,
     "user": {
      "displayName": "Arnau Cinca",
      "photoUrl": "",
      "userId": "11498925519927330328"
     },
     "user_tz": -60
    },
    "id": "KkTvRiHz2VND",
    "outputId": "7bd8f754-fd51-45e7-dda7-eff31aab3abb"
   },
   "outputs": [
    {
     "data": {
      "text/plain": [
       "[2, 4, 6, 8, 10]"
      ]
     },
     "execution_count": 136,
     "metadata": {
      "tags": []
     },
     "output_type": "execute_result"
    }
   ],
   "source": [
    "list(map(times2,seq))"
   ]
  },
  {
   "cell_type": "code",
   "execution_count": 134,
   "metadata": {
    "colab": {
     "base_uri": "https://localhost:8080/"
    },
    "executionInfo": {
     "elapsed": 710,
     "status": "ok",
     "timestamp": 1611564219524,
     "user": {
      "displayName": "Arnau Cinca",
      "photoUrl": "",
      "userId": "11498925519927330328"
     },
     "user_tz": -60
    },
    "id": "WaKPkkORnJR8",
    "outputId": "88017b2d-b573-4d27-929f-3e52c1b955a8"
   },
   "outputs": [
    {
     "data": {
      "text/plain": [
       "[2, 4, 6, 8, 10]"
      ]
     },
     "execution_count": 134,
     "metadata": {
      "tags": []
     },
     "output_type": "execute_result"
    }
   ],
   "source": [
    "[times2(x) for x in seq]"
   ]
  },
  {
   "cell_type": "code",
   "execution_count": 137,
   "metadata": {
    "executionInfo": {
     "elapsed": 776,
     "status": "ok",
     "timestamp": 1611564250703,
     "user": {
      "displayName": "Arnau Cinca",
      "photoUrl": "",
      "userId": "11498925519927330328"
     },
     "user_tz": -60
    },
    "id": "9KQYaekZnmqS"
   },
   "outputs": [],
   "source": [
    "def map(f, l):\n",
    "  return [f(x) for x in l]"
   ]
  },
  {
   "cell_type": "code",
   "execution_count": null,
   "metadata": {
    "id": "eaJogv3DnxBe"
   },
   "outputs": [],
   "source": []
  },
  {
   "cell_type": "code",
   "execution_count": 138,
   "metadata": {
    "colab": {
     "base_uri": "https://localhost:8080/"
    },
    "executionInfo": {
     "elapsed": 814,
     "status": "ok",
     "timestamp": 1611564261190,
     "user": {
      "displayName": "Arnau Cinca",
      "photoUrl": "",
      "userId": "11498925519927330328"
     },
     "user_tz": -60
    },
    "id": "xNGhBGB42VNE",
    "outputId": "741452ea-790a-46bd-dc4a-f1bc0f5ff5ee"
   },
   "outputs": [
    {
     "data": {
      "text/plain": [
       "[2, 4, 6, 8, 10]"
      ]
     },
     "execution_count": 138,
     "metadata": {
      "tags": []
     },
     "output_type": "execute_result"
    }
   ],
   "source": [
    "list(map(times2,seq))"
   ]
  },
  {
   "cell_type": "code",
   "execution_count": 139,
   "metadata": {
    "colab": {
     "base_uri": "https://localhost:8080/"
    },
    "executionInfo": {
     "elapsed": 770,
     "status": "ok",
     "timestamp": 1611564283585,
     "user": {
      "displayName": "Arnau Cinca",
      "photoUrl": "",
      "userId": "11498925519927330328"
     },
     "user_tz": -60
    },
    "id": "ZjgPwjvH2VNG",
    "outputId": "c1304ffd-a88a-4d4a-84ac-25fdfcd52f7f"
   },
   "outputs": [
    {
     "data": {
      "text/plain": [
       "[2, 4, 6, 8, 10]"
      ]
     },
     "execution_count": 139,
     "metadata": {
      "tags": []
     },
     "output_type": "execute_result"
    }
   ],
   "source": [
    "list(map(lambda var: var*2,seq))"
   ]
  },
  {
   "cell_type": "code",
   "execution_count": 140,
   "metadata": {
    "colab": {
     "base_uri": "https://localhost:8080/"
    },
    "executionInfo": {
     "elapsed": 857,
     "status": "ok",
     "timestamp": 1611564285348,
     "user": {
      "displayName": "Arnau Cinca",
      "photoUrl": "",
      "userId": "11498925519927330328"
     },
     "user_tz": -60
    },
    "id": "3UEGOz3j2VNL",
    "outputId": "6e57165d-ba0c-47b1-c405-a8f8187667e1"
   },
   "outputs": [
    {
     "data": {
      "text/plain": [
       "<filter at 0x7fc527b05f28>"
      ]
     },
     "execution_count": 140,
     "metadata": {
      "tags": []
     },
     "output_type": "execute_result"
    }
   ],
   "source": [
    "filter(lambda item: item%2 == 0,seq)"
   ]
  },
  {
   "cell_type": "code",
   "execution_count": 141,
   "metadata": {
    "colab": {
     "base_uri": "https://localhost:8080/"
    },
    "executionInfo": {
     "elapsed": 810,
     "status": "ok",
     "timestamp": 1611564312424,
     "user": {
      "displayName": "Arnau Cinca",
      "photoUrl": "",
      "userId": "11498925519927330328"
     },
     "user_tz": -60
    },
    "id": "4sRysYOh2VNN",
    "outputId": "b0ce9715-3ae2-4e98-9e33-0762e238ec1e"
   },
   "outputs": [
    {
     "data": {
      "text/plain": [
       "[2, 4]"
      ]
     },
     "execution_count": 141,
     "metadata": {
      "tags": []
     },
     "output_type": "execute_result"
    }
   ],
   "source": [
    "list(filter(lambda item: item%2 == 0,seq))"
   ]
  },
  {
   "cell_type": "markdown",
   "metadata": {
    "id": "_xQVv5Bg2VNR"
   },
   "source": [
    "## methods"
   ]
  },
  {
   "cell_type": "code",
   "execution_count": 142,
   "metadata": {
    "executionInfo": {
     "elapsed": 717,
     "status": "ok",
     "timestamp": 1611564332749,
     "user": {
      "displayName": "Arnau Cinca",
      "photoUrl": "",
      "userId": "11498925519927330328"
     },
     "user_tz": -60
    },
    "id": "HMqlyBQp2VNS"
   },
   "outputs": [],
   "source": [
    "st = 'hello my name is Arnau'"
   ]
  },
  {
   "cell_type": "code",
   "execution_count": 143,
   "metadata": {
    "colab": {
     "base_uri": "https://localhost:8080/",
     "height": 35
    },
    "executionInfo": {
     "elapsed": 684,
     "status": "ok",
     "timestamp": 1611564335028,
     "user": {
      "displayName": "Arnau Cinca",
      "photoUrl": "",
      "userId": "11498925519927330328"
     },
     "user_tz": -60
    },
    "id": "sFUK1Hl-2VNW",
    "outputId": "ecfe5b8e-711a-4b85-a204-6ea1e058bbcf"
   },
   "outputs": [
    {
     "data": {
      "application/vnd.google.colaboratory.intrinsic+json": {
       "type": "string"
      },
      "text/plain": [
       "'hello my name is arnau'"
      ]
     },
     "execution_count": 143,
     "metadata": {
      "tags": []
     },
     "output_type": "execute_result"
    }
   ],
   "source": [
    "st.lower()"
   ]
  },
  {
   "cell_type": "code",
   "execution_count": 144,
   "metadata": {
    "colab": {
     "base_uri": "https://localhost:8080/",
     "height": 35
    },
    "executionInfo": {
     "elapsed": 938,
     "status": "ok",
     "timestamp": 1611564341949,
     "user": {
      "displayName": "Arnau Cinca",
      "photoUrl": "",
      "userId": "11498925519927330328"
     },
     "user_tz": -60
    },
    "id": "BXAVegDq2VNb",
    "outputId": "b3b84a7e-120a-491e-8014-43cf33afa789"
   },
   "outputs": [
    {
     "data": {
      "application/vnd.google.colaboratory.intrinsic+json": {
       "type": "string"
      },
      "text/plain": [
       "'HELLO MY NAME IS ARNAU'"
      ]
     },
     "execution_count": 144,
     "metadata": {
      "tags": []
     },
     "output_type": "execute_result"
    }
   ],
   "source": [
    "st.upper()"
   ]
  },
  {
   "cell_type": "code",
   "execution_count": 148,
   "metadata": {
    "colab": {
     "base_uri": "https://localhost:8080/"
    },
    "executionInfo": {
     "elapsed": 723,
     "status": "ok",
     "timestamp": 1611564369486,
     "user": {
      "displayName": "Arnau Cinca",
      "photoUrl": "",
      "userId": "11498925519927330328"
     },
     "user_tz": -60
    },
    "id": "7lIAAGsN2VNf",
    "outputId": "1044c033-055b-4f0b-8f8d-9c3a2bc05f41"
   },
   "outputs": [
    {
     "data": {
      "text/plain": [
       "['hello', 'my', 'name', 'is', 'Arnau']"
      ]
     },
     "execution_count": 148,
     "metadata": {
      "tags": []
     },
     "output_type": "execute_result"
    }
   ],
   "source": [
    "st.split()"
   ]
  },
  {
   "cell_type": "code",
   "execution_count": 149,
   "metadata": {
    "executionInfo": {
     "elapsed": 1001,
     "status": "ok",
     "timestamp": 1611564371009,
     "user": {
      "displayName": "Arnau Cinca",
      "photoUrl": "",
      "userId": "11498925519927330328"
     },
     "user_tz": -60
    },
    "id": "55gu9uWe2VNt"
   },
   "outputs": [],
   "source": [
    "tweet = 'Go Sports! #Sports'"
   ]
  },
  {
   "cell_type": "code",
   "execution_count": 150,
   "metadata": {
    "colab": {
     "base_uri": "https://localhost:8080/"
    },
    "executionInfo": {
     "elapsed": 847,
     "status": "ok",
     "timestamp": 1611564372581,
     "user": {
      "displayName": "Arnau Cinca",
      "photoUrl": "",
      "userId": "11498925519927330328"
     },
     "user_tz": -60
    },
    "id": "19jd0M802VNv",
    "outputId": "445f4c15-7ca0-452f-9543-ceb9684717c5"
   },
   "outputs": [
    {
     "data": {
      "text/plain": [
       "['Go Sports! ', 'Sports']"
      ]
     },
     "execution_count": 150,
     "metadata": {
      "tags": []
     },
     "output_type": "execute_result"
    }
   ],
   "source": [
    "tweet.split('#')"
   ]
  },
  {
   "cell_type": "code",
   "execution_count": 151,
   "metadata": {
    "colab": {
     "base_uri": "https://localhost:8080/",
     "height": 35
    },
    "executionInfo": {
     "elapsed": 808,
     "status": "ok",
     "timestamp": 1611564378064,
     "user": {
      "displayName": "Arnau Cinca",
      "photoUrl": "",
      "userId": "11498925519927330328"
     },
     "user_tz": -60
    },
    "id": "GgHCweZY2VN0",
    "outputId": "73b29648-2d1b-4c83-d435-ca79191c4534"
   },
   "outputs": [
    {
     "data": {
      "application/vnd.google.colaboratory.intrinsic+json": {
       "type": "string"
      },
      "text/plain": [
       "'Sports'"
      ]
     },
     "execution_count": 151,
     "metadata": {
      "tags": []
     },
     "output_type": "execute_result"
    }
   ],
   "source": [
    "tweet.split('#')[1]"
   ]
  },
  {
   "cell_type": "code",
   "execution_count": 152,
   "metadata": {
    "colab": {
     "base_uri": "https://localhost:8080/"
    },
    "executionInfo": {
     "elapsed": 739,
     "status": "ok",
     "timestamp": 1611564385036,
     "user": {
      "displayName": "Arnau Cinca",
      "photoUrl": "",
      "userId": "11498925519927330328"
     },
     "user_tz": -60
    },
    "id": "ENVga-YE2VN5",
    "outputId": "cdb25aab-0023-43fa-ca84-c488630bcf7b"
   },
   "outputs": [
    {
     "data": {
      "text/plain": [
       "{'key1': 'item1', 'key2': 'item2'}"
      ]
     },
     "execution_count": 152,
     "metadata": {
      "tags": []
     },
     "output_type": "execute_result"
    }
   ],
   "source": [
    "d"
   ]
  },
  {
   "cell_type": "code",
   "execution_count": 153,
   "metadata": {
    "colab": {
     "base_uri": "https://localhost:8080/"
    },
    "executionInfo": {
     "elapsed": 714,
     "status": "ok",
     "timestamp": 1611564393884,
     "user": {
      "displayName": "Arnau Cinca",
      "photoUrl": "",
      "userId": "11498925519927330328"
     },
     "user_tz": -60
    },
    "id": "EKLVpmky2VN9",
    "outputId": "637dc7f5-f64f-4cb4-b839-57de1649afec"
   },
   "outputs": [
    {
     "data": {
      "text/plain": [
       "dict_keys(['key1', 'key2'])"
      ]
     },
     "execution_count": 153,
     "metadata": {
      "tags": []
     },
     "output_type": "execute_result"
    }
   ],
   "source": [
    "d.keys()"
   ]
  },
  {
   "cell_type": "code",
   "execution_count": 154,
   "metadata": {
    "colab": {
     "base_uri": "https://localhost:8080/"
    },
    "executionInfo": {
     "elapsed": 742,
     "status": "ok",
     "timestamp": 1611564395654,
     "user": {
      "displayName": "Arnau Cinca",
      "photoUrl": "",
      "userId": "11498925519927330328"
     },
     "user_tz": -60
    },
    "id": "4fniph9d2VOC",
    "outputId": "94b7eb76-d831-4ecf-e06d-c1c7a01a9230"
   },
   "outputs": [
    {
     "data": {
      "text/plain": [
       "dict_items([('key1', 'item1'), ('key2', 'item2')])"
      ]
     },
     "execution_count": 154,
     "metadata": {
      "tags": []
     },
     "output_type": "execute_result"
    }
   ],
   "source": [
    "d.items()"
   ]
  },
  {
   "cell_type": "code",
   "execution_count": 155,
   "metadata": {
    "executionInfo": {
     "elapsed": 739,
     "status": "ok",
     "timestamp": 1611564405294,
     "user": {
      "displayName": "Arnau Cinca",
      "photoUrl": "",
      "userId": "11498925519927330328"
     },
     "user_tz": -60
    },
    "id": "R4AuSDdF2VOF"
   },
   "outputs": [],
   "source": [
    "lst = [1,2,3]"
   ]
  },
  {
   "cell_type": "code",
   "execution_count": 156,
   "metadata": {
    "colab": {
     "base_uri": "https://localhost:8080/"
    },
    "executionInfo": {
     "elapsed": 773,
     "status": "ok",
     "timestamp": 1611564406985,
     "user": {
      "displayName": "Arnau Cinca",
      "photoUrl": "",
      "userId": "11498925519927330328"
     },
     "user_tz": -60
    },
    "id": "obtEPelX2VOI",
    "outputId": "429b5c1d-cc52-421c-958c-f673cd54b7e3"
   },
   "outputs": [
    {
     "data": {
      "text/plain": [
       "3"
      ]
     },
     "execution_count": 156,
     "metadata": {
      "tags": []
     },
     "output_type": "execute_result"
    }
   ],
   "source": [
    "lst.pop()"
   ]
  },
  {
   "cell_type": "code",
   "execution_count": 157,
   "metadata": {
    "colab": {
     "base_uri": "https://localhost:8080/"
    },
    "executionInfo": {
     "elapsed": 886,
     "status": "ok",
     "timestamp": 1611564411905,
     "user": {
      "displayName": "Arnau Cinca",
      "photoUrl": "",
      "userId": "11498925519927330328"
     },
     "user_tz": -60
    },
    "id": "qGJdR2j42VOP",
    "outputId": "088368a2-8ec2-47ac-9fa1-9ac2f6258419"
   },
   "outputs": [
    {
     "data": {
      "text/plain": [
       "[1, 2]"
      ]
     },
     "execution_count": 157,
     "metadata": {
      "tags": []
     },
     "output_type": "execute_result"
    }
   ],
   "source": [
    "lst"
   ]
  },
  {
   "cell_type": "code",
   "execution_count": 158,
   "metadata": {
    "colab": {
     "base_uri": "https://localhost:8080/"
    },
    "executionInfo": {
     "elapsed": 865,
     "status": "ok",
     "timestamp": 1611564420608,
     "user": {
      "displayName": "Arnau Cinca",
      "photoUrl": "",
      "userId": "11498925519927330328"
     },
     "user_tz": -60
    },
    "id": "aHbDga3j2VOT",
    "outputId": "d6b68fa4-0bc0-4249-ef2a-d3e4dc6918ab"
   },
   "outputs": [
    {
     "data": {
      "text/plain": [
       "False"
      ]
     },
     "execution_count": 158,
     "metadata": {
      "tags": []
     },
     "output_type": "execute_result"
    }
   ],
   "source": [
    "'x' in [1,2,3]"
   ]
  },
  {
   "cell_type": "code",
   "execution_count": 159,
   "metadata": {
    "colab": {
     "base_uri": "https://localhost:8080/"
    },
    "executionInfo": {
     "elapsed": 763,
     "status": "ok",
     "timestamp": 1611564427902,
     "user": {
      "displayName": "Arnau Cinca",
      "photoUrl": "",
      "userId": "11498925519927330328"
     },
     "user_tz": -60
    },
    "id": "xMn5htZE2VOZ",
    "outputId": "8a4c1d80-7434-4b74-caf7-ab1e3796dc43"
   },
   "outputs": [
    {
     "data": {
      "text/plain": [
       "True"
      ]
     },
     "execution_count": 159,
     "metadata": {
      "tags": []
     },
     "output_type": "execute_result"
    }
   ],
   "source": [
    "'x' in ['x','y','z']"
   ]
  },
  {
   "cell_type": "markdown",
   "metadata": {
    "id": "KebQPxfA2VOf"
   },
   "source": [
    "# Great Job!"
   ]
  }
 ],
 "metadata": {
  "colab": {
   "collapsed_sections": [],
   "name": "Python.ipynb",
   "provenance": []
  },
  "kernelspec": {
   "display_name": "Python 3",
   "language": "python",
   "name": "python3"
  },
  "language_info": {
   "codemirror_mode": {
    "name": "ipython",
    "version": 3
   },
   "file_extension": ".py",
   "mimetype": "text/x-python",
   "name": "python",
   "nbconvert_exporter": "python",
   "pygments_lexer": "ipython3",
   "version": "3.7.3"
  }
 },
 "nbformat": 4,
 "nbformat_minor": 1
}
