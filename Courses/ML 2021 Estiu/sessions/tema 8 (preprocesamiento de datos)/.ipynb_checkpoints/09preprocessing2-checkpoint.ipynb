{
 "cells": [
  {
   "cell_type": "markdown",
   "metadata": {},
   "source": [
    "`Lab creado por Margarita Geleta para el curso Introducción a Machine Learning JEDI, edición 2021`\n",
    "\n",
    "# [IX] Preprocesamiento de datos (Parte 2)\n",
    "\n",
    "> Garbage in, Garbage out\n",
    "\n",
    "### Valores nulos y NAs\n",
    "\n",
    "Primero de todo, hemos de mirar si nuestro dataset está completo. Si tenemos valores nulos, debemos identificar como estan indentificados: `NA`, `?`, `-`, `-1`, `9999` ... En Python los valores missing se codifican como `NA`, si no los tratará como valores.\n",
    "\n",
    "##### Ejemplo\n",
    "En una encuesta se pregunta a las personas sobre su salario. Como más cobre, más probable es que responda con un `NA` y normalmente tenemos más personas que ganan menos. La realidad mostraría una media de `M`, aunque, como que tenemos muchos `NA`s debido al hecho que muchas personas que ganan mucho no conrtestan en la encuesta. Si eliminamos los `NA`s tendremos una media con cesgo `M' < M`. Así que eliminando los missings, obtenemos una media con cesgo.\n",
    "\n",
    "#### Hay 3 tipos de `NA`s\n",
    "\n",
    "- **MCAR** (Missing Completely At Random): los valores faltantes realmente son aleatorios. No sabemos la causa de su ausencia y no hay otras variables que la expliquen. No podemos estimar su valor. Si no son muchos valores faltantes, los podemos eliminar. Aunque a medida que vayamos eliminando más datos, perderemos precisión en nuestros modelos, por eso sería más interesante estimar los valores.\n",
    "\n",
    "- **MAR** (Missing At Random): la probabilidad de la falta de un valor puede ser condicionada por otras variables. Podemos estimar el valor a partir de otras variables.\n",
    "\n",
    "- **MNAR** (Missing Not At Random): la probabilidad de la falta de un valor depende directamente de otras variables.\n",
    "\n",
    "#### Estrategias para afrontar `NA`s\n",
    "\n",
    "- **Eliminar valores faltantes**: pero la precisión disminuye ya que el tamaño del dataset disminuye. Además la inferencia estadística puede tener cesgo si los `NA`s no son MCAR. \n",
    "\n",
    "- **Imputar los valores con un valor razonable**: se conoce como *single imputation*. Por ejemplo, imputar con la media de los valores de la columna. Pero puede ser mala idea si tenemos una clara relación entre las variables (por ej. caso lineal).\n",
    "\n",
    "- **Imputar los valores a partir de un modelo**: podemos ajustar un modelo y imputar con valores predichos por el modelo (por ej. caso lineal, kNN). También podemos imputar con un cierto error, para que los puntos caigan no directamente en el modelo.\n",
    "\n",
    "- **Imputar varias veces con subconjuntos de datos diferentes**: es un método más sofisticado, llamado *multiple imputation*. Imputar varias veces los valores faltantes y comparar que valores obtenemos.\n",
    "\n",
    "#### ¿Cómo afrontar los ceros?\n",
    "\n",
    "Los ceros es un tema delicado. Los ceros, a veces, pueden ser de hecho valores perdidos. Aparecen confusiones y complicaciones cuando algunos ceros son reales y otros son valores faltantes. Por ejemplo, en Excel, los datos faltantes se codifican con ceros por defecto. Hay que identificar si son datos nulos realmente o datos faltantes - la conclusión del estudio puede cambiar.\n"
   ]
  },
  {
   "cell_type": "markdown",
   "metadata": {},
   "source": [
    "### Imputar con `scikit-sklearn`\n",
    "\n",
    "`SimpleImputer`nos permite rellenar los valores perdidos con un simple valor, que podría ser la media, la mediana o el valor más frecuente, por ejemplo."
   ]
  },
  {
   "cell_type": "code",
   "execution_count": 1,
   "metadata": {},
   "outputs": [
    {
     "data": {
      "text/html": [
       "<div>\n",
       "<style scoped>\n",
       "    .dataframe tbody tr th:only-of-type {\n",
       "        vertical-align: middle;\n",
       "    }\n",
       "\n",
       "    .dataframe tbody tr th {\n",
       "        vertical-align: top;\n",
       "    }\n",
       "\n",
       "    .dataframe thead th {\n",
       "        text-align: right;\n",
       "    }\n",
       "</style>\n",
       "<table border=\"1\" class=\"dataframe\">\n",
       "  <thead>\n",
       "    <tr style=\"text-align: right;\">\n",
       "      <th></th>\n",
       "      <th>A</th>\n",
       "      <th>B</th>\n",
       "      <th>C</th>\n",
       "      <th>D</th>\n",
       "    </tr>\n",
       "  </thead>\n",
       "  <tbody>\n",
       "    <tr>\n",
       "      <th>0</th>\n",
       "      <td>NaN</td>\n",
       "      <td>3.0</td>\n",
       "      <td>0.0</td>\n",
       "      <td>2</td>\n",
       "    </tr>\n",
       "    <tr>\n",
       "      <th>1</th>\n",
       "      <td>2.0</td>\n",
       "      <td>5.0</td>\n",
       "      <td>NaN</td>\n",
       "      <td>6</td>\n",
       "    </tr>\n",
       "    <tr>\n",
       "      <th>2</th>\n",
       "      <td>3.0</td>\n",
       "      <td>NaN</td>\n",
       "      <td>3.0</td>\n",
       "      <td>3</td>\n",
       "    </tr>\n",
       "    <tr>\n",
       "      <th>3</th>\n",
       "      <td>NaN</td>\n",
       "      <td>6.0</td>\n",
       "      <td>NaN</td>\n",
       "      <td>4</td>\n",
       "    </tr>\n",
       "    <tr>\n",
       "      <th>4</th>\n",
       "      <td>1.0</td>\n",
       "      <td>5.5</td>\n",
       "      <td>1.0</td>\n",
       "      <td>2</td>\n",
       "    </tr>\n",
       "  </tbody>\n",
       "</table>\n",
       "</div>"
      ],
      "text/plain": [
       "     A    B    C  D\n",
       "0  NaN  3.0  0.0  2\n",
       "1  2.0  5.0  NaN  6\n",
       "2  3.0  NaN  3.0  3\n",
       "3  NaN  6.0  NaN  4\n",
       "4  1.0  5.5  1.0  2"
      ]
     },
     "execution_count": 1,
     "metadata": {},
     "output_type": "execute_result"
    }
   ],
   "source": [
    "import numpy as np\n",
    "import pandas as pd\n",
    "from sklearn.impute import SimpleImputer\n",
    "imp = SimpleImputer(missing_values = np.nan, strategy = 'mean')\n",
    "\n",
    "df = pd.DataFrame({'A':[np.nan, 2, 3, np.nan, 1],\n",
    "                   'B':[3, 5, np.nan, 6, 5.5],\n",
    "                   'C':[0, np.nan, 3, np.nan, 1],\n",
    "                   'D':[2, 6, 3, 4, 2],\n",
    "                  })\n",
    "df"
   ]
  },
  {
   "cell_type": "code",
   "execution_count": 2,
   "metadata": {},
   "outputs": [
    {
     "data": {
      "text/plain": [
       "array([[2.        , 3.        , 0.        , 2.        ],\n",
       "       [2.        , 5.        , 1.33333333, 6.        ],\n",
       "       [3.        , 4.875     , 3.        , 3.        ],\n",
       "       [2.        , 6.        , 1.33333333, 4.        ],\n",
       "       [1.        , 5.5       , 1.        , 2.        ]])"
      ]
     },
     "execution_count": 2,
     "metadata": {},
     "output_type": "execute_result"
    }
   ],
   "source": [
    "imp.fit_transform(df)"
   ]
  },
  {
   "cell_type": "code",
   "execution_count": 3,
   "metadata": {},
   "outputs": [
    {
     "data": {
      "text/plain": [
       "array([[3.   ],\n",
       "       [5.   ],\n",
       "       [4.875],\n",
       "       [6.   ],\n",
       "       [5.5  ]])"
      ]
     },
     "execution_count": 3,
     "metadata": {},
     "output_type": "execute_result"
    }
   ],
   "source": [
    "imp.fit_transform(df['B'].to_numpy().reshape(-1, 1))"
   ]
  },
  {
   "cell_type": "code",
   "execution_count": 4,
   "metadata": {},
   "outputs": [
    {
     "data": {
      "text/plain": [
       "array([[2.  , 3.  , 0.  , 2.  ],\n",
       "       [2.  , 5.  , 1.  , 6.  ],\n",
       "       [3.  , 5.25, 3.  , 3.  ],\n",
       "       [2.  , 6.  , 1.  , 4.  ],\n",
       "       [1.  , 5.5 , 1.  , 2.  ]])"
      ]
     },
     "execution_count": 4,
     "metadata": {},
     "output_type": "execute_result"
    }
   ],
   "source": [
    "imp = SimpleImputer(missing_values = np.nan, strategy = 'median')\n",
    "imp.fit_transform(df)"
   ]
  },
  {
   "cell_type": "code",
   "execution_count": 5,
   "metadata": {},
   "outputs": [
    {
     "data": {
      "text/plain": [
       "array([[1. , 3. , 0. , 2. ],\n",
       "       [2. , 5. , 0. , 6. ],\n",
       "       [3. , 3. , 3. , 3. ],\n",
       "       [1. , 6. , 0. , 4. ],\n",
       "       [1. , 5.5, 1. , 2. ]])"
      ]
     },
     "execution_count": 5,
     "metadata": {},
     "output_type": "execute_result"
    }
   ],
   "source": [
    "imp = SimpleImputer(missing_values = np.nan, strategy = 'most_frequent')\n",
    "imp.fit_transform(df)"
   ]
  },
  {
   "cell_type": "code",
   "execution_count": 6,
   "metadata": {},
   "outputs": [
    {
     "data": {
      "text/plain": [
       "array([[0. , 3. , 0. , 2. ],\n",
       "       [2. , 5. , 0. , 6. ],\n",
       "       [3. , 0. , 3. , 3. ],\n",
       "       [0. , 6. , 0. , 4. ],\n",
       "       [1. , 5.5, 1. , 2. ]])"
      ]
     },
     "execution_count": 6,
     "metadata": {},
     "output_type": "execute_result"
    }
   ],
   "source": [
    "imp = SimpleImputer(missing_values = np.nan, strategy = 'constant', fill_value = 0)\n",
    "imp.fit_transform(df)"
   ]
  },
  {
   "cell_type": "markdown",
   "metadata": {},
   "source": [
    "`IterativeImputer` nos permite modelar los valores perdidos en función de otras variables, a través de un modelo."
   ]
  },
  {
   "cell_type": "code",
   "execution_count": 7,
   "metadata": {},
   "outputs": [],
   "source": [
    "from sklearn.experimental import enable_iterative_imputer \n",
    "from sklearn.impute import IterativeImputer"
   ]
  },
  {
   "cell_type": "markdown",
   "metadata": {},
   "source": [
    "- Primero de todo, nos imputa igual que antes con la opción `initial_strategy_parameter`. \n",
    "- Luego, entrena un modelo (definido en `default`).\n",
    "- Y luego por cada columna, hace una predicción de sus valores perdidos partiendo de las demás columnas. El método se repite para cada combinación de columnas.\n",
    "\n",
    "https://scikit-learn.org/stable/modules/generated/sklearn.impute.IterativeImputer.html#sklearn.impute.IterativeImputer"
   ]
  },
  {
   "cell_type": "code",
   "execution_count": 8,
   "metadata": {},
   "outputs": [
    {
     "data": {
      "text/html": [
       "<div>\n",
       "<style scoped>\n",
       "    .dataframe tbody tr th:only-of-type {\n",
       "        vertical-align: middle;\n",
       "    }\n",
       "\n",
       "    .dataframe tbody tr th {\n",
       "        vertical-align: top;\n",
       "    }\n",
       "\n",
       "    .dataframe thead th {\n",
       "        text-align: right;\n",
       "    }\n",
       "</style>\n",
       "<table border=\"1\" class=\"dataframe\">\n",
       "  <thead>\n",
       "    <tr style=\"text-align: right;\">\n",
       "      <th></th>\n",
       "      <th>A</th>\n",
       "      <th>B</th>\n",
       "      <th>C</th>\n",
       "      <th>D</th>\n",
       "    </tr>\n",
       "  </thead>\n",
       "  <tbody>\n",
       "    <tr>\n",
       "      <th>0</th>\n",
       "      <td>0.339623</td>\n",
       "      <td>3.0</td>\n",
       "      <td>0.000000e+00</td>\n",
       "      <td>2.0</td>\n",
       "    </tr>\n",
       "    <tr>\n",
       "      <th>1</th>\n",
       "      <td>2.000000</td>\n",
       "      <td>5.0</td>\n",
       "      <td>-1.600000e+00</td>\n",
       "      <td>6.0</td>\n",
       "    </tr>\n",
       "    <tr>\n",
       "      <th>2</th>\n",
       "      <td>3.000000</td>\n",
       "      <td>12.0</td>\n",
       "      <td>3.000000e+00</td>\n",
       "      <td>3.0</td>\n",
       "    </tr>\n",
       "    <tr>\n",
       "      <th>3</th>\n",
       "      <td>1.698113</td>\n",
       "      <td>6.0</td>\n",
       "      <td>-1.086867e-08</td>\n",
       "      <td>4.0</td>\n",
       "    </tr>\n",
       "    <tr>\n",
       "      <th>4</th>\n",
       "      <td>1.000000</td>\n",
       "      <td>5.5</td>\n",
       "      <td>1.000000e+00</td>\n",
       "      <td>2.0</td>\n",
       "    </tr>\n",
       "  </tbody>\n",
       "</table>\n",
       "</div>"
      ],
      "text/plain": [
       "          A     B             C    D\n",
       "0  0.339623   3.0  0.000000e+00  2.0\n",
       "1  2.000000   5.0 -1.600000e+00  6.0\n",
       "2  3.000000  12.0  3.000000e+00  3.0\n",
       "3  1.698113   6.0 -1.086867e-08  4.0\n",
       "4  1.000000   5.5  1.000000e+00  2.0"
      ]
     },
     "execution_count": 8,
     "metadata": {},
     "output_type": "execute_result"
    }
   ],
   "source": [
    "from sklearn.linear_model import LinearRegression\n",
    "rimp = IterativeImputer(missing_values = np.nan, \n",
    "                        initial_strategy = 'mean', \n",
    "                        estimator = LinearRegression())\n",
    "pd.DataFrame(rimp.fit_transform(df), columns = df.columns)"
   ]
  },
  {
   "cell_type": "code",
   "execution_count": 9,
   "metadata": {},
   "outputs": [
    {
     "data": {
      "text/plain": [
       "array([[1.75359412, 3.        , 0.        , 2.        ],\n",
       "       [2.        , 5.        , 1.4609086 , 6.        ],\n",
       "       [3.        , 5.23234254, 3.        , 3.        ],\n",
       "       [1.9856489 , 6.        , 1.71581949, 4.        ],\n",
       "       [1.        , 5.5       , 1.        , 2.        ]])"
      ]
     },
     "execution_count": 9,
     "metadata": {},
     "output_type": "execute_result"
    }
   ],
   "source": [
    "from sklearn.linear_model import ElasticNet\n",
    "rimp = IterativeImputer(missing_values = np.nan, \n",
    "                        initial_strategy = 'mean', \n",
    "                        estimator = ElasticNet())\n",
    "rimp.fit_transform(df)"
   ]
  },
  {
   "cell_type": "markdown",
   "metadata": {},
   "source": [
    "Imputar con `KNNImputer`: dos observaciones son vecinas si los valores de sus variables que ambos no son `NA`s son similares."
   ]
  },
  {
   "cell_type": "code",
   "execution_count": 10,
   "metadata": {},
   "outputs": [
    {
     "data": {
      "text/plain": [
       "array([[2.  , 3.  , 0.  , 2.  ],\n",
       "       [2.  , 5.  , 2.  , 6.  ],\n",
       "       [3.  , 5.75, 3.  , 3.  ],\n",
       "       [2.  , 6.  , 2.  , 4.  ],\n",
       "       [1.  , 5.5 , 1.  , 2.  ]])"
      ]
     },
     "execution_count": 10,
     "metadata": {},
     "output_type": "execute_result"
    }
   ],
   "source": [
    "from sklearn.impute import KNNImputer\n",
    "kimp = KNNImputer(n_neighbors = 2)\n",
    "kimp.fit_transform(df)"
   ]
  },
  {
   "cell_type": "markdown",
   "metadata": {},
   "source": [
    "---\n",
    "\n",
    "Vamos a ver el impacto que tiene la imputación a la hora de modelar datos."
   ]
  },
  {
   "cell_type": "code",
   "execution_count": 11,
   "metadata": {},
   "outputs": [
    {
     "name": "stderr",
     "output_type": "stream",
     "text": [
      "/usr/lib/python3/dist-packages/IPython/core/interactiveshell.py:3062: DtypeWarning: Columns (9,11) have mixed types.Specify dtype option on import or set low_memory=False.\n",
      "  has_raised = await self.run_ast_nodes(code_ast.body, cell_name,\n"
     ]
    },
    {
     "data": {
      "text/html": [
       "<div>\n",
       "<style scoped>\n",
       "    .dataframe tbody tr th:only-of-type {\n",
       "        vertical-align: middle;\n",
       "    }\n",
       "\n",
       "    .dataframe tbody tr th {\n",
       "        vertical-align: top;\n",
       "    }\n",
       "\n",
       "    .dataframe thead th {\n",
       "        text-align: right;\n",
       "    }\n",
       "</style>\n",
       "<table border=\"1\" class=\"dataframe\">\n",
       "  <thead>\n",
       "    <tr style=\"text-align: right;\">\n",
       "      <th></th>\n",
       "      <th>PRCP</th>\n",
       "      <th>TAVG</th>\n",
       "      <th>TMAX</th>\n",
       "      <th>TMIN</th>\n",
       "    </tr>\n",
       "  </thead>\n",
       "  <tbody>\n",
       "    <tr>\n",
       "      <th>count</th>\n",
       "      <td>65970.000000</td>\n",
       "      <td>16360.000000</td>\n",
       "      <td>61187.000000</td>\n",
       "      <td>60985.000000</td>\n",
       "    </tr>\n",
       "    <tr>\n",
       "      <th>mean</th>\n",
       "      <td>1.612454</td>\n",
       "      <td>15.919719</td>\n",
       "      <td>19.346832</td>\n",
       "      <td>11.474661</td>\n",
       "    </tr>\n",
       "    <tr>\n",
       "      <th>std</th>\n",
       "      <td>6.539843</td>\n",
       "      <td>5.942094</td>\n",
       "      <td>6.476205</td>\n",
       "      <td>5.927301</td>\n",
       "    </tr>\n",
       "    <tr>\n",
       "      <th>min</th>\n",
       "      <td>0.000000</td>\n",
       "      <td>-2.100000</td>\n",
       "      <td>-1.800000</td>\n",
       "      <td>-10.000000</td>\n",
       "    </tr>\n",
       "    <tr>\n",
       "      <th>25%</th>\n",
       "      <td>0.000000</td>\n",
       "      <td>11.100000</td>\n",
       "      <td>14.400000</td>\n",
       "      <td>6.800000</td>\n",
       "    </tr>\n",
       "    <tr>\n",
       "      <th>50%</th>\n",
       "      <td>0.000000</td>\n",
       "      <td>15.300000</td>\n",
       "      <td>19.000000</td>\n",
       "      <td>11.000000</td>\n",
       "    </tr>\n",
       "    <tr>\n",
       "      <th>75%</th>\n",
       "      <td>0.000000</td>\n",
       "      <td>21.200000</td>\n",
       "      <td>24.800000</td>\n",
       "      <td>16.500000</td>\n",
       "    </tr>\n",
       "    <tr>\n",
       "      <th>max</th>\n",
       "      <td>186.700000</td>\n",
       "      <td>29.800000</td>\n",
       "      <td>38.400000</td>\n",
       "      <td>27.800000</td>\n",
       "    </tr>\n",
       "  </tbody>\n",
       "</table>\n",
       "</div>"
      ],
      "text/plain": [
       "               PRCP          TAVG          TMAX          TMIN\n",
       "count  65970.000000  16360.000000  61187.000000  60985.000000\n",
       "mean       1.612454     15.919719     19.346832     11.474661\n",
       "std        6.539843      5.942094      6.476205      5.927301\n",
       "min        0.000000     -2.100000     -1.800000    -10.000000\n",
       "25%        0.000000     11.100000     14.400000      6.800000\n",
       "50%        0.000000     15.300000     19.000000     11.000000\n",
       "75%        0.000000     21.200000     24.800000     16.500000\n",
       "max      186.700000     29.800000     38.400000     27.800000"
      ]
     },
     "execution_count": 11,
     "metadata": {},
     "output_type": "execute_result"
    }
   ],
   "source": [
    "df = pd.read_csv('data/Barcelona-Weather.csv')\n",
    "df = df.drop(['STATION',\n",
    "              'LATITUDE',\n",
    "              'LONGITUDE',\n",
    "              'ELEVATION',\n",
    "              'SNWD',\n",
    "              'PRCP_ATTRIBUTES',\n",
    "              'SNWD_ATTRIBUTES',\n",
    "              'TAVG_ATTRIBUTES',\n",
    "              'TMAX_ATTRIBUTES',\n",
    "              'TMIN_ATTRIBUTES'], axis = 1)\n",
    "df.describe()"
   ]
  },
  {
   "cell_type": "code",
   "execution_count": 12,
   "metadata": {},
   "outputs": [
    {
     "data": {
      "text/html": [
       "<div>\n",
       "<style scoped>\n",
       "    .dataframe tbody tr th:only-of-type {\n",
       "        vertical-align: middle;\n",
       "    }\n",
       "\n",
       "    .dataframe tbody tr th {\n",
       "        vertical-align: top;\n",
       "    }\n",
       "\n",
       "    .dataframe thead th {\n",
       "        text-align: right;\n",
       "    }\n",
       "</style>\n",
       "<table border=\"1\" class=\"dataframe\">\n",
       "  <thead>\n",
       "    <tr style=\"text-align: right;\">\n",
       "      <th></th>\n",
       "      <th>NAME</th>\n",
       "      <th>DATE</th>\n",
       "      <th>PRCP</th>\n",
       "      <th>TAVG</th>\n",
       "      <th>TMAX</th>\n",
       "      <th>TMIN</th>\n",
       "    </tr>\n",
       "  </thead>\n",
       "  <tbody>\n",
       "    <tr>\n",
       "      <th>0</th>\n",
       "      <td>BARCELONA, SP</td>\n",
       "      <td>1920-01-01</td>\n",
       "      <td>3.5</td>\n",
       "      <td>NaN</td>\n",
       "      <td>NaN</td>\n",
       "      <td>NaN</td>\n",
       "    </tr>\n",
       "    <tr>\n",
       "      <th>1</th>\n",
       "      <td>BARCELONA, SP</td>\n",
       "      <td>1920-01-02</td>\n",
       "      <td>0.0</td>\n",
       "      <td>NaN</td>\n",
       "      <td>NaN</td>\n",
       "      <td>NaN</td>\n",
       "    </tr>\n",
       "    <tr>\n",
       "      <th>2</th>\n",
       "      <td>BARCELONA, SP</td>\n",
       "      <td>1920-01-03</td>\n",
       "      <td>0.0</td>\n",
       "      <td>NaN</td>\n",
       "      <td>NaN</td>\n",
       "      <td>NaN</td>\n",
       "    </tr>\n",
       "    <tr>\n",
       "      <th>3</th>\n",
       "      <td>BARCELONA, SP</td>\n",
       "      <td>1920-01-04</td>\n",
       "      <td>16.3</td>\n",
       "      <td>NaN</td>\n",
       "      <td>NaN</td>\n",
       "      <td>NaN</td>\n",
       "    </tr>\n",
       "    <tr>\n",
       "      <th>4</th>\n",
       "      <td>BARCELONA, SP</td>\n",
       "      <td>1920-01-05</td>\n",
       "      <td>7.9</td>\n",
       "      <td>NaN</td>\n",
       "      <td>NaN</td>\n",
       "      <td>NaN</td>\n",
       "    </tr>\n",
       "  </tbody>\n",
       "</table>\n",
       "</div>"
      ],
      "text/plain": [
       "            NAME        DATE  PRCP  TAVG  TMAX  TMIN\n",
       "0  BARCELONA, SP  1920-01-01   3.5   NaN   NaN   NaN\n",
       "1  BARCELONA, SP  1920-01-02   0.0   NaN   NaN   NaN\n",
       "2  BARCELONA, SP  1920-01-03   0.0   NaN   NaN   NaN\n",
       "3  BARCELONA, SP  1920-01-04  16.3   NaN   NaN   NaN\n",
       "4  BARCELONA, SP  1920-01-05   7.9   NaN   NaN   NaN"
      ]
     },
     "execution_count": 12,
     "metadata": {},
     "output_type": "execute_result"
    }
   ],
   "source": [
    "df.head()"
   ]
  },
  {
   "cell_type": "markdown",
   "metadata": {},
   "source": [
    "- Selecciona solo aquellas filas que datan del año 1947 y son del Aeropuerto de Barelona.\n",
    "- Piensa como podrías imputar los valores perdidos.\n",
    "- Intenta modelar la precipitación en función de la temperatura, el mes y el día.\n",
    "\n",
    "\n",
    "---"
   ]
  },
  {
   "cell_type": "code",
   "execution_count": 36,
   "metadata": {},
   "outputs": [],
   "source": [
    "dff = df[(df['DATE'].str.contains('1947-..-..')) & (df['NAME'].str.contains('AEROPUERTO'))].drop(['NAME'], axis = 1)"
   ]
  },
  {
   "cell_type": "code",
   "execution_count": 37,
   "metadata": {},
   "outputs": [
    {
     "name": "stdout",
     "output_type": "stream",
     "text": [
      "(67809, 6) (365, 5)\n"
     ]
    },
    {
     "data": {
      "text/html": [
       "<div>\n",
       "<style scoped>\n",
       "    .dataframe tbody tr th:only-of-type {\n",
       "        vertical-align: middle;\n",
       "    }\n",
       "\n",
       "    .dataframe tbody tr th {\n",
       "        vertical-align: top;\n",
       "    }\n",
       "\n",
       "    .dataframe thead th {\n",
       "        text-align: right;\n",
       "    }\n",
       "</style>\n",
       "<table border=\"1\" class=\"dataframe\">\n",
       "  <thead>\n",
       "    <tr style=\"text-align: right;\">\n",
       "      <th></th>\n",
       "      <th>DATE</th>\n",
       "      <th>PRCP</th>\n",
       "      <th>TAVG</th>\n",
       "      <th>TMAX</th>\n",
       "      <th>TMIN</th>\n",
       "    </tr>\n",
       "  </thead>\n",
       "  <tbody>\n",
       "    <tr>\n",
       "      <th>41943</th>\n",
       "      <td>1947-01-01</td>\n",
       "      <td>0.0</td>\n",
       "      <td>NaN</td>\n",
       "      <td>15.2</td>\n",
       "      <td>3.5</td>\n",
       "    </tr>\n",
       "    <tr>\n",
       "      <th>41944</th>\n",
       "      <td>1947-01-02</td>\n",
       "      <td>0.0</td>\n",
       "      <td>NaN</td>\n",
       "      <td>15.2</td>\n",
       "      <td>0.0</td>\n",
       "    </tr>\n",
       "    <tr>\n",
       "      <th>41945</th>\n",
       "      <td>1947-01-03</td>\n",
       "      <td>0.0</td>\n",
       "      <td>NaN</td>\n",
       "      <td>13.6</td>\n",
       "      <td>0.7</td>\n",
       "    </tr>\n",
       "    <tr>\n",
       "      <th>41946</th>\n",
       "      <td>1947-01-04</td>\n",
       "      <td>0.0</td>\n",
       "      <td>NaN</td>\n",
       "      <td>9.2</td>\n",
       "      <td>0.2</td>\n",
       "    </tr>\n",
       "    <tr>\n",
       "      <th>41947</th>\n",
       "      <td>1947-01-05</td>\n",
       "      <td>0.0</td>\n",
       "      <td>NaN</td>\n",
       "      <td>13.8</td>\n",
       "      <td>5.0</td>\n",
       "    </tr>\n",
       "  </tbody>\n",
       "</table>\n",
       "</div>"
      ],
      "text/plain": [
       "             DATE  PRCP  TAVG  TMAX  TMIN\n",
       "41943  1947-01-01   0.0   NaN  15.2   3.5\n",
       "41944  1947-01-02   0.0   NaN  15.2   0.0\n",
       "41945  1947-01-03   0.0   NaN  13.6   0.7\n",
       "41946  1947-01-04   0.0   NaN   9.2   0.2\n",
       "41947  1947-01-05   0.0   NaN  13.8   5.0"
      ]
     },
     "execution_count": 37,
     "metadata": {},
     "output_type": "execute_result"
    }
   ],
   "source": [
    "print(df.shape, dff.shape)\n",
    "dff.head()"
   ]
  },
  {
   "cell_type": "code",
   "execution_count": 38,
   "metadata": {},
   "outputs": [
    {
     "data": {
      "text/plain": [
       "DATE      0\n",
       "PRCP      0\n",
       "TAVG    365\n",
       "TMAX     10\n",
       "TMIN     11\n",
       "dtype: int64"
      ]
     },
     "execution_count": 38,
     "metadata": {},
     "output_type": "execute_result"
    }
   ],
   "source": [
    "#Realizo la suma de las variables y verifico cuales son Nan\n",
    "dff.isna().sum()"
   ]
  },
  {
   "cell_type": "code",
   "execution_count": 39,
   "metadata": {},
   "outputs": [
    {
     "data": {
      "text/html": [
       "<div>\n",
       "<style scoped>\n",
       "    .dataframe tbody tr th:only-of-type {\n",
       "        vertical-align: middle;\n",
       "    }\n",
       "\n",
       "    .dataframe tbody tr th {\n",
       "        vertical-align: top;\n",
       "    }\n",
       "\n",
       "    .dataframe thead th {\n",
       "        text-align: right;\n",
       "    }\n",
       "</style>\n",
       "<table border=\"1\" class=\"dataframe\">\n",
       "  <thead>\n",
       "    <tr style=\"text-align: right;\">\n",
       "      <th></th>\n",
       "      <th>DATE</th>\n",
       "      <th>PRCP</th>\n",
       "      <th>TAVG</th>\n",
       "      <th>TMAX</th>\n",
       "      <th>TMIN</th>\n",
       "    </tr>\n",
       "  </thead>\n",
       "  <tbody>\n",
       "    <tr>\n",
       "      <th>42157</th>\n",
       "      <td>1947-08-03</td>\n",
       "      <td>0.0</td>\n",
       "      <td>NaN</td>\n",
       "      <td>NaN</td>\n",
       "      <td>NaN</td>\n",
       "    </tr>\n",
       "    <tr>\n",
       "      <th>42223</th>\n",
       "      <td>1947-10-08</td>\n",
       "      <td>0.0</td>\n",
       "      <td>NaN</td>\n",
       "      <td>NaN</td>\n",
       "      <td>NaN</td>\n",
       "    </tr>\n",
       "    <tr>\n",
       "      <th>42224</th>\n",
       "      <td>1947-10-09</td>\n",
       "      <td>12.2</td>\n",
       "      <td>NaN</td>\n",
       "      <td>NaN</td>\n",
       "      <td>NaN</td>\n",
       "    </tr>\n",
       "    <tr>\n",
       "      <th>42225</th>\n",
       "      <td>1947-10-10</td>\n",
       "      <td>0.0</td>\n",
       "      <td>NaN</td>\n",
       "      <td>NaN</td>\n",
       "      <td>NaN</td>\n",
       "    </tr>\n",
       "    <tr>\n",
       "      <th>42226</th>\n",
       "      <td>1947-10-11</td>\n",
       "      <td>0.0</td>\n",
       "      <td>NaN</td>\n",
       "      <td>NaN</td>\n",
       "      <td>NaN</td>\n",
       "    </tr>\n",
       "    <tr>\n",
       "      <th>42227</th>\n",
       "      <td>1947-10-12</td>\n",
       "      <td>3.6</td>\n",
       "      <td>NaN</td>\n",
       "      <td>NaN</td>\n",
       "      <td>NaN</td>\n",
       "    </tr>\n",
       "    <tr>\n",
       "      <th>42228</th>\n",
       "      <td>1947-10-13</td>\n",
       "      <td>0.0</td>\n",
       "      <td>NaN</td>\n",
       "      <td>NaN</td>\n",
       "      <td>NaN</td>\n",
       "    </tr>\n",
       "    <tr>\n",
       "      <th>42229</th>\n",
       "      <td>1947-10-14</td>\n",
       "      <td>0.0</td>\n",
       "      <td>NaN</td>\n",
       "      <td>NaN</td>\n",
       "      <td>NaN</td>\n",
       "    </tr>\n",
       "    <tr>\n",
       "      <th>42230</th>\n",
       "      <td>1947-10-15</td>\n",
       "      <td>0.0</td>\n",
       "      <td>NaN</td>\n",
       "      <td>NaN</td>\n",
       "      <td>NaN</td>\n",
       "    </tr>\n",
       "    <tr>\n",
       "      <th>42231</th>\n",
       "      <td>1947-10-16</td>\n",
       "      <td>0.0</td>\n",
       "      <td>NaN</td>\n",
       "      <td>NaN</td>\n",
       "      <td>NaN</td>\n",
       "    </tr>\n",
       "    <tr>\n",
       "      <th>42232</th>\n",
       "      <td>1947-10-17</td>\n",
       "      <td>0.0</td>\n",
       "      <td>NaN</td>\n",
       "      <td>21.5</td>\n",
       "      <td>NaN</td>\n",
       "    </tr>\n",
       "  </tbody>\n",
       "</table>\n",
       "</div>"
      ],
      "text/plain": [
       "             DATE  PRCP  TAVG  TMAX  TMIN\n",
       "42157  1947-08-03   0.0   NaN   NaN   NaN\n",
       "42223  1947-10-08   0.0   NaN   NaN   NaN\n",
       "42224  1947-10-09  12.2   NaN   NaN   NaN\n",
       "42225  1947-10-10   0.0   NaN   NaN   NaN\n",
       "42226  1947-10-11   0.0   NaN   NaN   NaN\n",
       "42227  1947-10-12   3.6   NaN   NaN   NaN\n",
       "42228  1947-10-13   0.0   NaN   NaN   NaN\n",
       "42229  1947-10-14   0.0   NaN   NaN   NaN\n",
       "42230  1947-10-15   0.0   NaN   NaN   NaN\n",
       "42231  1947-10-16   0.0   NaN   NaN   NaN\n",
       "42232  1947-10-17   0.0   NaN  21.5   NaN"
      ]
     },
     "execution_count": 39,
     "metadata": {},
     "output_type": "execute_result"
    }
   ],
   "source": [
    "#Sacamos el listado de los elementos Nan minimos\n",
    "dff[dff.TMIN.isna()]"
   ]
  },
  {
   "cell_type": "code",
   "execution_count": 40,
   "metadata": {},
   "outputs": [],
   "source": [
    "Fechas = dff['DATE'].str.split('-',2, expand = True).rename(columns = {0:'YEAR', 1:'MONTH',2:'DAY'}).apply(pd.to_numeric).drop('YEAR', axis = 1)"
   ]
  },
  {
   "cell_type": "code",
   "execution_count": 41,
   "metadata": {},
   "outputs": [
    {
     "data": {
      "text/html": [
       "<div>\n",
       "<style scoped>\n",
       "    .dataframe tbody tr th:only-of-type {\n",
       "        vertical-align: middle;\n",
       "    }\n",
       "\n",
       "    .dataframe tbody tr th {\n",
       "        vertical-align: top;\n",
       "    }\n",
       "\n",
       "    .dataframe thead th {\n",
       "        text-align: right;\n",
       "    }\n",
       "</style>\n",
       "<table border=\"1\" class=\"dataframe\">\n",
       "  <thead>\n",
       "    <tr style=\"text-align: right;\">\n",
       "      <th></th>\n",
       "      <th>MONTH</th>\n",
       "      <th>DAY</th>\n",
       "    </tr>\n",
       "  </thead>\n",
       "  <tbody>\n",
       "    <tr>\n",
       "      <th>41943</th>\n",
       "      <td>1</td>\n",
       "      <td>1</td>\n",
       "    </tr>\n",
       "    <tr>\n",
       "      <th>41944</th>\n",
       "      <td>1</td>\n",
       "      <td>2</td>\n",
       "    </tr>\n",
       "    <tr>\n",
       "      <th>41945</th>\n",
       "      <td>1</td>\n",
       "      <td>3</td>\n",
       "    </tr>\n",
       "    <tr>\n",
       "      <th>41946</th>\n",
       "      <td>1</td>\n",
       "      <td>4</td>\n",
       "    </tr>\n",
       "    <tr>\n",
       "      <th>41947</th>\n",
       "      <td>1</td>\n",
       "      <td>5</td>\n",
       "    </tr>\n",
       "    <tr>\n",
       "      <th>...</th>\n",
       "      <td>...</td>\n",
       "      <td>...</td>\n",
       "    </tr>\n",
       "    <tr>\n",
       "      <th>42303</th>\n",
       "      <td>12</td>\n",
       "      <td>27</td>\n",
       "    </tr>\n",
       "    <tr>\n",
       "      <th>42304</th>\n",
       "      <td>12</td>\n",
       "      <td>28</td>\n",
       "    </tr>\n",
       "    <tr>\n",
       "      <th>42305</th>\n",
       "      <td>12</td>\n",
       "      <td>29</td>\n",
       "    </tr>\n",
       "    <tr>\n",
       "      <th>42306</th>\n",
       "      <td>12</td>\n",
       "      <td>30</td>\n",
       "    </tr>\n",
       "    <tr>\n",
       "      <th>42307</th>\n",
       "      <td>12</td>\n",
       "      <td>31</td>\n",
       "    </tr>\n",
       "  </tbody>\n",
       "</table>\n",
       "<p>365 rows × 2 columns</p>\n",
       "</div>"
      ],
      "text/plain": [
       "       MONTH  DAY\n",
       "41943      1    1\n",
       "41944      1    2\n",
       "41945      1    3\n",
       "41946      1    4\n",
       "41947      1    5\n",
       "...      ...  ...\n",
       "42303     12   27\n",
       "42304     12   28\n",
       "42305     12   29\n",
       "42306     12   30\n",
       "42307     12   31\n",
       "\n",
       "[365 rows x 2 columns]"
      ]
     },
     "execution_count": 41,
     "metadata": {},
     "output_type": "execute_result"
    }
   ],
   "source": [
    "Fechas"
   ]
  },
  {
   "cell_type": "code",
   "execution_count": 42,
   "metadata": {},
   "outputs": [],
   "source": [
    "dff = pd.merge(dff.drop('DATE', axis = 1), dates, left_index = True,right_index = True)"
   ]
  },
  {
   "cell_type": "code",
   "execution_count": 31,
   "metadata": {},
   "outputs": [
    {
     "data": {
      "text/html": [
       "<div>\n",
       "<style scoped>\n",
       "    .dataframe tbody tr th:only-of-type {\n",
       "        vertical-align: middle;\n",
       "    }\n",
       "\n",
       "    .dataframe tbody tr th {\n",
       "        vertical-align: top;\n",
       "    }\n",
       "\n",
       "    .dataframe thead th {\n",
       "        text-align: right;\n",
       "    }\n",
       "</style>\n",
       "<table border=\"1\" class=\"dataframe\">\n",
       "  <thead>\n",
       "    <tr style=\"text-align: right;\">\n",
       "      <th></th>\n",
       "      <th>PRCP</th>\n",
       "      <th>TAVG</th>\n",
       "      <th>TMAX</th>\n",
       "      <th>TMIN</th>\n",
       "      <th>MONTH</th>\n",
       "      <th>DAY</th>\n",
       "    </tr>\n",
       "  </thead>\n",
       "  <tbody>\n",
       "    <tr>\n",
       "      <th>41943</th>\n",
       "      <td>0.0</td>\n",
       "      <td>NaN</td>\n",
       "      <td>15.2</td>\n",
       "      <td>3.5</td>\n",
       "      <td>1</td>\n",
       "      <td>1</td>\n",
       "    </tr>\n",
       "    <tr>\n",
       "      <th>41944</th>\n",
       "      <td>0.0</td>\n",
       "      <td>NaN</td>\n",
       "      <td>15.2</td>\n",
       "      <td>0.0</td>\n",
       "      <td>1</td>\n",
       "      <td>2</td>\n",
       "    </tr>\n",
       "    <tr>\n",
       "      <th>41945</th>\n",
       "      <td>0.0</td>\n",
       "      <td>NaN</td>\n",
       "      <td>13.6</td>\n",
       "      <td>0.7</td>\n",
       "      <td>1</td>\n",
       "      <td>3</td>\n",
       "    </tr>\n",
       "    <tr>\n",
       "      <th>41946</th>\n",
       "      <td>0.0</td>\n",
       "      <td>NaN</td>\n",
       "      <td>9.2</td>\n",
       "      <td>0.2</td>\n",
       "      <td>1</td>\n",
       "      <td>4</td>\n",
       "    </tr>\n",
       "    <tr>\n",
       "      <th>41947</th>\n",
       "      <td>0.0</td>\n",
       "      <td>NaN</td>\n",
       "      <td>13.8</td>\n",
       "      <td>5.0</td>\n",
       "      <td>1</td>\n",
       "      <td>5</td>\n",
       "    </tr>\n",
       "    <tr>\n",
       "      <th>...</th>\n",
       "      <td>...</td>\n",
       "      <td>...</td>\n",
       "      <td>...</td>\n",
       "      <td>...</td>\n",
       "      <td>...</td>\n",
       "      <td>...</td>\n",
       "    </tr>\n",
       "    <tr>\n",
       "      <th>42303</th>\n",
       "      <td>0.0</td>\n",
       "      <td>NaN</td>\n",
       "      <td>11.5</td>\n",
       "      <td>2.0</td>\n",
       "      <td>12</td>\n",
       "      <td>27</td>\n",
       "    </tr>\n",
       "    <tr>\n",
       "      <th>42304</th>\n",
       "      <td>0.0</td>\n",
       "      <td>NaN</td>\n",
       "      <td>16.5</td>\n",
       "      <td>3.0</td>\n",
       "      <td>12</td>\n",
       "      <td>28</td>\n",
       "    </tr>\n",
       "    <tr>\n",
       "      <th>42305</th>\n",
       "      <td>0.0</td>\n",
       "      <td>NaN</td>\n",
       "      <td>12.0</td>\n",
       "      <td>6.0</td>\n",
       "      <td>12</td>\n",
       "      <td>29</td>\n",
       "    </tr>\n",
       "    <tr>\n",
       "      <th>42306</th>\n",
       "      <td>15.6</td>\n",
       "      <td>NaN</td>\n",
       "      <td>15.0</td>\n",
       "      <td>3.0</td>\n",
       "      <td>12</td>\n",
       "      <td>30</td>\n",
       "    </tr>\n",
       "    <tr>\n",
       "      <th>42307</th>\n",
       "      <td>5.8</td>\n",
       "      <td>NaN</td>\n",
       "      <td>8.6</td>\n",
       "      <td>6.0</td>\n",
       "      <td>12</td>\n",
       "      <td>31</td>\n",
       "    </tr>\n",
       "  </tbody>\n",
       "</table>\n",
       "<p>365 rows × 6 columns</p>\n",
       "</div>"
      ],
      "text/plain": [
       "       PRCP  TAVG  TMAX  TMIN  MONTH  DAY\n",
       "41943   0.0   NaN  15.2   3.5      1    1\n",
       "41944   0.0   NaN  15.2   0.0      1    2\n",
       "41945   0.0   NaN  13.6   0.7      1    3\n",
       "41946   0.0   NaN   9.2   0.2      1    4\n",
       "41947   0.0   NaN  13.8   5.0      1    5\n",
       "...     ...   ...   ...   ...    ...  ...\n",
       "42303   0.0   NaN  11.5   2.0     12   27\n",
       "42304   0.0   NaN  16.5   3.0     12   28\n",
       "42305   0.0   NaN  12.0   6.0     12   29\n",
       "42306  15.6   NaN  15.0   3.0     12   30\n",
       "42307   5.8   NaN   8.6   6.0     12   31\n",
       "\n",
       "[365 rows x 6 columns]"
      ]
     },
     "execution_count": 31,
     "metadata": {},
     "output_type": "execute_result"
    }
   ],
   "source": [
    "dff"
   ]
  },
  {
   "cell_type": "code",
   "execution_count": 45,
   "metadata": {},
   "outputs": [
    {
     "name": "stderr",
     "output_type": "stream",
     "text": [
      "<ipython-input-45-8bd181632930>:2: UserWarning: Boolean Series key will be reindexed to match DataFrame index.\n",
      "  df1 = dff[pd.notnull(df['TMIN'])]\n"
     ]
    },
    {
     "data": {
      "text/html": [
       "<div>\n",
       "<style scoped>\n",
       "    .dataframe tbody tr th:only-of-type {\n",
       "        vertical-align: middle;\n",
       "    }\n",
       "\n",
       "    .dataframe tbody tr th {\n",
       "        vertical-align: top;\n",
       "    }\n",
       "\n",
       "    .dataframe thead th {\n",
       "        text-align: right;\n",
       "    }\n",
       "</style>\n",
       "<table border=\"1\" class=\"dataframe\">\n",
       "  <thead>\n",
       "    <tr style=\"text-align: right;\">\n",
       "      <th></th>\n",
       "      <th>PRCP</th>\n",
       "      <th>TAVG</th>\n",
       "      <th>TMAX</th>\n",
       "      <th>TMIN</th>\n",
       "      <th>MONTH</th>\n",
       "      <th>DAY</th>\n",
       "    </tr>\n",
       "  </thead>\n",
       "  <tbody>\n",
       "    <tr>\n",
       "      <th>41943</th>\n",
       "      <td>0.0</td>\n",
       "      <td>NaN</td>\n",
       "      <td>15.2</td>\n",
       "      <td>3.5</td>\n",
       "      <td>1</td>\n",
       "      <td>1</td>\n",
       "    </tr>\n",
       "    <tr>\n",
       "      <th>41944</th>\n",
       "      <td>0.0</td>\n",
       "      <td>NaN</td>\n",
       "      <td>15.2</td>\n",
       "      <td>0.0</td>\n",
       "      <td>1</td>\n",
       "      <td>2</td>\n",
       "    </tr>\n",
       "    <tr>\n",
       "      <th>41945</th>\n",
       "      <td>0.0</td>\n",
       "      <td>NaN</td>\n",
       "      <td>13.6</td>\n",
       "      <td>0.7</td>\n",
       "      <td>1</td>\n",
       "      <td>3</td>\n",
       "    </tr>\n",
       "    <tr>\n",
       "      <th>41946</th>\n",
       "      <td>0.0</td>\n",
       "      <td>NaN</td>\n",
       "      <td>9.2</td>\n",
       "      <td>0.2</td>\n",
       "      <td>1</td>\n",
       "      <td>4</td>\n",
       "    </tr>\n",
       "    <tr>\n",
       "      <th>41947</th>\n",
       "      <td>0.0</td>\n",
       "      <td>NaN</td>\n",
       "      <td>13.8</td>\n",
       "      <td>5.0</td>\n",
       "      <td>1</td>\n",
       "      <td>5</td>\n",
       "    </tr>\n",
       "    <tr>\n",
       "      <th>...</th>\n",
       "      <td>...</td>\n",
       "      <td>...</td>\n",
       "      <td>...</td>\n",
       "      <td>...</td>\n",
       "      <td>...</td>\n",
       "      <td>...</td>\n",
       "    </tr>\n",
       "    <tr>\n",
       "      <th>42303</th>\n",
       "      <td>0.0</td>\n",
       "      <td>NaN</td>\n",
       "      <td>11.5</td>\n",
       "      <td>2.0</td>\n",
       "      <td>12</td>\n",
       "      <td>27</td>\n",
       "    </tr>\n",
       "    <tr>\n",
       "      <th>42304</th>\n",
       "      <td>0.0</td>\n",
       "      <td>NaN</td>\n",
       "      <td>16.5</td>\n",
       "      <td>3.0</td>\n",
       "      <td>12</td>\n",
       "      <td>28</td>\n",
       "    </tr>\n",
       "    <tr>\n",
       "      <th>42305</th>\n",
       "      <td>0.0</td>\n",
       "      <td>NaN</td>\n",
       "      <td>12.0</td>\n",
       "      <td>6.0</td>\n",
       "      <td>12</td>\n",
       "      <td>29</td>\n",
       "    </tr>\n",
       "    <tr>\n",
       "      <th>42306</th>\n",
       "      <td>15.6</td>\n",
       "      <td>NaN</td>\n",
       "      <td>15.0</td>\n",
       "      <td>3.0</td>\n",
       "      <td>12</td>\n",
       "      <td>30</td>\n",
       "    </tr>\n",
       "    <tr>\n",
       "      <th>42307</th>\n",
       "      <td>5.8</td>\n",
       "      <td>NaN</td>\n",
       "      <td>8.6</td>\n",
       "      <td>6.0</td>\n",
       "      <td>12</td>\n",
       "      <td>31</td>\n",
       "    </tr>\n",
       "  </tbody>\n",
       "</table>\n",
       "<p>354 rows × 6 columns</p>\n",
       "</div>"
      ],
      "text/plain": [
       "       PRCP  TAVG  TMAX  TMIN  MONTH  DAY\n",
       "41943   0.0   NaN  15.2   3.5      1    1\n",
       "41944   0.0   NaN  15.2   0.0      1    2\n",
       "41945   0.0   NaN  13.6   0.7      1    3\n",
       "41946   0.0   NaN   9.2   0.2      1    4\n",
       "41947   0.0   NaN  13.8   5.0      1    5\n",
       "...     ...   ...   ...   ...    ...  ...\n",
       "42303   0.0   NaN  11.5   2.0     12   27\n",
       "42304   0.0   NaN  16.5   3.0     12   28\n",
       "42305   0.0   NaN  12.0   6.0     12   29\n",
       "42306  15.6   NaN  15.0   3.0     12   30\n",
       "42307   5.8   NaN   8.6   6.0     12   31\n",
       "\n",
       "[354 rows x 6 columns]"
      ]
     },
     "execution_count": 45,
     "metadata": {},
     "output_type": "execute_result"
    }
   ],
   "source": [
    "df1 = True\n",
    "df1 = dff[pd.notnull(df['TMIN'])]\n",
    "df1"
   ]
  },
  {
   "cell_type": "code",
   "execution_count": 46,
   "metadata": {},
   "outputs": [
    {
     "name": "stdout",
     "output_type": "stream",
     "text": [
      "(354, 6)\n"
     ]
    }
   ],
   "source": [
    "print(df1.shape)\n",
    "#Hacemos una llamada de nuestra tabla con los datos de las columnas PRCP y TAVG\n",
    "X = df1.drop([ 'PRCP', 'TAVG' ], axis = 1)\n",
    "Y = df1['PRCP']"
   ]
  },
  {
   "cell_type": "code",
   "execution_count": 49,
   "metadata": {},
   "outputs": [],
   "source": [
    "from sklearn.metrics import mean_squared_error\n",
    "modelo_lineal = LinearRegression()"
   ]
  },
  {
   "cell_type": "code",
   "execution_count": 52,
   "metadata": {},
   "outputs": [
    {
     "name": "stdout",
     "output_type": "stream",
     "text": [
      "12.735733030640992 15.73981908779669\n"
     ]
    }
   ],
   "source": [
    "#The cross_val_score () function will be used to perform the \n",
    "#evaluation, taking the dataset and cross-validation configuration\n",
    "#and Returning a list of scores calculated for each fold.\n",
    "\n",
    "from sklearn.model_selection import cross_val_score\n",
    "Puntaje = -cross_val_score(modelo_lineal, X, Y, cv = 5, scoring = 'neg_mean_squared_error')\n",
    "print(Puntaje.mean(), Puntaje.std())"
   ]
  },
  {
   "cell_type": "markdown",
   "metadata": {},
   "source": [
    "# Buscamos valores perdidos\n"
   ]
  },
  {
   "cell_type": "code",
   "execution_count": null,
   "metadata": {},
   "outputs": [],
   "source": [
    "imp = SimpleImputer(missing_values = np.man, strategy = 'mean')\n",
    "dffi = imp.fit_transform(dff.drop(['TAVG','PRCP'], axis = 1))\n",
    "X = dffi\n",
    "Y = dff['PRCP']\n",
    "modelo_lineal = LinearRegression()\n",
    "scores = -cross_val_score()"
   ]
  },
  {
   "cell_type": "code",
   "execution_count": null,
   "metadata": {},
   "outputs": [],
   "source": []
  },
  {
   "cell_type": "code",
   "execution_count": null,
   "metadata": {},
   "outputs": [],
   "source": []
  },
  {
   "cell_type": "code",
   "execution_count": null,
   "metadata": {},
   "outputs": [],
   "source": []
  },
  {
   "cell_type": "code",
   "execution_count": null,
   "metadata": {},
   "outputs": [],
   "source": []
  },
  {
   "cell_type": "code",
   "execution_count": null,
   "metadata": {},
   "outputs": [],
   "source": []
  },
  {
   "cell_type": "code",
   "execution_count": null,
   "metadata": {},
   "outputs": [],
   "source": []
  },
  {
   "cell_type": "code",
   "execution_count": null,
   "metadata": {},
   "outputs": [],
   "source": []
  }
 ],
 "metadata": {
  "kernelspec": {
   "display_name": "Python 3",
   "language": "python",
   "name": "python3"
  },
  "language_info": {
   "codemirror_mode": {
    "name": "ipython",
    "version": 3
   },
   "file_extension": ".py",
   "mimetype": "text/x-python",
   "name": "python",
   "nbconvert_exporter": "python",
   "pygments_lexer": "ipython3",
   "version": "3.8.10"
  }
 },
 "nbformat": 4,
 "nbformat_minor": 4
}
