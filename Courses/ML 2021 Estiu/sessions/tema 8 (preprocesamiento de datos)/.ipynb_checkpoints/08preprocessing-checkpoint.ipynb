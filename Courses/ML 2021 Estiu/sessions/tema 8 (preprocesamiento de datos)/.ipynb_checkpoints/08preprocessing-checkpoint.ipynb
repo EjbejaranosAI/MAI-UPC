{
 "cells": [
  {
   "cell_type": "markdown",
   "metadata": {},
   "source": [
    "`Lab creado por Margarita Geleta para el curso Introducción a Machine Learning JEDI, edición 2021`\n",
    "\n",
    "# Preprocesamiento de datos\n",
    "\n",
    "> Garbage in, Garbage out\n",
    "\n",
    "Limpiar bien los datos es fundamental para construir un buen modelo de Machine Learning. El preprocesamiento de datos ocupará gran parte del proyecto (normalmente ocupa un 50%-80% en proyectos reales). En este notebook reparasremos trucos, pistas y algunas reglas para limpiar y transformar datos en la etapa de *preprocessing*.\n",
    "\n",
    "**La lista no es completa (!)**\n",
    "\n",
    "---"
   ]
  },
  {
   "cell_type": "markdown",
   "metadata": {},
   "source": [
    "## Cargar datos\n",
    "\n",
    "Antes de cargar los datos, debemos echar un vistazo a los datos \"crudos\". \n",
    "\n",
    "- ¿Es un `.csv`, un `.tsv`, un `.txt`, un Excel, un `.json` ... ?`\n",
    "- ¿Cuál es el separador de columnas? \n",
    "- ¿Y el separador decimal? \n",
    "- ¿Tiene `header`?\n",
    "- Si es una tabla de Excel, ¿qué hoja estamos leyendo y cuántas deberíamos leer?\n",
    "\n",
    "Todo esto lo podemos pasar como parámetros a la función de lectura de datos. No os olvideis de revisar la documentación: https://pandas.pydata.org/pandas-docs/stable/reference/index.html\n",
    "\n",
    "---"
   ]
  },
  {
   "cell_type": "markdown",
   "metadata": {},
   "source": [
    "## Estructura\n",
    "\n",
    "Si no tenemos el `header`, sería mejor renombrar las columnas. Podemos acceder a las columnas con `df.columns` y podemos sobreescribir.\n",
    "\n",
    "Normalmente las tablas tienen filas y columnas, donde las filas representan observaciones y las columnas variables. Pero a veces hay casos especiales cuando una variable puede estar repartida entre varias columnas o varias variables en una misma columa. Veamos ejemplos.\n",
    "\n",
    "**Estructura estándar**:\n",
    "- Filas: John, Jane, Mary. \n",
    "- Columnas: tratamiento (con 2 categorias: A y B), valor. \n",
    "\n",
    "**Caso: column headers son variables, no valores**:\n",
    "- Filas: John, Jane, Mary. \n",
    "- Columnas: tratamiento_A, tratamiento_B. \n",
    "- Cada celda contendrá el valor por tratamiento.\n",
    "\n",
    "### Wide to Long format"
   ]
  },
  {
   "cell_type": "code",
   "execution_count": 1,
   "metadata": {},
   "outputs": [
    {
     "data": {
      "text/html": [
       "<div>\n",
       "<style scoped>\n",
       "    .dataframe tbody tr th:only-of-type {\n",
       "        vertical-align: middle;\n",
       "    }\n",
       "\n",
       "    .dataframe tbody tr th {\n",
       "        vertical-align: top;\n",
       "    }\n",
       "\n",
       "    .dataframe thead th {\n",
       "        text-align: right;\n",
       "    }\n",
       "</style>\n",
       "<table border=\"1\" class=\"dataframe\">\n",
       "  <thead>\n",
       "    <tr style=\"text-align: right;\">\n",
       "      <th></th>\n",
       "      <th>tratamiento_A</th>\n",
       "      <th>tratamiento_B</th>\n",
       "      <th>tratamiento_C</th>\n",
       "      <th>Funciona</th>\n",
       "    </tr>\n",
       "  </thead>\n",
       "  <tbody>\n",
       "    <tr>\n",
       "      <th>John</th>\n",
       "      <td>12.60</td>\n",
       "      <td>1.3</td>\n",
       "      <td>2.40</td>\n",
       "      <td>True</td>\n",
       "    </tr>\n",
       "    <tr>\n",
       "      <th>Jane</th>\n",
       "      <td>14.50</td>\n",
       "      <td>3.5</td>\n",
       "      <td>0.04</td>\n",
       "      <td>False</td>\n",
       "    </tr>\n",
       "    <tr>\n",
       "      <th>Mary</th>\n",
       "      <td>11.75</td>\n",
       "      <td>5.2</td>\n",
       "      <td>3.00</td>\n",
       "      <td>True</td>\n",
       "    </tr>\n",
       "  </tbody>\n",
       "</table>\n",
       "</div>"
      ],
      "text/plain": [
       "      tratamiento_A  tratamiento_B  tratamiento_C  Funciona\n",
       "John          12.60            1.3           2.40      True\n",
       "Jane          14.50            3.5           0.04     False\n",
       "Mary          11.75            5.2           3.00      True"
      ]
     },
     "execution_count": 1,
     "metadata": {},
     "output_type": "execute_result"
    }
   ],
   "source": [
    "import pandas as pd\n",
    "df = pd.DataFrame({'tratamiento_A': {'John': 12.6, 'Jane': 14.5, 'Mary': 11.75},\n",
    "                   'tratamiento_B': {'John': 1.3, 'Jane': 3.5, 'Mary': 5.2},\n",
    "                   'tratamiento_C': {'John': 2.4, 'Jane': 0.04, 'Mary': 3},\n",
    "                   'Funciona': {'John': True, 'Jane': False, 'Mary': True}\n",
    "                  })\n",
    "df"
   ]
  },
  {
   "cell_type": "code",
   "execution_count": 2,
   "metadata": {},
   "outputs": [
    {
     "data": {
      "text/html": [
       "<div>\n",
       "<style scoped>\n",
       "    .dataframe tbody tr th:only-of-type {\n",
       "        vertical-align: middle;\n",
       "    }\n",
       "\n",
       "    .dataframe tbody tr th {\n",
       "        vertical-align: top;\n",
       "    }\n",
       "\n",
       "    .dataframe thead th {\n",
       "        text-align: right;\n",
       "    }\n",
       "</style>\n",
       "<table border=\"1\" class=\"dataframe\">\n",
       "  <thead>\n",
       "    <tr style=\"text-align: right;\">\n",
       "      <th></th>\n",
       "      <th>tratamiento_A</th>\n",
       "      <th>variable</th>\n",
       "      <th>value</th>\n",
       "    </tr>\n",
       "  </thead>\n",
       "  <tbody>\n",
       "    <tr>\n",
       "      <th>0</th>\n",
       "      <td>12.60</td>\n",
       "      <td>tratamiento_B</td>\n",
       "      <td>1.3</td>\n",
       "    </tr>\n",
       "    <tr>\n",
       "      <th>1</th>\n",
       "      <td>14.50</td>\n",
       "      <td>tratamiento_B</td>\n",
       "      <td>3.5</td>\n",
       "    </tr>\n",
       "    <tr>\n",
       "      <th>2</th>\n",
       "      <td>11.75</td>\n",
       "      <td>tratamiento_B</td>\n",
       "      <td>5.2</td>\n",
       "    </tr>\n",
       "  </tbody>\n",
       "</table>\n",
       "</div>"
      ],
      "text/plain": [
       "   tratamiento_A       variable  value\n",
       "0          12.60  tratamiento_B    1.3\n",
       "1          14.50  tratamiento_B    3.5\n",
       "2          11.75  tratamiento_B    5.2"
      ]
     },
     "execution_count": 2,
     "metadata": {},
     "output_type": "execute_result"
    }
   ],
   "source": [
    "# id_vars son las columnas identificadoras\n",
    "# values_vars son las variables que transformamos\n",
    "pd.melt(df, id_vars = ['tratamiento_A'], value_vars = ['tratamiento_B'])"
   ]
  },
  {
   "cell_type": "code",
   "execution_count": 3,
   "metadata": {},
   "outputs": [
    {
     "data": {
      "text/html": [
       "<div>\n",
       "<style scoped>\n",
       "    .dataframe tbody tr th:only-of-type {\n",
       "        vertical-align: middle;\n",
       "    }\n",
       "\n",
       "    .dataframe tbody tr th {\n",
       "        vertical-align: top;\n",
       "    }\n",
       "\n",
       "    .dataframe thead th {\n",
       "        text-align: right;\n",
       "    }\n",
       "</style>\n",
       "<table border=\"1\" class=\"dataframe\">\n",
       "  <thead>\n",
       "    <tr style=\"text-align: right;\">\n",
       "      <th></th>\n",
       "      <th>nombre</th>\n",
       "      <th>variable</th>\n",
       "      <th>value</th>\n",
       "    </tr>\n",
       "  </thead>\n",
       "  <tbody>\n",
       "    <tr>\n",
       "      <th>0</th>\n",
       "      <td>John</td>\n",
       "      <td>tratamiento_A</td>\n",
       "      <td>12.60</td>\n",
       "    </tr>\n",
       "    <tr>\n",
       "      <th>1</th>\n",
       "      <td>Jane</td>\n",
       "      <td>tratamiento_A</td>\n",
       "      <td>14.50</td>\n",
       "    </tr>\n",
       "    <tr>\n",
       "      <th>2</th>\n",
       "      <td>Mary</td>\n",
       "      <td>tratamiento_A</td>\n",
       "      <td>11.75</td>\n",
       "    </tr>\n",
       "    <tr>\n",
       "      <th>3</th>\n",
       "      <td>John</td>\n",
       "      <td>tratamiento_B</td>\n",
       "      <td>1.30</td>\n",
       "    </tr>\n",
       "    <tr>\n",
       "      <th>4</th>\n",
       "      <td>Jane</td>\n",
       "      <td>tratamiento_B</td>\n",
       "      <td>3.50</td>\n",
       "    </tr>\n",
       "    <tr>\n",
       "      <th>5</th>\n",
       "      <td>Mary</td>\n",
       "      <td>tratamiento_B</td>\n",
       "      <td>5.20</td>\n",
       "    </tr>\n",
       "  </tbody>\n",
       "</table>\n",
       "</div>"
      ],
      "text/plain": [
       "  nombre       variable  value\n",
       "0   John  tratamiento_A  12.60\n",
       "1   Jane  tratamiento_A  14.50\n",
       "2   Mary  tratamiento_A  11.75\n",
       "3   John  tratamiento_B   1.30\n",
       "4   Jane  tratamiento_B   3.50\n",
       "5   Mary  tratamiento_B   5.20"
      ]
     },
     "execution_count": 3,
     "metadata": {},
     "output_type": "execute_result"
    }
   ],
   "source": [
    "df['nombre'] = df.index\n",
    "pd.melt(df, id_vars = ['nombre'], value_vars = ['tratamiento_A', 'tratamiento_B'])"
   ]
  },
  {
   "cell_type": "code",
   "execution_count": 4,
   "metadata": {},
   "outputs": [
    {
     "data": {
      "text/html": [
       "<div>\n",
       "<style scoped>\n",
       "    .dataframe tbody tr th:only-of-type {\n",
       "        vertical-align: middle;\n",
       "    }\n",
       "\n",
       "    .dataframe tbody tr th {\n",
       "        vertical-align: top;\n",
       "    }\n",
       "\n",
       "    .dataframe thead th {\n",
       "        text-align: right;\n",
       "    }\n",
       "</style>\n",
       "<table border=\"1\" class=\"dataframe\">\n",
       "  <thead>\n",
       "    <tr style=\"text-align: right;\">\n",
       "      <th></th>\n",
       "      <th>nombre</th>\n",
       "      <th>tratamiento</th>\n",
       "      <th>dosis</th>\n",
       "    </tr>\n",
       "  </thead>\n",
       "  <tbody>\n",
       "    <tr>\n",
       "      <th>0</th>\n",
       "      <td>John</td>\n",
       "      <td>tratamiento_A</td>\n",
       "      <td>12.60</td>\n",
       "    </tr>\n",
       "    <tr>\n",
       "      <th>1</th>\n",
       "      <td>Jane</td>\n",
       "      <td>tratamiento_A</td>\n",
       "      <td>14.50</td>\n",
       "    </tr>\n",
       "    <tr>\n",
       "      <th>2</th>\n",
       "      <td>Mary</td>\n",
       "      <td>tratamiento_A</td>\n",
       "      <td>11.75</td>\n",
       "    </tr>\n",
       "    <tr>\n",
       "      <th>3</th>\n",
       "      <td>John</td>\n",
       "      <td>tratamiento_B</td>\n",
       "      <td>1.30</td>\n",
       "    </tr>\n",
       "    <tr>\n",
       "      <th>4</th>\n",
       "      <td>Jane</td>\n",
       "      <td>tratamiento_B</td>\n",
       "      <td>3.50</td>\n",
       "    </tr>\n",
       "    <tr>\n",
       "      <th>5</th>\n",
       "      <td>Mary</td>\n",
       "      <td>tratamiento_B</td>\n",
       "      <td>5.20</td>\n",
       "    </tr>\n",
       "  </tbody>\n",
       "</table>\n",
       "</div>"
      ],
      "text/plain": [
       "  nombre    tratamiento  dosis\n",
       "0   John  tratamiento_A  12.60\n",
       "1   Jane  tratamiento_A  14.50\n",
       "2   Mary  tratamiento_A  11.75\n",
       "3   John  tratamiento_B   1.30\n",
       "4   Jane  tratamiento_B   3.50\n",
       "5   Mary  tratamiento_B   5.20"
      ]
     },
     "execution_count": 4,
     "metadata": {},
     "output_type": "execute_result"
    }
   ],
   "source": [
    "pd.melt(df, id_vars = ['nombre'], value_vars = ['tratamiento_A', 'tratamiento_B'], \n",
    "        var_name = 'tratamiento', value_name = 'dosis')"
   ]
  },
  {
   "cell_type": "code",
   "execution_count": 5,
   "metadata": {},
   "outputs": [
    {
     "data": {
      "text/html": [
       "<div>\n",
       "<style scoped>\n",
       "    .dataframe tbody tr th:only-of-type {\n",
       "        vertical-align: middle;\n",
       "    }\n",
       "\n",
       "    .dataframe tbody tr th {\n",
       "        vertical-align: top;\n",
       "    }\n",
       "\n",
       "    .dataframe thead th {\n",
       "        text-align: right;\n",
       "    }\n",
       "</style>\n",
       "<table border=\"1\" class=\"dataframe\">\n",
       "  <thead>\n",
       "    <tr style=\"text-align: right;\">\n",
       "      <th></th>\n",
       "      <th>nombre</th>\n",
       "      <th>Funciona</th>\n",
       "      <th>tratamiento</th>\n",
       "      <th>dosis</th>\n",
       "    </tr>\n",
       "  </thead>\n",
       "  <tbody>\n",
       "    <tr>\n",
       "      <th>0</th>\n",
       "      <td>John</td>\n",
       "      <td>True</td>\n",
       "      <td>tratamiento_A</td>\n",
       "      <td>12.60</td>\n",
       "    </tr>\n",
       "    <tr>\n",
       "      <th>1</th>\n",
       "      <td>Jane</td>\n",
       "      <td>False</td>\n",
       "      <td>tratamiento_A</td>\n",
       "      <td>14.50</td>\n",
       "    </tr>\n",
       "    <tr>\n",
       "      <th>2</th>\n",
       "      <td>Mary</td>\n",
       "      <td>True</td>\n",
       "      <td>tratamiento_A</td>\n",
       "      <td>11.75</td>\n",
       "    </tr>\n",
       "    <tr>\n",
       "      <th>3</th>\n",
       "      <td>John</td>\n",
       "      <td>True</td>\n",
       "      <td>tratamiento_B</td>\n",
       "      <td>1.30</td>\n",
       "    </tr>\n",
       "    <tr>\n",
       "      <th>4</th>\n",
       "      <td>Jane</td>\n",
       "      <td>False</td>\n",
       "      <td>tratamiento_B</td>\n",
       "      <td>3.50</td>\n",
       "    </tr>\n",
       "    <tr>\n",
       "      <th>5</th>\n",
       "      <td>Mary</td>\n",
       "      <td>True</td>\n",
       "      <td>tratamiento_B</td>\n",
       "      <td>5.20</td>\n",
       "    </tr>\n",
       "    <tr>\n",
       "      <th>6</th>\n",
       "      <td>John</td>\n",
       "      <td>True</td>\n",
       "      <td>tratamiento_C</td>\n",
       "      <td>2.40</td>\n",
       "    </tr>\n",
       "    <tr>\n",
       "      <th>7</th>\n",
       "      <td>Jane</td>\n",
       "      <td>False</td>\n",
       "      <td>tratamiento_C</td>\n",
       "      <td>0.04</td>\n",
       "    </tr>\n",
       "    <tr>\n",
       "      <th>8</th>\n",
       "      <td>Mary</td>\n",
       "      <td>True</td>\n",
       "      <td>tratamiento_C</td>\n",
       "      <td>3.00</td>\n",
       "    </tr>\n",
       "  </tbody>\n",
       "</table>\n",
       "</div>"
      ],
      "text/plain": [
       "  nombre  Funciona    tratamiento  dosis\n",
       "0   John      True  tratamiento_A  12.60\n",
       "1   Jane     False  tratamiento_A  14.50\n",
       "2   Mary      True  tratamiento_A  11.75\n",
       "3   John      True  tratamiento_B   1.30\n",
       "4   Jane     False  tratamiento_B   3.50\n",
       "5   Mary      True  tratamiento_B   5.20\n",
       "6   John      True  tratamiento_C   2.40\n",
       "7   Jane     False  tratamiento_C   0.04\n",
       "8   Mary      True  tratamiento_C   3.00"
      ]
     },
     "execution_count": 5,
     "metadata": {},
     "output_type": "execute_result"
    }
   ],
   "source": [
    "dff = pd.melt(df, id_vars = ['nombre', 'Funciona'], value_vars = ['tratamiento_A', 'tratamiento_B', 'tratamiento_C'], \n",
    "        var_name = 'tratamiento', value_name = 'dosis')\n",
    "dff"
   ]
  },
  {
   "cell_type": "code",
   "execution_count": 6,
   "metadata": {},
   "outputs": [
    {
     "data": {
      "text/html": [
       "<div>\n",
       "<style scoped>\n",
       "    .dataframe tbody tr th:only-of-type {\n",
       "        vertical-align: middle;\n",
       "    }\n",
       "\n",
       "    .dataframe tbody tr th {\n",
       "        vertical-align: top;\n",
       "    }\n",
       "\n",
       "    .dataframe thead th {\n",
       "        text-align: right;\n",
       "    }\n",
       "</style>\n",
       "<table border=\"1\" class=\"dataframe\">\n",
       "  <thead>\n",
       "    <tr style=\"text-align: right;\">\n",
       "      <th></th>\n",
       "      <th>tratamiento_A</th>\n",
       "      <th>tratamiento_B</th>\n",
       "      <th>tratamiento_C</th>\n",
       "      <th>Funciona</th>\n",
       "      <th>nombre</th>\n",
       "    </tr>\n",
       "  </thead>\n",
       "  <tbody>\n",
       "    <tr>\n",
       "      <th>John</th>\n",
       "      <td>12.60</td>\n",
       "      <td>1.3</td>\n",
       "      <td>2.40</td>\n",
       "      <td>True</td>\n",
       "      <td>John</td>\n",
       "    </tr>\n",
       "    <tr>\n",
       "      <th>Jane</th>\n",
       "      <td>14.50</td>\n",
       "      <td>3.5</td>\n",
       "      <td>0.04</td>\n",
       "      <td>False</td>\n",
       "      <td>Jane</td>\n",
       "    </tr>\n",
       "    <tr>\n",
       "      <th>Mary</th>\n",
       "      <td>11.75</td>\n",
       "      <td>5.2</td>\n",
       "      <td>3.00</td>\n",
       "      <td>True</td>\n",
       "      <td>Mary</td>\n",
       "    </tr>\n",
       "  </tbody>\n",
       "</table>\n",
       "</div>"
      ],
      "text/plain": [
       "      tratamiento_A  tratamiento_B  tratamiento_C  Funciona nombre\n",
       "John          12.60            1.3           2.40      True   John\n",
       "Jane          14.50            3.5           0.04     False   Jane\n",
       "Mary          11.75            5.2           3.00      True   Mary"
      ]
     },
     "execution_count": 6,
     "metadata": {},
     "output_type": "execute_result"
    }
   ],
   "source": [
    "df"
   ]
  },
  {
   "cell_type": "code",
   "execution_count": 7,
   "metadata": {},
   "outputs": [
    {
     "data": {
      "text/html": [
       "<div>\n",
       "<style scoped>\n",
       "    .dataframe tbody tr th:only-of-type {\n",
       "        vertical-align: middle;\n",
       "    }\n",
       "\n",
       "    .dataframe tbody tr th {\n",
       "        vertical-align: top;\n",
       "    }\n",
       "\n",
       "    .dataframe thead th {\n",
       "        text-align: right;\n",
       "    }\n",
       "</style>\n",
       "<table border=\"1\" class=\"dataframe\">\n",
       "  <thead>\n",
       "    <tr style=\"text-align: right;\">\n",
       "      <th></th>\n",
       "      <th></th>\n",
       "      <th>Funciona</th>\n",
       "      <th>tratamiento</th>\n",
       "    </tr>\n",
       "    <tr>\n",
       "      <th>nombre</th>\n",
       "      <th>tipo</th>\n",
       "      <th></th>\n",
       "      <th></th>\n",
       "    </tr>\n",
       "  </thead>\n",
       "  <tbody>\n",
       "    <tr>\n",
       "      <th>John</th>\n",
       "      <th>A</th>\n",
       "      <td>True</td>\n",
       "      <td>12.60</td>\n",
       "    </tr>\n",
       "    <tr>\n",
       "      <th>Jane</th>\n",
       "      <th>A</th>\n",
       "      <td>False</td>\n",
       "      <td>14.50</td>\n",
       "    </tr>\n",
       "    <tr>\n",
       "      <th>Mary</th>\n",
       "      <th>A</th>\n",
       "      <td>True</td>\n",
       "      <td>11.75</td>\n",
       "    </tr>\n",
       "    <tr>\n",
       "      <th>John</th>\n",
       "      <th>B</th>\n",
       "      <td>True</td>\n",
       "      <td>1.30</td>\n",
       "    </tr>\n",
       "    <tr>\n",
       "      <th>Jane</th>\n",
       "      <th>B</th>\n",
       "      <td>False</td>\n",
       "      <td>3.50</td>\n",
       "    </tr>\n",
       "    <tr>\n",
       "      <th>Mary</th>\n",
       "      <th>B</th>\n",
       "      <td>True</td>\n",
       "      <td>5.20</td>\n",
       "    </tr>\n",
       "    <tr>\n",
       "      <th>John</th>\n",
       "      <th>C</th>\n",
       "      <td>True</td>\n",
       "      <td>2.40</td>\n",
       "    </tr>\n",
       "    <tr>\n",
       "      <th>Jane</th>\n",
       "      <th>C</th>\n",
       "      <td>False</td>\n",
       "      <td>0.04</td>\n",
       "    </tr>\n",
       "    <tr>\n",
       "      <th>Mary</th>\n",
       "      <th>C</th>\n",
       "      <td>True</td>\n",
       "      <td>3.00</td>\n",
       "    </tr>\n",
       "  </tbody>\n",
       "</table>\n",
       "</div>"
      ],
      "text/plain": [
       "             Funciona  tratamiento\n",
       "nombre tipo                       \n",
       "John   A         True        12.60\n",
       "Jane   A        False        14.50\n",
       "Mary   A         True        11.75\n",
       "John   B         True         1.30\n",
       "Jane   B        False         3.50\n",
       "Mary   B         True         5.20\n",
       "John   C         True         2.40\n",
       "Jane   C        False         0.04\n",
       "Mary   C         True         3.00"
      ]
     },
     "execution_count": 7,
     "metadata": {},
     "output_type": "execute_result"
    }
   ],
   "source": [
    "pd.wide_to_long(df, ['tratamiento'], i = 'nombre', j  = 'tipo', sep =  '_', suffix = '\\w+')"
   ]
  },
  {
   "cell_type": "code",
   "execution_count": 8,
   "metadata": {},
   "outputs": [],
   "source": [
    "import numpy as np\n",
    "df = pd.DataFrame({'A(weekly)-2010': np.random.rand(3),\n",
    "                   'A(weekly)-2011': np.random.rand(3),\n",
    "                   'B(weekly)-2010': np.random.rand(3),\n",
    "                   'B(weekly)-2011': np.random.rand(3),\n",
    "                   'target' : np.random.randint(3, size=3)})\n",
    "df['id'] = df.index"
   ]
  },
  {
   "cell_type": "code",
   "execution_count": 9,
   "metadata": {},
   "outputs": [
    {
     "data": {
      "text/html": [
       "<div>\n",
       "<style scoped>\n",
       "    .dataframe tbody tr th:only-of-type {\n",
       "        vertical-align: middle;\n",
       "    }\n",
       "\n",
       "    .dataframe tbody tr th {\n",
       "        vertical-align: top;\n",
       "    }\n",
       "\n",
       "    .dataframe thead th {\n",
       "        text-align: right;\n",
       "    }\n",
       "</style>\n",
       "<table border=\"1\" class=\"dataframe\">\n",
       "  <thead>\n",
       "    <tr style=\"text-align: right;\">\n",
       "      <th></th>\n",
       "      <th>A(weekly)-2010</th>\n",
       "      <th>A(weekly)-2011</th>\n",
       "      <th>B(weekly)-2010</th>\n",
       "      <th>B(weekly)-2011</th>\n",
       "      <th>target</th>\n",
       "      <th>id</th>\n",
       "    </tr>\n",
       "  </thead>\n",
       "  <tbody>\n",
       "    <tr>\n",
       "      <th>0</th>\n",
       "      <td>0.091339</td>\n",
       "      <td>0.121314</td>\n",
       "      <td>0.771361</td>\n",
       "      <td>0.711559</td>\n",
       "      <td>1</td>\n",
       "      <td>0</td>\n",
       "    </tr>\n",
       "    <tr>\n",
       "      <th>1</th>\n",
       "      <td>0.355159</td>\n",
       "      <td>0.541969</td>\n",
       "      <td>0.091577</td>\n",
       "      <td>0.358918</td>\n",
       "      <td>0</td>\n",
       "      <td>1</td>\n",
       "    </tr>\n",
       "    <tr>\n",
       "      <th>2</th>\n",
       "      <td>0.350464</td>\n",
       "      <td>0.984482</td>\n",
       "      <td>0.154835</td>\n",
       "      <td>0.899214</td>\n",
       "      <td>0</td>\n",
       "      <td>2</td>\n",
       "    </tr>\n",
       "  </tbody>\n",
       "</table>\n",
       "</div>"
      ],
      "text/plain": [
       "   A(weekly)-2010  A(weekly)-2011  B(weekly)-2010  B(weekly)-2011  target  id\n",
       "0        0.091339        0.121314        0.771361        0.711559       1   0\n",
       "1        0.355159        0.541969        0.091577        0.358918       0   1\n",
       "2        0.350464        0.984482        0.154835        0.899214       0   2"
      ]
     },
     "execution_count": 9,
     "metadata": {},
     "output_type": "execute_result"
    }
   ],
   "source": [
    "df"
   ]
  },
  {
   "cell_type": "code",
   "execution_count": 10,
   "metadata": {},
   "outputs": [
    {
     "data": {
      "text/html": [
       "<div>\n",
       "<style scoped>\n",
       "    .dataframe tbody tr th:only-of-type {\n",
       "        vertical-align: middle;\n",
       "    }\n",
       "\n",
       "    .dataframe tbody tr th {\n",
       "        vertical-align: top;\n",
       "    }\n",
       "\n",
       "    .dataframe thead th {\n",
       "        text-align: right;\n",
       "    }\n",
       "</style>\n",
       "<table border=\"1\" class=\"dataframe\">\n",
       "  <thead>\n",
       "    <tr style=\"text-align: right;\">\n",
       "      <th></th>\n",
       "      <th></th>\n",
       "      <th>target</th>\n",
       "      <th>A(weekly)</th>\n",
       "      <th>B(weekly)</th>\n",
       "    </tr>\n",
       "    <tr>\n",
       "      <th>id</th>\n",
       "      <th>year</th>\n",
       "      <th></th>\n",
       "      <th></th>\n",
       "      <th></th>\n",
       "    </tr>\n",
       "  </thead>\n",
       "  <tbody>\n",
       "    <tr>\n",
       "      <th>0</th>\n",
       "      <th>2010</th>\n",
       "      <td>1</td>\n",
       "      <td>0.091339</td>\n",
       "      <td>0.771361</td>\n",
       "    </tr>\n",
       "    <tr>\n",
       "      <th>1</th>\n",
       "      <th>2010</th>\n",
       "      <td>0</td>\n",
       "      <td>0.355159</td>\n",
       "      <td>0.091577</td>\n",
       "    </tr>\n",
       "    <tr>\n",
       "      <th>2</th>\n",
       "      <th>2010</th>\n",
       "      <td>0</td>\n",
       "      <td>0.350464</td>\n",
       "      <td>0.154835</td>\n",
       "    </tr>\n",
       "    <tr>\n",
       "      <th>0</th>\n",
       "      <th>2011</th>\n",
       "      <td>1</td>\n",
       "      <td>0.121314</td>\n",
       "      <td>0.711559</td>\n",
       "    </tr>\n",
       "    <tr>\n",
       "      <th>1</th>\n",
       "      <th>2011</th>\n",
       "      <td>0</td>\n",
       "      <td>0.541969</td>\n",
       "      <td>0.358918</td>\n",
       "    </tr>\n",
       "    <tr>\n",
       "      <th>2</th>\n",
       "      <th>2011</th>\n",
       "      <td>0</td>\n",
       "      <td>0.984482</td>\n",
       "      <td>0.899214</td>\n",
       "    </tr>\n",
       "  </tbody>\n",
       "</table>\n",
       "</div>"
      ],
      "text/plain": [
       "         target  A(weekly)  B(weekly)\n",
       "id year                              \n",
       "0  2010       1   0.091339   0.771361\n",
       "1  2010       0   0.355159   0.091577\n",
       "2  2010       0   0.350464   0.154835\n",
       "0  2011       1   0.121314   0.711559\n",
       "1  2011       0   0.541969   0.358918\n",
       "2  2011       0   0.984482   0.899214"
      ]
     },
     "execution_count": 10,
     "metadata": {},
     "output_type": "execute_result"
    }
   ],
   "source": [
    "pd.wide_to_long(df, ['A(weekly)', 'B(weekly)'], i = 'id', j  = 'year', sep =  '-')"
   ]
  },
  {
   "cell_type": "markdown",
   "metadata": {},
   "source": [
    "### Partir una columna en varias variables"
   ]
  },
  {
   "cell_type": "code",
   "execution_count": 11,
   "metadata": {},
   "outputs": [
    {
     "data": {
      "text/html": [
       "<div>\n",
       "<style scoped>\n",
       "    .dataframe tbody tr th:only-of-type {\n",
       "        vertical-align: middle;\n",
       "    }\n",
       "\n",
       "    .dataframe tbody tr th {\n",
       "        vertical-align: top;\n",
       "    }\n",
       "\n",
       "    .dataframe thead th {\n",
       "        text-align: right;\n",
       "    }\n",
       "</style>\n",
       "<table border=\"1\" class=\"dataframe\">\n",
       "  <thead>\n",
       "    <tr style=\"text-align: right;\">\n",
       "      <th></th>\n",
       "      <th>Name</th>\n",
       "      <th>Age</th>\n",
       "      <th>Address</th>\n",
       "    </tr>\n",
       "  </thead>\n",
       "  <tbody>\n",
       "    <tr>\n",
       "      <th>0</th>\n",
       "      <td>John</td>\n",
       "      <td>24</td>\n",
       "      <td>01001  Autauga County, AL</td>\n",
       "    </tr>\n",
       "    <tr>\n",
       "      <th>1</th>\n",
       "      <td>Jane</td>\n",
       "      <td>36</td>\n",
       "      <td>01003  Baldwin County, AL</td>\n",
       "    </tr>\n",
       "    <tr>\n",
       "      <th>2</th>\n",
       "      <td>Mary</td>\n",
       "      <td>12</td>\n",
       "      <td>01005  Barbour County, AL</td>\n",
       "    </tr>\n",
       "  </tbody>\n",
       "</table>\n",
       "</div>"
      ],
      "text/plain": [
       "   Name  Age                    Address\n",
       "0  John   24  01001  Autauga County, AL\n",
       "1  Jane   36  01003  Baldwin County, AL\n",
       "2  Mary   12  01005  Barbour County, AL"
      ]
     },
     "execution_count": 11,
     "metadata": {},
     "output_type": "execute_result"
    }
   ],
   "source": [
    "df = pd.DataFrame({'Name': {'0': 'John', '1': 'Jane', '2': 'Mary'},\n",
    "                   'Age': {'0': 24, '1': 36, '2': 12},\n",
    "                   'Address': {'0': '01001  Autauga County, AL', \n",
    "                               '1': '01003  Baldwin County, AL', \n",
    "                               '2': '01005  Barbour County, AL'}\n",
    "                  })\n",
    "df"
   ]
  },
  {
   "cell_type": "code",
   "execution_count": 12,
   "metadata": {},
   "outputs": [
    {
     "data": {
      "text/html": [
       "<div>\n",
       "<style scoped>\n",
       "    .dataframe tbody tr th:only-of-type {\n",
       "        vertical-align: middle;\n",
       "    }\n",
       "\n",
       "    .dataframe tbody tr th {\n",
       "        vertical-align: top;\n",
       "    }\n",
       "\n",
       "    .dataframe thead th {\n",
       "        text-align: right;\n",
       "    }\n",
       "</style>\n",
       "<table border=\"1\" class=\"dataframe\">\n",
       "  <thead>\n",
       "    <tr style=\"text-align: right;\">\n",
       "      <th></th>\n",
       "      <th>0</th>\n",
       "      <th>1</th>\n",
       "    </tr>\n",
       "  </thead>\n",
       "  <tbody>\n",
       "    <tr>\n",
       "      <th>0</th>\n",
       "      <td>01001</td>\n",
       "      <td>Autauga County, AL</td>\n",
       "    </tr>\n",
       "    <tr>\n",
       "      <th>1</th>\n",
       "      <td>01003</td>\n",
       "      <td>Baldwin County, AL</td>\n",
       "    </tr>\n",
       "    <tr>\n",
       "      <th>2</th>\n",
       "      <td>01005</td>\n",
       "      <td>Barbour County, AL</td>\n",
       "    </tr>\n",
       "  </tbody>\n",
       "</table>\n",
       "</div>"
      ],
      "text/plain": [
       "       0                    1\n",
       "0  01001   Autauga County, AL\n",
       "1  01003   Baldwin County, AL\n",
       "2  01005   Barbour County, AL"
      ]
     },
     "execution_count": 12,
     "metadata": {},
     "output_type": "execute_result"
    }
   ],
   "source": [
    "df['Address'].str.split(' ', 1, expand = True) # expand para crear las nuevas columnas "
   ]
  },
  {
   "cell_type": "code",
   "execution_count": 13,
   "metadata": {},
   "outputs": [
    {
     "data": {
      "text/html": [
       "<div>\n",
       "<style scoped>\n",
       "    .dataframe tbody tr th:only-of-type {\n",
       "        vertical-align: middle;\n",
       "    }\n",
       "\n",
       "    .dataframe tbody tr th {\n",
       "        vertical-align: top;\n",
       "    }\n",
       "\n",
       "    .dataframe thead th {\n",
       "        text-align: right;\n",
       "    }\n",
       "</style>\n",
       "<table border=\"1\" class=\"dataframe\">\n",
       "  <thead>\n",
       "    <tr style=\"text-align: right;\">\n",
       "      <th></th>\n",
       "      <th>zip code</th>\n",
       "      <th>Street</th>\n",
       "    </tr>\n",
       "  </thead>\n",
       "  <tbody>\n",
       "    <tr>\n",
       "      <th>0</th>\n",
       "      <td>01001</td>\n",
       "      <td>Autauga County, AL</td>\n",
       "    </tr>\n",
       "    <tr>\n",
       "      <th>1</th>\n",
       "      <td>01003</td>\n",
       "      <td>Baldwin County, AL</td>\n",
       "    </tr>\n",
       "    <tr>\n",
       "      <th>2</th>\n",
       "      <td>01005</td>\n",
       "      <td>Barbour County, AL</td>\n",
       "    </tr>\n",
       "  </tbody>\n",
       "</table>\n",
       "</div>"
      ],
      "text/plain": [
       "  zip code               Street\n",
       "0    01001   Autauga County, AL\n",
       "1    01003   Baldwin County, AL\n",
       "2    01005   Barbour County, AL"
      ]
     },
     "execution_count": 13,
     "metadata": {},
     "output_type": "execute_result"
    }
   ],
   "source": [
    "df['Address'].str.split(' ', 1, expand = True).rename(columns = {0: 'zip code', 1: 'Street'})"
   ]
  },
  {
   "cell_type": "markdown",
   "metadata": {},
   "source": [
    "---\n",
    "# Limpieza\n",
    "\n",
    "Recuerda: `garbage in, garbage out`.\n",
    "\n",
    "- **Datos irrelevantes**: solo si sabemos que la varibles son 100% irrelevantes e inecesarios, podemos eliminarlas. Si no, una buena opción sería estudiar la matriz de correlación con las demás variables.\n",
    "- **Datos duplicados**: a vecez, al juntar tablas, podemos obtener columnas o filas repetidas. Naturalmente, deberíamos eliminar las repeticiones.\n",
    "- **Conversión de datos**: a veces tenemos variables enteras representadas en forma de strings o al revés. Siempre hay que comprobar el tipo de variables con `df.dtypes`. También podemos querer codificar variables categóricas (que pueden seer strings o lo que sea) en forma de enteros. Cuidado: cuando una conversión falla, se crea un NA.\n",
    "- **Trabajar con strings**: hay muchas funciones disponibles, como paddings, `.lower()`, `.upper()`, etc. Podemos encontrar patrones en los strings gracias a expresiones regulares (RegEx) o mappear las strings con un diccionario.\n",
    "- **Valores nulos (NAs)**: es lo peor que os podeis encontrar ... y os lo vais a encontrar ...\n"
   ]
  },
  {
   "cell_type": "code",
   "execution_count": 14,
   "metadata": {},
   "outputs": [
    {
     "data": {
      "text/plain": [
       "'HOLAA'"
      ]
     },
     "execution_count": 14,
     "metadata": {},
     "output_type": "execute_result"
    }
   ],
   "source": [
    "\"HOlAa\".upper()"
   ]
  },
  {
   "cell_type": "markdown",
   "metadata": {},
   "source": [
    "\n",
    "## Get dummies\n",
    "Para variables categóricas."
   ]
  },
  {
   "cell_type": "code",
   "execution_count": 15,
   "metadata": {},
   "outputs": [
    {
     "data": {
      "text/plain": [
       "nombre          object\n",
       "Funciona          bool\n",
       "tratamiento     object\n",
       "dosis          float64\n",
       "dtype: object"
      ]
     },
     "execution_count": 15,
     "metadata": {},
     "output_type": "execute_result"
    }
   ],
   "source": [
    "dff.dtypes"
   ]
  },
  {
   "cell_type": "code",
   "execution_count": 16,
   "metadata": {},
   "outputs": [
    {
     "data": {
      "text/html": [
       "<div>\n",
       "<style scoped>\n",
       "    .dataframe tbody tr th:only-of-type {\n",
       "        vertical-align: middle;\n",
       "    }\n",
       "\n",
       "    .dataframe tbody tr th {\n",
       "        vertical-align: top;\n",
       "    }\n",
       "\n",
       "    .dataframe thead th {\n",
       "        text-align: right;\n",
       "    }\n",
       "</style>\n",
       "<table border=\"1\" class=\"dataframe\">\n",
       "  <thead>\n",
       "    <tr style=\"text-align: right;\">\n",
       "      <th></th>\n",
       "      <th>Funciona</th>\n",
       "      <th>dosis</th>\n",
       "      <th>tratamiento_tratamiento_A</th>\n",
       "      <th>tratamiento_tratamiento_B</th>\n",
       "      <th>tratamiento_tratamiento_C</th>\n",
       "    </tr>\n",
       "  </thead>\n",
       "  <tbody>\n",
       "    <tr>\n",
       "      <th>0</th>\n",
       "      <td>True</td>\n",
       "      <td>12.60</td>\n",
       "      <td>1</td>\n",
       "      <td>0</td>\n",
       "      <td>0</td>\n",
       "    </tr>\n",
       "    <tr>\n",
       "      <th>1</th>\n",
       "      <td>False</td>\n",
       "      <td>14.50</td>\n",
       "      <td>1</td>\n",
       "      <td>0</td>\n",
       "      <td>0</td>\n",
       "    </tr>\n",
       "    <tr>\n",
       "      <th>2</th>\n",
       "      <td>True</td>\n",
       "      <td>11.75</td>\n",
       "      <td>1</td>\n",
       "      <td>0</td>\n",
       "      <td>0</td>\n",
       "    </tr>\n",
       "    <tr>\n",
       "      <th>3</th>\n",
       "      <td>True</td>\n",
       "      <td>1.30</td>\n",
       "      <td>0</td>\n",
       "      <td>1</td>\n",
       "      <td>0</td>\n",
       "    </tr>\n",
       "    <tr>\n",
       "      <th>4</th>\n",
       "      <td>False</td>\n",
       "      <td>3.50</td>\n",
       "      <td>0</td>\n",
       "      <td>1</td>\n",
       "      <td>0</td>\n",
       "    </tr>\n",
       "    <tr>\n",
       "      <th>5</th>\n",
       "      <td>True</td>\n",
       "      <td>5.20</td>\n",
       "      <td>0</td>\n",
       "      <td>1</td>\n",
       "      <td>0</td>\n",
       "    </tr>\n",
       "    <tr>\n",
       "      <th>6</th>\n",
       "      <td>True</td>\n",
       "      <td>2.40</td>\n",
       "      <td>0</td>\n",
       "      <td>0</td>\n",
       "      <td>1</td>\n",
       "    </tr>\n",
       "    <tr>\n",
       "      <th>7</th>\n",
       "      <td>False</td>\n",
       "      <td>0.04</td>\n",
       "      <td>0</td>\n",
       "      <td>0</td>\n",
       "      <td>1</td>\n",
       "    </tr>\n",
       "    <tr>\n",
       "      <th>8</th>\n",
       "      <td>True</td>\n",
       "      <td>3.00</td>\n",
       "      <td>0</td>\n",
       "      <td>0</td>\n",
       "      <td>1</td>\n",
       "    </tr>\n",
       "  </tbody>\n",
       "</table>\n",
       "</div>"
      ],
      "text/plain": [
       "   Funciona  dosis  tratamiento_tratamiento_A  tratamiento_tratamiento_B  \\\n",
       "0      True  12.60                          1                          0   \n",
       "1     False  14.50                          1                          0   \n",
       "2      True  11.75                          1                          0   \n",
       "3      True   1.30                          0                          1   \n",
       "4     False   3.50                          0                          1   \n",
       "5      True   5.20                          0                          1   \n",
       "6      True   2.40                          0                          0   \n",
       "7     False   0.04                          0                          0   \n",
       "8      True   3.00                          0                          0   \n",
       "\n",
       "   tratamiento_tratamiento_C  \n",
       "0                          0  \n",
       "1                          0  \n",
       "2                          0  \n",
       "3                          0  \n",
       "4                          0  \n",
       "5                          0  \n",
       "6                          1  \n",
       "7                          1  \n",
       "8                          1  "
      ]
     },
     "execution_count": 16,
     "metadata": {},
     "output_type": "execute_result"
    }
   ],
   "source": [
    "pd.get_dummies(dff.drop(['nombre'], axis = 1))"
   ]
  },
  {
   "cell_type": "markdown",
   "metadata": {},
   "source": [
    "---\n",
    "\n",
    "## Codificar categóricas (no ordinales)"
   ]
  },
  {
   "cell_type": "code",
   "execution_count": 17,
   "metadata": {},
   "outputs": [],
   "source": [
    "def encode_label(df): return df.astype('category').cat.codes"
   ]
  },
  {
   "cell_type": "code",
   "execution_count": 18,
   "metadata": {},
   "outputs": [
    {
     "data": {
      "text/plain": [
       "0    tratamiento_A\n",
       "1    tratamiento_A\n",
       "2    tratamiento_A\n",
       "3    tratamiento_B\n",
       "4    tratamiento_B\n",
       "5    tratamiento_B\n",
       "6    tratamiento_C\n",
       "7    tratamiento_C\n",
       "8    tratamiento_C\n",
       "Name: tratamiento, dtype: object"
      ]
     },
     "execution_count": 18,
     "metadata": {},
     "output_type": "execute_result"
    }
   ],
   "source": [
    "dff['tratamiento']"
   ]
  },
  {
   "cell_type": "code",
   "execution_count": 19,
   "metadata": {},
   "outputs": [
    {
     "data": {
      "text/plain": [
       "0    0\n",
       "1    0\n",
       "2    0\n",
       "3    1\n",
       "4    1\n",
       "5    1\n",
       "6    2\n",
       "7    2\n",
       "8    2\n",
       "dtype: int8"
      ]
     },
     "execution_count": 19,
     "metadata": {},
     "output_type": "execute_result"
    }
   ],
   "source": [
    "encode_label(dff['tratamiento'])"
   ]
  },
  {
   "cell_type": "markdown",
   "metadata": {},
   "source": [
    "---\n",
    "\n",
    "## Expresiones regulares\n",
    "\n",
    "https://docs.python.org/3/library/re.html\n",
    "\n",
    "Basado en metcarácteres.\n",
    "\n",
    "- `.` representa cualquier carácter.\n",
    "- `^` representa el inicio del string.\n",
    "- `$` representa el final del string`.\n",
    "- `*` representa 0 o infinitas repeticiones.\n",
    "- `+` representa 1 o infinitas repeticiones.\n",
    "- `?` representa 0 o 1 repeticiones.\n",
    "- `*?`, `+?`, `??`. \n",
    "- `{m}` especifica `m` repeticiones.\n",
    "- `{m, n}` especifica un rango de repeticiones.\n",
    "- `\\` escapa los metacarácteres.\n",
    "- `[]` indica un conjunto de carácteres.\n",
    "- `[a-z]`, `[0-9]`.\n",
    "- Construcciones más díficiles pero muy útiles: https://stackoverflow.com/questions/2973436/regex-lookahead-lookbehind-and-atomic-groups\n",
    "\n",
    "```\n",
    "match = re.search(pattern, string)\n",
    "if match:\n",
    "    process(match)\n",
    "```"
   ]
  },
  {
   "cell_type": "code",
   "execution_count": 20,
   "metadata": {},
   "outputs": [
    {
     "data": {
      "text/plain": [
       "'0.3'"
      ]
     },
     "execution_count": 20,
     "metadata": {},
     "output_type": "execute_result"
    }
   ],
   "source": [
    "import re\n",
    "\n",
    "re.search('.\\..$', '192.0.0.3').group()"
   ]
  },
  {
   "cell_type": "markdown",
   "metadata": {},
   "source": [
    "#### Ejercicios RegEx"
   ]
  },
  {
   "cell_type": "markdown",
   "metadata": {},
   "source": [
    "Extraer el nombre completo (i.e., P. A. Doodle): "
   ]
  },
  {
   "cell_type": "code",
   "execution_count": 127,
   "metadata": {},
   "outputs": [],
   "source": [
    "string = 'Mr/Mrs/Ms: P. A. Doodle'"
   ]
  },
  {
   "cell_type": "code",
   "execution_count": null,
   "metadata": {},
   "outputs": [],
   "source": []
  },
  {
   "cell_type": "markdown",
   "metadata": {},
   "source": [
    "Partir string en tres campos:"
   ]
  },
  {
   "cell_type": "code",
   "execution_count": 133,
   "metadata": {},
   "outputs": [],
   "source": [
    "string = 'Name: Sabina; E-mail: sabina@gmail.com; Age: 40'"
   ]
  },
  {
   "cell_type": "code",
   "execution_count": null,
   "metadata": {},
   "outputs": [],
   "source": []
  },
  {
   "cell_type": "markdown",
   "metadata": {},
   "source": [
    "Extraer el correo electrónico:"
   ]
  },
  {
   "cell_type": "code",
   "execution_count": null,
   "metadata": {},
   "outputs": [],
   "source": []
  }
 ],
 "metadata": {
  "kernelspec": {
   "display_name": "Python 3",
   "language": "python",
   "name": "python3"
  },
  "language_info": {
   "codemirror_mode": {
    "name": "ipython",
    "version": 3
   },
   "file_extension": ".py",
   "mimetype": "text/x-python",
   "name": "python",
   "nbconvert_exporter": "python",
   "pygments_lexer": "ipython3",
   "version": "3.8.5"
  }
 },
 "nbformat": 4,
 "nbformat_minor": 4
}
