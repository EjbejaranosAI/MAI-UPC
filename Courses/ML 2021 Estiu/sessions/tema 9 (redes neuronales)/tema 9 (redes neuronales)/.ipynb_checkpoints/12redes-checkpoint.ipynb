{
 "cells": [
  {
   "cell_type": "markdown",
   "metadata": {},
   "source": [
    "`Lab creado por Margarita Geleta para el curso Introducción a Machine Learning JEDI, edición 2021`"
   ]
  },
  {
   "cell_type": "markdown",
   "metadata": {},
   "source": [
    "# [XII] Redes Neuronales"
   ]
  },
  {
   "cell_type": "markdown",
   "metadata": {},
   "source": [
    "### O más formalmente, Redes Neuronales Artificiales (*Artificial Neural Network*, ANN)."
   ]
  },
  {
   "cell_type": "markdown",
   "metadata": {},
   "source": [
    "Seguro que todos han oido hablar alguna vez sobre \"redes neuronales\".\n",
    "\n",
    "### ¿Tienen algo que ver con neuronas, con el cerebro o con el sistema nervioso?\n",
    "\n",
    "Muchas fuentes (en Medium y etc.) dicen que sí, que la idea viene de imitar el funcionamiento de los tejidos neuronales de los organismos vivos pero en realidad el enfoque biológico no es especialmente útil para entender las ANNs. \n",
    "\n",
    "### ¿Qué es pues una red neuronal?\n",
    "\n",
    "Una red neuronal es una aproximador universal de cualquier función $f$. El teorema universal de aproximación (1991) demuestra que una red neuronal de una capa puede aproximar cualquier función contínua. El problema es que el teorema no dice cuantas neuronas deben de haber en la capa.\n",
    "\n",
    "### ¿Qué es una neurona?\n",
    "\n",
    "Es un \"sumatorio\" jaja. Es decir, una neurona es operación que calcula la similitud entre el vector de entrada y el vector de los parámetros. Considera que es un producto escalar. Combinamos el input con el vector de parámetros (que se debe optimizar). Una neurona también se conoce como \"perceptron\".\n",
    "\n",
    "#### Así pues, una red neuronal es una composición de perceptrones en varias capas. Cada perceptron calcula una combinación lineal de las entradas y pasa el resultado a través de una función de activación.\n",
    "\n",
    "### ¿Para qué necesitamos funciones de activación?\n",
    "\n",
    "Claro, nosotros intentaremos aproximar funciones no lineales. Simplemente componer funciones lineales nos daría todo lineal. El poder de las redes está en que al usar las no linealidades de las funciones de activación, podemos aproximar cualquier función.\n",
    "\n",
    "---\n",
    "\n",
    "## Por cierto, ya hemos visto redes neuronales\n",
    "\n",
    "**¿Dónde?** En regresión - el modelo lineal, el modelo polinómico ... En clasificación - el regressor logístico. Son de una capa y de una neurona.\n",
    "\n",
    "---\n",
    "\n",
    "### ¿Cómo se entrena una red neuronal?\n",
    "\n",
    "Pues igual que el resto de los modelos. Se define una función de coste y se calcula el gradiente. Pero aquí, sería muy díficil calcular la derivada analíticamente, por eso se usa el algoritmo de *Backpropagation*. Dada una red neuronal y la función de coste, el algoritmo calcula el gradiente de la función de coste respecto todos los parámetros de la red. Calculados los gradientes parciales, actualizamos los parámetros para mejorar nuestro modelo. \n",
    "\n",
    "### ¿Qué es Deep Learning?\n",
    "\n",
    "Deep Learning es un subcampo de Machine Learning que estudia más a fondo las redes neuronales, sus variantes y propiedades a medida que se complican. Es decir, al pasar la barrera de \"ANN de una capa\" entramos en Deep Learning.\n",
    "\n",
    "### ¿Para qué añadir más capas?\n",
    "\n",
    "Volviendo al teorema universal de aproximación (1991) que demuestra que una red neuronal de una capa puede aproximar cualquier función contínua - el teorema no dice cuantas neuronas deben de haber en la capa y lo que se ha llegado a ver empíricamente es que llegamos más fácilmente a nuestro objectivo añadiendo más capas que añadiendo más neuronas en una capa.\n",
    "\n",
    "### ¿Qué tipos de redes neuronales hay?\n",
    "\n",
    "Pues ... muchos.\n",
    "\n",
    "- Los modelos básicos que hemos visto son Perceptrones. \n",
    "- Si vamos agrupando Perceptrones en capas (entrando ya en el campo de Deep Learning) creamos un Multi-Layer Perceptron (MLP). \n",
    "- Si en vez de calcular el producto escalar en los Perceptrones calculamos una distancia entre la entrada y el vector de parámetros de la neurona, tenemos Radial Basis Function Neural Networks (RBFNN).\n",
    "- Si en vez de pasar entradas en forma de vector a la red, le pasamos directamente matrices, cubos, etc ... y aplicamos convoluciones - tenemos redes convolucionales.\n",
    "- Si además tenemos en cuenta la temporalidad, llegamos a redes neuronales recurrentes (RNN).\n",
    "- Y la lista sigue ... Pero eso ya es entrar en Deep Learning.\n",
    "\n",
    "---\n",
    "## Las redes neuronales datan de los años 40. \n",
    "\n",
    "Ahora vamos a ver una implementación del Perceptron de Rosenblatt (1958) - el primer Perceptron usado para clasificación."
   ]
  },
  {
   "cell_type": "code",
   "execution_count": 1,
   "metadata": {},
   "outputs": [],
   "source": [
    "class Rosenblatt_Perceptron(object):\n",
    "\n",
    "    def __init__(self, eta = 1, epochs = 50):\n",
    "        self.eta = eta\n",
    "        self.epochs = epochs\n",
    "\n",
    "    def train(self, X, y):\n",
    "        self.w_ = np.zeros(1 + X.shape[1])\n",
    "        self.errors_ = []\n",
    "        \n",
    "        R = 0\n",
    "        \n",
    "        for i in range(0,len(X)):\n",
    "            norm = np.linalg.norm(X[i,])\n",
    "            if R < norm: R = norm\n",
    "                \n",
    "        for i in range(self.epochs):\n",
    "            errors = 0\n",
    "            print('Weights at ', i ,': ', self.w_)\n",
    "            \n",
    "            for xi, yi in zip(X, y):\n",
    "                if yi * (self.w_[1:].T @ xi + self.w_[0]) <= 0:\n",
    "                    errors += 1\n",
    "                    self.w_[1:] = self.w_[1:] + self.eta * yi * xi\n",
    "                    self.w_[0] = self.w_[0] + self.eta * yi * R**2\n",
    "                    \n",
    "            self.errors_.append(errors)\n",
    "            errors = 0\n",
    "            \n",
    "        return self\n",
    "\n",
    "    def net_input(self, X):\n",
    "        return np.dot(X, self.w_[1:]) + self.w_[0]\n",
    "\n",
    "    def predict(self, X):\n",
    "        return np.where(self.net_input(X) >= 0.0, 1, -1)"
   ]
  },
  {
   "cell_type": "code",
   "execution_count": 2,
   "metadata": {},
   "outputs": [],
   "source": [
    "import pandas as pd\n",
    "import numpy as np\n",
    "from sklearn.datasets import load_iris\n",
    "X, Y = load_iris(return_X_y = True)\n",
    "\n",
    "Y = Y[0:100]\n",
    "Y = np.where(Y == 0, -1, 1)\n",
    "\n",
    "X = X[0:100, [0,2]]"
   ]
  },
  {
   "cell_type": "code",
   "execution_count": 36,
   "metadata": {},
   "outputs": [
    {
     "name": "stdout",
     "output_type": "stream",
     "text": [
      "Weights at  0 :  [0. 0. 0.]\n",
      "Weights at  1 :  [0.  1.9 3.3]\n",
      "Weights at  2 :  [0.  3.8 6.6]\n",
      "Weights at  3 :  [0.  5.7 9.9]\n",
      "Weights at  4 :  [ 0.   7.6 13.2]\n",
      "Weights at  5 :  [ 0.   8.9 16.3]\n",
      "Weights at  6 :  [ 0.   8.7 18.2]\n",
      "Weights at  7 :  [ 0.   8.7 19.8]\n",
      "Weights at  8 :  [-71.62   3.6   18.4 ]\n",
      "Weights at  9 :  [-71.62   3.6   18.4 ]\n",
      "Final weights :  [-71.62   3.6   18.4 ]\n"
     ]
    },
    {
     "data": {
      "image/png": "[encoded data removed]",
      "text/plain": [
       "<Figure size 432x288 with 1 Axes>"
      ]
     },
     "metadata": {
      "needs_background": "light"
     },
     "output_type": "display_data"
    },
    {
     "data": {
      "image/png": "[encoded data removed]",
      "text/plain": [
       "<Figure size 432x288 with 1 Axes>"
      ]
     },
     "metadata": {
      "needs_background": "light"
     },
     "output_type": "display_data"
    }
   ],
   "source": [
    "import matplotlib.pyplot as plt\n",
    "from mlxtend.plotting import plot_decision_regions\n",
    "\n",
    "ppn = Rosenblatt_Perceptron(epochs = 10, eta = 1)\n",
    "\n",
    "ppn.train(X, Y)\n",
    "print('Final weights :  %s' % ppn.w_)\n",
    "plot_decision_regions(X, Y, clf = ppn)\n",
    "plt.title('Perceptron')\n",
    "plt.xlabel('sepal length [cm]')\n",
    "plt.ylabel('petal length [cm]')\n",
    "plt.show()\n",
    "\n",
    "plt.plot(range(1, len(ppn.errors_)+1), ppn.errors_, marker='o')\n",
    "plt.xlabel('Iterations')\n",
    "plt.ylabel('Misclassifications')\n",
    "plt.show()"
   ]
  },
  {
   "cell_type": "code",
   "execution_count": 40,
   "metadata": {},
   "outputs": [
    {
     "data": {
      "image/png": "[encoded data removed]",
      "text/plain": [
       "<Figure size 432x288 with 1 Axes>"
      ]
     },
     "metadata": {
      "needs_background": "light"
     },
     "output_type": "display_data"
    }
   ],
   "source": [
    "import matplotlib.pyplot as plt\n",
    "from sklearn import datasets\n",
    "X, y = datasets.make_blobs(n_samples = 100, centers = 2, n_features = 2, center_box  = (0, 10),\n",
    "                          random_state = 99)\n",
    "plt.plot(X[:, 0][y == 0], X[:, 1][y == 0], 'g^')\n",
    "plt.plot(X[:, 0][y == 1], X[:, 1][y == 1], 'bs')\n",
    "plt.show()\n",
    "y[y == 0] = -1"
   ]
  },
  {
   "cell_type": "code",
   "execution_count": 41,
   "metadata": {},
   "outputs": [
    {
     "name": "stdout",
     "output_type": "stream",
     "text": [
      "Weights at  0 :  [0. 0. 0.]\n",
      "Weights at  1 :  [  0.           3.91814113 -17.05217201]\n",
      "Weights at  2 :  [  0.           5.11655509 -21.44973339]\n",
      "Weights at  3 :  [  0.           6.31496905 -25.84729477]\n",
      "Weights at  4 :  [  0.           7.51338301 -30.24485615]\n",
      "Weights at  5 :  [  0.           8.71179697 -34.64241753]\n",
      "Weights at  6 :  [  0.           9.91021093 -39.03997891]\n",
      "Weights at  7 :  [  0.          11.10862489 -43.43754029]\n",
      "Weights at  8 :  [  0.           9.8585302  -45.10650127]\n",
      "Weights at  9 :  [  0.          11.05694416 -49.50406265]\n",
      "Weights at  10 :  [  0.           9.66824928 -53.56545043]\n",
      "Weights at  11 :  [  0.          10.18526823 -63.54702211]\n",
      "Weights at  12 :  [119.95429788  17.49886259 -66.57495405]\n",
      "Weights at  13 :  [119.95429788  15.6810811  -68.95104277]\n",
      "Weights at  14 :  [119.95429788  14.2468616  -70.39430204]\n",
      "Weights at  15 :  [119.95429788  12.8126421  -71.83756131]\n",
      "Weights at  16 :  [119.95429788  11.3784226  -73.28082057]\n",
      "Weights at  17 :  [119.95429788   8.69410841 -76.39304082]\n",
      "Weights at  18 :  [119.95429788   7.44401373 -78.06200181]\n",
      "Weights at  19 :  [119.95429788   6.19391904 -79.73096279]\n",
      "Weights at  20 :  [119.95429788   4.94382435 -81.39992377]\n",
      "Weights at  21 :  [239.90859576  12.11679965 -78.71688556]\n",
      "Weights at  22 :  [119.95429788   6.09933536 -86.01481253]\n",
      "Weights at  23 :  [239.90859576  13.27231066 -83.33177432]\n",
      "Weights at  24 :  [239.90859576  12.6362748  -84.55484483]\n",
      "Weights at  25 :  [239.90859576  15.0418805  -87.50077261]\n",
      "Weights at  26 :  [239.90859576  14.40584465 -88.72384311]\n",
      "Weights at  27 :  [239.90859576  13.76980879 -89.94691362]\n",
      "Weights at  28 :  [239.90859576  13.94950572 -90.70965126]\n",
      "Weights at  29 :  [239.90859576  14.12920265 -91.47238891]\n",
      "Weights at  30 :  [239.90859576  14.30889958 -92.23512655]\n",
      "Weights at  31 :  [239.90859576  14.48859651 -92.99786419]\n",
      "Weights at  32 :  [239.90859576  14.66829343 -93.76060183]\n",
      "Weights at  33 :  [239.90859576  14.84799036 -94.52333947]\n",
      "Weights at  34 :  [239.90859576  15.02768729 -95.28607711]\n",
      "Weights at  35 :  [239.90859576  15.20738422 -96.04881475]\n",
      "Weights at  36 :  [239.90859576  15.38708115 -96.81155239]\n",
      "Weights at  37 :  [239.90859576  15.56677807 -97.57429004]\n",
      "Weights at  38 :  [239.90859576  15.746475   -98.33702768]\n",
      "Weights at  39 :  [239.90859576  15.92617193 -99.09976532]\n",
      "Weights at  40 :  [239.90859576  16.10586886 -99.86250296]\n",
      "Weights at  41 :  [ 239.90859576   16.28556579 -100.6252406 ]\n",
      "Weights at  42 :  [ 239.90859576   16.46526271 -101.38797824]\n",
      "Weights at  43 :  [ 239.90859576   16.64495964 -102.15071588]\n",
      "Weights at  44 :  [ 239.90859576   16.82465657 -102.91345352]\n",
      "Weights at  45 :  [ 239.90859576   17.0043535  -103.67619116]\n",
      "Weights at  46 :  [ 239.90859576   17.18405043 -104.43892881]\n",
      "Weights at  47 :  [ 239.90859576   17.36374735 -105.20166645]\n",
      "Weights at  48 :  [ 239.90859576   17.92700627 -105.03157464]\n",
      "Weights at  49 :  [ 239.90859576   18.1067032  -105.79431228]\n",
      "Weights at  50 :  [ 239.90859576   18.28640013 -106.55704992]\n",
      "Weights at  51 :  [ 239.90859576   18.46609706 -107.31978756]\n",
      "Weights at  52 :  [ 239.90859576   19.02935598 -107.14969575]\n",
      "Weights at  53 :  [ 239.90859576   19.20905291 -107.91243339]\n",
      "Weights at  54 :  [ 239.90859576   19.38874983 -108.67517103]\n",
      "Weights at  55 :  [ 239.90859576   19.56844676 -109.43790867]\n",
      "Weights at  56 :  [ 239.90859576   20.13170568 -109.26781687]\n",
      "Weights at  57 :  [ 239.90859576   20.31140261 -110.03055451]\n",
      "Weights at  58 :  [ 239.90859576   20.49109954 -110.79329215]\n",
      "Weights at  59 :  [ 239.90859576   20.67079646 -111.55602979]\n",
      "Weights at  60 :  [ 239.90859576   20.85049339 -112.31876743]\n",
      "Weights at  61 :  [ 239.90859576   21.41375231 -112.14867562]\n",
      "Weights at  62 :  [ 239.90859576   21.59344924 -112.91141326]\n",
      "Weights at  63 :  [ 239.90859576   21.77314617 -113.6741509 ]\n",
      "Weights at  64 :  [ 239.90859576   21.9528431  -114.43688854]\n",
      "Weights at  65 :  [ 239.90859576   22.51610202 -114.26679673]\n",
      "Weights at  66 :  [ 239.90859576   22.69579894 -115.02953438]\n",
      "Weights at  67 :  [ 239.90859576   22.87549587 -115.79227202]\n",
      "Weights at  68 :  [ 239.90859576   23.0551928  -116.55500966]\n",
      "Weights at  69 :  [ 239.90859576   23.61845172 -116.38491785]\n",
      "Weights at  70 :  [ 239.90859576   23.79814865 -117.14765549]\n",
      "Weights at  71 :  [ 239.90859576   23.97784558 -117.91039313]\n",
      "Weights at  72 :  [ 239.90859576   24.1575425  -118.67313077]\n",
      "Weights at  73 :  [ 239.90859576   24.72080142 -118.50303896]\n",
      "Weights at  74 :  [ 239.90859576   24.90049835 -119.2657766 ]\n",
      "Weights at  75 :  [ 239.90859576   25.08019528 -120.02851424]\n",
      "Weights at  76 :  [ 239.90859576   25.25989221 -120.79125189]\n",
      "Weights at  77 :  [ 239.90859576   25.43958913 -121.55398953]\n",
      "Weights at  78 :  [ 239.90859576   26.00284805 -121.38389772]\n",
      "Weights at  79 :  [ 239.90859576   26.18254498 -122.14663536]\n",
      "Weights at  80 :  [ 239.90859576   26.36224191 -122.909373  ]\n",
      "Weights at  81 :  [ 239.90859576   26.54193884 -123.67211064]\n",
      "Weights at  82 :  [ 239.90859576   27.10519776 -123.50201883]\n",
      "Weights at  83 :  [ 239.90859576   27.28489469 -124.26475647]\n",
      "Weights at  84 :  [ 239.90859576   27.46459161 -125.02749411]\n",
      "Weights at  85 :  [ 239.90859576   27.64428854 -125.79023175]\n",
      "Weights at  86 :  [ 239.90859576   28.20754746 -125.62013994]\n",
      "Weights at  87 :  [ 239.90859576   28.38724439 -126.38287759]\n",
      "Weights at  88 :  [ 239.90859576   28.56694132 -127.14561523]\n",
      "Weights at  89 :  [ 239.90859576   28.74663825 -127.90835287]\n",
      "Weights at  90 :  [ 239.90859576   28.92633517 -128.67109051]\n",
      "Weights at  91 :  [ 239.90859576   29.48959409 -128.5009987 ]\n",
      "Weights at  92 :  [ 239.90859576   29.66929102 -129.26373634]\n",
      "Weights at  93 :  [ 239.90859576   29.84898795 -130.02647398]\n",
      "Weights at  94 :  [ 239.90859576   30.02868488 -130.78921162]\n",
      "Weights at  95 :  [ 239.90859576   30.5919438  -130.61911981]\n",
      "Weights at  96 :  [ 239.90859576   30.77164072 -131.38185745]\n",
      "Weights at  97 :  [ 239.90859576   30.95133765 -132.1445951 ]\n",
      "Weights at  98 :  [ 239.90859576   31.13103458 -132.90733274]\n",
      "Weights at  99 :  [ 239.90859576   31.6942935  -132.73724093]\n",
      "Final weights :  [ 239.90859576   31.87399043 -133.49997857]\n"
     ]
    },
    {
     "data": {
      "image/png": "[encoded data removed]",
      "text/plain": [
       "<Figure size 432x288 with 1 Axes>"
      ]
     },
     "metadata": {
      "needs_background": "light"
     },
     "output_type": "display_data"
    },
    {
     "data": {
      "image/png": "[encoded data removed]",
      "text/plain": [
       "<Figure size 432x288 with 1 Axes>"
      ]
     },
     "metadata": {
      "needs_background": "light"
     },
     "output_type": "display_data"
    }
   ],
   "source": [
    "ppn = Rosenblatt_Perceptron(epochs = 100, eta = 1)\n",
    "\n",
    "ppn.train(X, y)\n",
    "print('Final weights :  %s' % ppn.w_)\n",
    "plot_decision_regions(X, y, clf=ppn)\n",
    "plt.title('Perceptron')\n",
    "plt.xlabel('variable x1')\n",
    "plt.ylabel('variable x2')\n",
    "plt.show()\n",
    "\n",
    "plt.plot(range(1, len(ppn.errors_)+1), ppn.errors_, marker='o')\n",
    "plt.xlabel('Iterations')\n",
    "plt.ylabel('Misclassifications')\n",
    "plt.show()"
   ]
  },
  {
   "cell_type": "code",
   "execution_count": null,
   "metadata": {},
   "outputs": [],
   "source": []
  }
 ],
 "metadata": {
  "kernelspec": {
   "display_name": "Python 3",
   "language": "python",
   "name": "python3"
  },
  "language_info": {
   "codemirror_mode": {
    "name": "ipython",
    "version": 3
   },
   "file_extension": ".py",
   "mimetype": "text/x-python",
   "name": "python",
   "nbconvert_exporter": "python",
   "pygments_lexer": "ipython3",
   "version": "3.8.10"
  }
 },
 "nbformat": 4,
 "nbformat_minor": 4
}
