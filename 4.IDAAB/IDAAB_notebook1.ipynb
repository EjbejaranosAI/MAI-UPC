{
 "cells": [
  {
   "cell_type": "markdown",
   "metadata": {},
   "source": [
    "# Recommender Systems - First steps\n",
    "\n",
    "<small><i>Updated January 2022</i></small>"
   ]
  },
  {
   "cell_type": "markdown",
   "metadata": {},
   "source": [
    "<div class=\"alert alert-info\" style = \"border-radius:10px;border-width:3px;border-color:darkblue;font-family:Verdana,sans-serif;font-size:16px;\">\n",
    "<h2>Outline</h2>\n",
    "<ol>\n",
    "    <li>What is a recommender system?</li>\n",
    "    <li>How to build a recommender system?</li>\n",
    "    <li>How to evaluate its success?</li>\n",
    "</ol>\n",
    "</div>"
   ]
  },
  {
   "cell_type": "markdown",
   "metadata": {},
   "source": [
    "## What is a recommender system?\n",
    "\n",
    "<div class=\"alert alert-success\" style = \"border-radius:10px;border-width:3px;border-color:darkgreen;font-family:Verdana,sans-serif;font-size:16px;\">\n",
    "Recommender systems are ML-based techniques designed for interacting with large and complex information spaces, and for automatically providing information or items that are likely to be of interest to the user.\n",
    "\n",
    "Some examples:\n",
    "    \n",
    "<table><tr>\n",
    "    <td><h5>Amazon:</h5>\n",
    "        <img src=http://3.bp.blogspot.com/_skxW9kDLt_c/TLfnLNnlnmI/AAAAAAAAfY0/HLqtnI3tItM/s1600/recommender.PNG width=400/></td>\n",
    "    <td><h5>NetFlix:</h5>\n",
    "        <img src=https://dataaspirant.files.wordpress.com/2015/01/netflixrec01_616.jpg width=400/></td>\n",
    "</tr><tr>   \n",
    "    <td><h5>Spotify:</h5>\n",
    "        <img src=\"https://hackernoon.com/hn-images/0*zl0-pZtZzslGC-R8.\" width=400/></td>\n",
    "    <td><h5>Linkedin: </h5>\n",
    "        <img src=https://dataaspirant.files.wordpress.com/2015/01/linkedin.png width=400/></td>\n",
    "</tr><tr>   \n",
    "    <td><h5>Facebook (I):</h5>\n",
    "        <img src=https://dataaspirant.files.wordpress.com/2015/01/8027583588_0232c7d836_z.jpg width=400/></td>\n",
    "    <td><h5>Facebook (II): </h5>\n",
    "        <img src=https://isenbergmarketing.files.wordpress.com/2015/02/marks_year.jpg width=400/></td>\n",
    "</tr></table>\n",
    "\n",
    "</div>\n",
    "\n",
    "<div class=\"alert alert-error\" style = \"border-radius:10px;border-width:3px;border-color:darkred;font-family:Verdana,sans-serif;font-size:14px;\">\n",
    "\n",
    "\n",
    "<h3>Why do we use recommender systems?</h3>\n",
    "<ul>\n",
    "<li>To filter large amounts of data</li>\n",
    "<li>To reduce cognitive load on users</li>\n",
    "<li>To discover new *things*</li>\n",
    "</ul>\n",
    "</div>\n",
    "\n",
    "\n",
    "\n",
    "<div class=\"alert alert-success\" style = \"border-radius:10px;border-width:3px;border-color:darkgreen;font-family:Verdana,sans-serif;font-size:16px;\">\n",
    "\n",
    "<h3>Which data do RecSys need to operate?</h3>\n",
    "<ul>\n",
    "    <li>Data describing items, users, users' preferences on items, etc.</li>\n",
    "    <li>Data can be explicit (rating, reviews) or implicit (navigation, purchases, ...).</li>\n",
    "    <li>Other general information such as demographics or problem specific characteristics might be important, too.</li>\n",
    "    <li>Note that most of these are dynamic: taste or preferences, items' characteristics, etc.</li>\n",
    "</ul>\n",
    "</div>\n",
    "\n",
    "\n",
    "\n"
   ]
  },
  {
   "cell_type": "markdown",
   "metadata": {},
   "source": [
    "## Steps to build a recommender system:\n",
    "<ol>\n",
    "    <li>Data collection and understanding</li>\n",
    "    <li>Data filtering/cleaning</li>\n",
    "    <li>Learning<br>\n",
    "        <span style=\"font-size:smaller\">E.g., using item/user similarity function</span></li>\n",
    "    <li>Evaluation</li>\n",
    "</ol>\n"
   ]
  },
  {
   "cell_type": "markdown",
   "metadata": {},
   "source": [
    "<hr>\n",
    "\n",
    "# Hands-on"
   ]
  },
  {
   "cell_type": "markdown",
   "metadata": {},
   "source": [
    "Let us load the libraries that we are going to use:"
   ]
  },
  {
   "cell_type": "code",
   "execution_count": 2,
   "metadata": {},
   "outputs": [
    {
     "data": {
      "application/javascript": [
       "IPython.notebook.set_autosave_interval(150000)"
      ]
     },
     "metadata": {},
     "output_type": "display_data"
    },
    {
     "name": "stdout",
     "output_type": "stream",
     "text": [
      "Autosaving every 150 seconds\n"
     ]
    }
   ],
   "source": [
    "%autosave 150\n",
    "%matplotlib inline\n",
    "import pandas as pd\n",
    "import numpy as np\n",
    "import math\n",
    "import matplotlib.pylab as plt\n",
    "import os\n",
    "import scipy.stats\n",
    "import statistics\n",
    "import math "
   ]
  },
  {
   "cell_type": "markdown",
   "metadata": {},
   "source": [
    "and the dataset that we want to explore, the Movielens dataset:"
   ]
  },
  {
   "cell_type": "code",
   "execution_count": 3,
   "metadata": {},
   "outputs": [],
   "source": [
    "import urllib.request\n",
    "import zipfile\n",
    "filename = \"ml-100k.zip\"\n",
    "if not os.path.isfile(filename):\n",
    "    urllib.request.urlretrieve('https://files.grouplens.org/datasets/movielens/ml-100k.zip',filename)\n",
    "    with zipfile.ZipFile(filename, 'r') as zip_ref:\n",
    "        zip_ref.extractall(\".\")"
   ]
  },
  {
   "cell_type": "markdown",
   "metadata": {},
   "source": [
    "If it didn't dowload, you can <a href=\"https://grouplens.org/datasets/movielens/100k/\">find it here</a>.\n",
    "\n",
    "# Understanding the data\n",
    "\n",
    "Now, we can start exploring the dataset:"
   ]
  },
  {
   "cell_type": "code",
   "execution_count": 4,
   "metadata": {
    "scrolled": true
   },
   "outputs": [
    {
     "name": "stdout",
     "output_type": "stream",
     "text": [
      "The BD has  100000  ratings\n",
      "The BD has  943  users\n",
      "The BD has  1682  movies\n",
      "   user_id  rating  movie_id         title release_date gender  age\n",
      "0      196       3       242  Kolya (1996)  24-Jan-1997      M   49\n",
      "1      305       5       242  Kolya (1996)  24-Jan-1997      M   23\n",
      "2        6       4       242  Kolya (1996)  24-Jan-1997      M   42\n",
      "3      234       4       242  Kolya (1996)  24-Jan-1997      M   60\n",
      "4       63       3       242  Kolya (1996)  24-Jan-1997      M   31\n"
     ]
    }
   ],
   "source": [
    "# The dataset is composed of 3 main files\n",
    "\n",
    "# The users file \n",
    "u_cols = ['user_id', 'age', 'gender', 'occupation', 'zip_code']\n",
    "users = pd.read_csv('ml-100k/u.user', sep='|', names=u_cols)\n",
    "\n",
    "# The movies (items) file\n",
    "m_cols = ['movie_id', 'title', 'release_date']\n",
    "# It contains aditional columns indicating, among other the movies' genre.\n",
    "# Let's only load the first three columns:\n",
    "movies = pd.read_csv('ml-100k/u.item', sep='|', names=m_cols, usecols=range(3), encoding='latin-1')\n",
    "\n",
    "# The ratings file \n",
    "r_cols = ['user_id', 'movie_id', 'rating', 'timestamp']\n",
    "ratings = pd.read_csv('ml-100k/u.data', sep='\\t', names=r_cols)\n",
    "\n",
    "\n",
    "# We merge all three dataframes into a single dataset\n",
    "data = pd.merge(pd.merge(ratings, users), movies)\n",
    "# and keep only the columns that we are going to use\n",
    "data = data[['user_id', 'rating', 'movie_id', 'title', 'release_date', 'gender', 'age']]\n",
    "\n",
    "\n",
    "print(\"The BD has \", data.shape[0], \" ratings\")\n",
    "print(\"The BD has \", data.user_id.nunique(), \" users\")\n",
    "print(\"The BD has \", data.movie_id.nunique(), \" movies\")\n",
    "print(data.head())"
   ]
  },
  {
   "cell_type": "markdown",
   "metadata": {},
   "source": [
    "We might be interested in recovering the set of movies rated by user number '1':"
   ]
  },
  {
   "cell_type": "code",
   "execution_count": 5,
   "metadata": {},
   "outputs": [
    {
     "data": {
      "text/html": [
       "<div>\n",
       "<style scoped>\n",
       "    .dataframe tbody tr th:only-of-type {\n",
       "        vertical-align: middle;\n",
       "    }\n",
       "\n",
       "    .dataframe tbody tr th {\n",
       "        vertical-align: top;\n",
       "    }\n",
       "\n",
       "    .dataframe thead th {\n",
       "        text-align: right;\n",
       "    }\n",
       "</style>\n",
       "<table border=\"1\" class=\"dataframe\">\n",
       "  <thead>\n",
       "    <tr style=\"text-align: right;\">\n",
       "      <th></th>\n",
       "      <th>user_id</th>\n",
       "      <th>rating</th>\n",
       "      <th>movie_id</th>\n",
       "      <th>title</th>\n",
       "      <th>release_date</th>\n",
       "      <th>gender</th>\n",
       "      <th>age</th>\n",
       "    </tr>\n",
       "  </thead>\n",
       "  <tbody>\n",
       "    <tr>\n",
       "      <th>14</th>\n",
       "      <td>1</td>\n",
       "      <td>5</td>\n",
       "      <td>242</td>\n",
       "      <td>Kolya (1996)</td>\n",
       "      <td>24-Jan-1997</td>\n",
       "      <td>M</td>\n",
       "      <td>24</td>\n",
       "    </tr>\n",
       "    <tr>\n",
       "      <th>417</th>\n",
       "      <td>1</td>\n",
       "      <td>4</td>\n",
       "      <td>251</td>\n",
       "      <td>Shall We Dance? (1996)</td>\n",
       "      <td>11-Jul-1997</td>\n",
       "      <td>M</td>\n",
       "      <td>24</td>\n",
       "    </tr>\n",
       "    <tr>\n",
       "      <th>708</th>\n",
       "      <td>1</td>\n",
       "      <td>3</td>\n",
       "      <td>67</td>\n",
       "      <td>Ace Ventura: Pet Detective (1994)</td>\n",
       "      <td>01-Jan-1994</td>\n",
       "      <td>M</td>\n",
       "      <td>24</td>\n",
       "    </tr>\n",
       "    <tr>\n",
       "      <th>940</th>\n",
       "      <td>1</td>\n",
       "      <td>4</td>\n",
       "      <td>238</td>\n",
       "      <td>Raising Arizona (1987)</td>\n",
       "      <td>01-Jan-1987</td>\n",
       "      <td>M</td>\n",
       "      <td>24</td>\n",
       "    </tr>\n",
       "    <tr>\n",
       "      <th>1306</th>\n",
       "      <td>1</td>\n",
       "      <td>5</td>\n",
       "      <td>111</td>\n",
       "      <td>Truth About Cats &amp; Dogs, The (1996)</td>\n",
       "      <td>26-Apr-1996</td>\n",
       "      <td>M</td>\n",
       "      <td>24</td>\n",
       "    </tr>\n",
       "    <tr>\n",
       "      <th>1618</th>\n",
       "      <td>1</td>\n",
       "      <td>4</td>\n",
       "      <td>25</td>\n",
       "      <td>Birdcage, The (1996)</td>\n",
       "      <td>08-Mar-1996</td>\n",
       "      <td>M</td>\n",
       "      <td>24</td>\n",
       "    </tr>\n",
       "    <tr>\n",
       "      <th>2363</th>\n",
       "      <td>1</td>\n",
       "      <td>2</td>\n",
       "      <td>94</td>\n",
       "      <td>Home Alone (1990)</td>\n",
       "      <td>01-Jan-1990</td>\n",
       "      <td>M</td>\n",
       "      <td>24</td>\n",
       "    </tr>\n",
       "    <tr>\n",
       "      <th>2677</th>\n",
       "      <td>1</td>\n",
       "      <td>1</td>\n",
       "      <td>8</td>\n",
       "      <td>Babe (1995)</td>\n",
       "      <td>01-Jan-1995</td>\n",
       "      <td>M</td>\n",
       "      <td>24</td>\n",
       "    </tr>\n",
       "    <tr>\n",
       "      <th>3073</th>\n",
       "      <td>1</td>\n",
       "      <td>3</td>\n",
       "      <td>70</td>\n",
       "      <td>Four Weddings and a Funeral (1994)</td>\n",
       "      <td>01-Jan-1994</td>\n",
       "      <td>M</td>\n",
       "      <td>24</td>\n",
       "    </tr>\n",
       "    <tr>\n",
       "      <th>3304</th>\n",
       "      <td>1</td>\n",
       "      <td>4</td>\n",
       "      <td>66</td>\n",
       "      <td>While You Were Sleeping (1995)</td>\n",
       "      <td>01-Jan-1995</td>\n",
       "      <td>M</td>\n",
       "      <td>24</td>\n",
       "    </tr>\n",
       "  </tbody>\n",
       "</table>\n",
       "</div>"
      ],
      "text/plain": [
       "      user_id  rating  movie_id                                title  \\\n",
       "14          1       5       242                         Kolya (1996)   \n",
       "417         1       4       251               Shall We Dance? (1996)   \n",
       "708         1       3        67    Ace Ventura: Pet Detective (1994)   \n",
       "940         1       4       238               Raising Arizona (1987)   \n",
       "1306        1       5       111  Truth About Cats & Dogs, The (1996)   \n",
       "1618        1       4        25                 Birdcage, The (1996)   \n",
       "2363        1       2        94                    Home Alone (1990)   \n",
       "2677        1       1         8                          Babe (1995)   \n",
       "3073        1       3        70   Four Weddings and a Funeral (1994)   \n",
       "3304        1       4        66       While You Were Sleeping (1995)   \n",
       "\n",
       "     release_date gender  age  \n",
       "14    24-Jan-1997      M   24  \n",
       "417   11-Jul-1997      M   24  \n",
       "708   01-Jan-1994      M   24  \n",
       "940   01-Jan-1987      M   24  \n",
       "1306  26-Apr-1996      M   24  \n",
       "1618  08-Mar-1996      M   24  \n",
       "2363  01-Jan-1990      M   24  \n",
       "2677  01-Jan-1995      M   24  \n",
       "3073  01-Jan-1994      M   24  \n",
       "3304  01-Jan-1995      M   24  "
      ]
     },
     "execution_count": 5,
     "metadata": {},
     "output_type": "execute_result"
    }
   ],
   "source": [
    "data[data.user_id==1].head(10) # Show the first 5 ratings of user 1"
   ]
  },
  {
   "cell_type": "markdown",
   "metadata": {},
   "source": [
    "We can also obtain the mean rating given by user '1':"
   ]
  },
  {
   "cell_type": "code",
   "execution_count": 6,
   "metadata": {},
   "outputs": [
    {
     "name": "stdout",
     "output_type": "stream",
     "text": [
      "The mean rating for the user 1 is: 3.610294117647059\n",
      "The mean rating for the user 2 is: 3.7096774193548385\n",
      "The mean rating for the user 3 is: 2.7962962962962963\n",
      "The mean rating for the user 4 is: 4.333333333333333\n",
      "The mean rating for the user 5 is: 2.874285714285714\n",
      "The mean rating for the user 6 is: 3.6350710900473935\n",
      "The mean rating for the user 7 is: 3.965260545905707\n",
      "The mean rating for the user 8 is: 3.7966101694915255\n",
      "The mean rating for the user 9 is: 4.2727272727272725\n"
     ]
    }
   ],
   "source": [
    "for i in range(1,10):\n",
    "    rating = data[data.user_id==i].rating.mean()\n",
    "    print(f'The mean rating for the user {i} is: {rating}')\n"
   ]
  },
  {
   "cell_type": "markdown",
   "metadata": {},
   "source": [
    "Changing the focus, we might be interested in finding the mean rating of a movie (e.g., \"Seven\"):"
   ]
  },
  {
   "cell_type": "code",
   "execution_count": 7,
   "metadata": {},
   "outputs": [
    {
     "data": {
      "text/plain": [
       "3.847457627118644"
      ]
     },
     "execution_count": 7,
     "metadata": {},
     "output_type": "execute_result"
    }
   ],
   "source": [
    "data.rating[data.title==\"Seven (Se7en) (1995)\"].mean()"
   ]
  },
  {
   "cell_type": "markdown",
   "metadata": {},
   "source": [
    "These are the 10 most rated movies, that is, the movies which have been rated more frequently:"
   ]
  },
  {
   "cell_type": "code",
   "execution_count": 8,
   "metadata": {},
   "outputs": [
    {
     "data": {
      "text/plain": [
       "title\n",
       "Star Wars (1977)                 583\n",
       "Contact (1997)                   509\n",
       "Fargo (1996)                     508\n",
       "Return of the Jedi (1983)        507\n",
       "Liar Liar (1997)                 485\n",
       "English Patient, The (1996)      481\n",
       "Scream (1996)                    478\n",
       "Toy Story (1995)                 452\n",
       "Air Force One (1997)             431\n",
       "Independence Day (ID4) (1996)    429\n",
       "dtype: int64"
      ]
     },
     "execution_count": 8,
     "metadata": {},
     "output_type": "execute_result"
    }
   ],
   "source": [
    "data.groupby('title').size().sort_values(ascending=False).head(10)"
   ]
  },
  {
   "cell_type": "markdown",
   "metadata": {},
   "source": [
    "This is probably related with the most commonly seen movies. \n",
    "\n",
    "<div class=\"alert alert-success\">\n",
    "Question #1.-<br>\n",
    "<span style=\"color:black\">Can we consider this list as a recommender?\n",
    "Do you know any popular app using this kind of list as a recommender? <br/><br/>\n",
    "\n",
    "#### Depend, because this is the list where have been rated more frequently, that means that can ba good or bad, in this case we know that this movies have many information, because provide to us wich are the most popular in good sense and which not.We can use this information if we have an hybrid system, we can use these movies and customize the recomendation for each user. ####\n",
    "\n",
    "</span></div>\n",
    "\n",
    "Now, let's find the top-10 movies according to their mean score:"
   ]
  },
  {
   "cell_type": "code",
   "execution_count": 9,
   "metadata": {},
   "outputs": [
    {
     "data": {
      "text/plain": [
       "title\n",
       "They Made Me a Criminal (1939)                       5.0\n",
       "Marlene Dietrich: Shadow and Light (1996)            5.0\n",
       "Saint of Fort Washington, The (1993)                 5.0\n",
       "Someone Else's America (1995)                        5.0\n",
       "Star Kid (1997)                                      5.0\n",
       "Great Day in Harlem, A (1994)                        5.0\n",
       "Aiqing wansui (1994)                                 5.0\n",
       "Santa with Muscles (1996)                            5.0\n",
       "Prefontaine (1997)                                   5.0\n",
       "Entertaining Angels: The Dorothy Day Story (1996)    5.0\n",
       "Name: rating, dtype: float64"
      ]
     },
     "execution_count": 9,
     "metadata": {},
     "output_type": "execute_result"
    }
   ],
   "source": [
    "data.groupby('title').rating.mean().sort_values(ascending=False).head(10)"
   ]
  },
  {
   "cell_type": "markdown",
   "metadata": {},
   "source": [
    "Do you agree with this list? Are the items in this list among the movies which are usually listed as the most liked ones?\n",
    "\n",
    "Many of these items are rare movies, maybe good ones, but they have received few ratings. In a general public application, you might be interested in a list that combines frequently seen and highly rated movies. How to do that? Let's filter the raking by the number of ratings.\n",
    "\n",
    "These are the top-10 movies according to their mean score, which have been rated by at least 50 users:"
   ]
  },
  {
   "cell_type": "code",
   "execution_count": 10,
   "metadata": {},
   "outputs": [
    {
     "data": {
      "text/plain": [
       "title\n",
       "Close Shave, A (1995)                                     4.491071\n",
       "Schindler's List (1993)                                   4.466443\n",
       "Wrong Trousers, The (1993)                                4.466102\n",
       "Casablanca (1942)                                         4.456790\n",
       "Wallace & Gromit: The Best of Aardman Animation (1996)    4.447761\n",
       "Shawshank Redemption, The (1994)                          4.445230\n",
       "Rear Window (1954)                                        4.387560\n",
       "Usual Suspects, The (1995)                                4.385768\n",
       "Star Wars (1977)                                          4.358491\n",
       "12 Angry Men (1957)                                       4.344000\n",
       "Name: rating, dtype: float64"
      ]
     },
     "execution_count": 10,
     "metadata": {},
     "output_type": "execute_result"
    }
   ],
   "source": [
    "# number of ratings per movie\n",
    "no_ratings = data.groupby('title').size()\n",
    "# ranking of movies according to mean score\n",
    "mean_score = data.groupby('title').rating.mean().sort_values(ascending=False)\n",
    "# filter out movies with no more than 50 ratings\n",
    "mean_score[no_ratings>50].head(10)"
   ]
  },
  {
   "cell_type": "markdown",
   "metadata": {},
   "source": [
    "OK, that's a solution, but which are the implications?"
   ]
  },
  {
   "cell_type": "code",
   "execution_count": 11,
   "metadata": {},
   "outputs": [
    {
     "name": "stdout",
     "output_type": "stream",
     "text": [
      "Only 596 out of 1664 movies have been considered.\n"
     ]
    }
   ],
   "source": [
    "print(\"Only\", np.sum(no_ratings>50), \"out of\", len(no_ratings), \"movies have been considered.\")"
   ]
  },
  {
   "cell_type": "markdown",
   "metadata": {},
   "source": [
    "Let's have a look to the histogram of movies as a function of the number of received ratings:"
   ]
  },
  {
   "cell_type": "code",
   "execution_count": 12,
   "metadata": {},
   "outputs": [
    {
     "data": {
      "image/png": "[encoded data removed]",
      "text/plain": [
       "<Figure size 432x288 with 1 Axes>"
      ]
     },
     "metadata": {
      "needs_background": "light"
     },
     "output_type": "display_data"
    }
   ],
   "source": [
    "no_ratings = data.groupby('movie_id').size().sort_values(ascending=False)\n",
    "no_ratings.hist(bins=100)\n",
    "plt.title(\"Histogram of ratings per movie\")\n",
    "plt.ylabel('count of movies')\n",
    "plt.xlabel('number of received ratings')\n",
    "plt.show()"
   ]
  },
  {
   "cell_type": "markdown",
   "metadata": {},
   "source": [
    "That is, most of the movies have received a low number of ratings. Remember the long tail distribution?\n",
    "\n",
    "<div class=\"alert alert-success\">\n",
    "Question #2.-<br>\n",
    "<span style=\"color:black\">Out of curiosity, which are the movies that have received at least 400 ratings?</span></div>"
   ]
  },
  {
   "cell_type": "code",
   "execution_count": 13,
   "metadata": {},
   "outputs": [
    {
     "name": "stdout",
     "output_type": "stream",
     "text": [
      "Only (12,) movies had at least 400 ratings or more, these are: title\n",
      "Star Wars (1977)                  4.358491\n",
      "Godfather, The (1972)             4.283293\n",
      "Raiders of the Lost Ark (1981)    4.252381\n",
      "Fargo (1996)                      4.155512\n",
      "Return of the Jedi (1983)         4.007890\n",
      "Toy Story (1995)                  3.878319\n",
      "Contact (1997)                    3.803536\n",
      "English Patient, The (1996)       3.656965\n",
      "Air Force One (1997)              3.631090\n",
      "Scream (1996)                     3.441423\n",
      "Independence Day (ID4) (1996)     3.438228\n",
      "Liar Liar (1997)                  3.156701\n",
      "Name: rating, dtype: float64\n"
     ]
    }
   ],
   "source": [
    "#Question 2\n",
    "# filter out movies with at least 400 ratings\n",
    "no_ratings_movies = data.groupby('title').size()\n",
    "most_ratings = mean_score[no_ratings_movies>400]\n",
    "print(f'Only {most_ratings.shape} movies had at least 400 ratings or more, these are: {most_ratings}')"
   ]
  },
  {
   "cell_type": "markdown",
   "metadata": {},
   "source": [
    "Now we know that all the movies do not receive the same number of ratings. But, all the users rate with the same frequency?\n",
    "<div class=\"alert alert-success\">\n",
    "Question #3.-<br>\n",
    "<span style=\"color:black\">\n",
    "Show in a histogram with the number of given ratings (x-axis) against the number of users (y-axis)</span></div>"
   ]
  },
  {
   "cell_type": "code",
   "execution_count": 14,
   "metadata": {},
   "outputs": [
    {
     "data": {
      "image/png": "[encoded data removed]",
      "text/plain": [
       "<Figure size 432x288 with 1 Axes>"
      ]
     },
     "metadata": {
      "needs_background": "light"
     },
     "output_type": "display_data"
    }
   ],
   "source": [
    "#Question 3\n",
    "\n",
    "no_ratings_users = data.groupby('user_id').size().sort_values(ascending=False)\n",
    "no_ratings_users.hist(bins=100)\n",
    "plt.title(\"Histogram of given ratings VS number of users\")\n",
    "plt.ylabel('Number of users')\n",
    "plt.xlabel('Given ratings')\n",
    "plt.show()\n"
   ]
  },
  {
   "cell_type": "markdown",
   "metadata": {},
   "source": [
    "That is, most of the users rate less than 60 movies, whereas few users rate more than 400 movies; the long tail distribution, again!\n",
    "\n",
    "Similarly, one can expect that users behave differently: some people are more generous when providing a rating; others tend to be more difficult to content."
   ]
  },
  {
   "cell_type": "markdown",
   "metadata": {},
   "source": [
    "<div class=\"alert alert-success\">\n",
    "Question #4.-<br>\n",
    "<span style=\"color:black\">Show the mean given ratings of the first 10 users of the dataset.</span></div>"
   ]
  },
  {
   "cell_type": "code",
   "execution_count": 15,
   "metadata": {},
   "outputs": [
    {
     "name": "stdout",
     "output_type": "stream",
     "text": [
      "The mean rating for the user 1 is: 3.610294117647059\n",
      "The mean rating for the user 2 is: 3.7096774193548385\n",
      "The mean rating for the user 3 is: 2.7962962962962963\n",
      "The mean rating for the user 4 is: 4.333333333333333\n",
      "The mean rating for the user 5 is: 2.874285714285714\n",
      "The mean rating for the user 6 is: 3.6350710900473935\n",
      "The mean rating for the user 7 is: 3.965260545905707\n",
      "The mean rating for the user 8 is: 3.7966101694915255\n",
      "The mean rating for the user 9 is: 4.2727272727272725\n",
      "The mean rating for the user 10 is: 4.206521739130435\n"
     ]
    }
   ],
   "source": [
    "# Question 4\n",
    "for i in range(1,11):\n",
    "    rating = data[data.user_id==i].rating.mean()\n",
    "    print(f'The mean rating for the user {i} is: {rating}')"
   ]
  },
  {
   "cell_type": "markdown",
   "metadata": {},
   "source": [
    "We are using all the time the mean function to obtain the average value of the ratings, but this is not the only aggregation function and might not be appropriate in presence of outliers or high variance. \n",
    "\n",
    "<div class=\"alert alert-success\">\n",
    "Question #5.-<br>\n",
    "<span style=\"color:black\">Show the 10 movies which have associated the most discordant ratings (you could use standard deviation to measure discordance). That is, find those movies that people do love or do hate.\n",
    "</span></div>"
   ]
  },
  {
   "cell_type": "code",
   "execution_count": 559,
   "metadata": {},
   "outputs": [
    {
     "data": {
      "text/plain": [
       "title\n",
       "Tough and Deadly (1995)                               2.828427\n",
       "Delta of Venus (1994)                                 2.828427\n",
       "The Deadly Cure (1996)                                2.828427\n",
       "Hugo Pool (1997)                                      2.138090\n",
       "Little City (1998)                                    2.121320\n",
       "Convent, The (Convento, O) (1995)                     2.121320\n",
       "American Dream (1990)                                 2.121320\n",
       "Spirits of the Dead (Tre passi nel delirio) (1968)    2.121320\n",
       "Visitors, The (Visiteurs, Les) (1993)                 2.121320\n",
       "Rough Magic (1995)                                    2.121320\n",
       "Name: rating, dtype: float64"
      ]
     },
     "execution_count": 559,
     "metadata": {},
     "output_type": "execute_result"
    }
   ],
   "source": [
    "# Question 5\n",
    "stdev_movies = data.groupby('title').rating.std()\n",
    "stdev_movies.sort_values(ascending=False).head(10)"
   ]
  },
  {
   "cell_type": "code",
   "execution_count": 438,
   "metadata": {},
   "outputs": [
    {
     "name": "stdout",
     "output_type": "stream",
     "text": [
      "[[[2.138089935299395, 'Hugo Pool (1997)']], [[2.081665999466133, 'For the Moment (1994)']], [[2.081665999466133, 'Boys, Les (1997)']], [[2.0, 'Mondo (1996)']], [[1.9148542155126762, 'Lay of the Land, The (1997)']], [[1.9148542155126762, 'Killer (Bulletproof Heart) (1994)']], [[1.9023794624226837, 'Aparajito (1956)']], [[1.8929694486000912, 'Two or Three Things I Know About Her (1966)']], [[1.8929694486000912, 'Leading Man, The (1996)']]]\n"
     ]
    }
   ],
   "source": [
    "#Another way but with different results\n",
    "movies_title = data.title.unique()\n",
    "\n",
    "StndDev_vector = []\n",
    "for i in range(len(movies_title)):\n",
    "\n",
    "    Peli = movies_title[i]\n",
    "    guardarRating = data[data.title==Peli].rating\n",
    "\n",
    "    if len(guardarRating)>2:\n",
    "        df2 = ([[statistics.stdev(guardarRating), Peli]])\n",
    "        #df2 = ([[statistics.stdev(guardarRating)]])\n",
    "        StndDev_vector.append(df2)\n",
    "    \n",
    "    else:\n",
    "        df2 = ([[0, Peli]])\n",
    "        #df2 = ([[0]])\n",
    "        StndDev_vector.append(df2)\n",
    "StndDev_vector = sorted(StndDev_vector,reverse=True)\n",
    "print(StndDev_vector[0:9])\n"
   ]
  },
  {
   "cell_type": "markdown",
   "metadata": {},
   "source": [
    "## Crossing information with auxiliary features\n",
    "Sometimes, we might be interested in segmenting our analysis according to some feature. In our dataset, we have several descriptive variables of both users and movies. For example, which is the age of our users?"
   ]
  },
  {
   "cell_type": "code",
   "execution_count": 195,
   "metadata": {},
   "outputs": [
    {
     "data": {
      "image/png": "[encoded data removed]",
      "text/plain": [
       "<Figure size 432x288 with 1 Axes>"
      ]
     },
     "metadata": {
      "needs_background": "light"
     },
     "output_type": "display_data"
    }
   ],
   "source": [
    "users.age.hist(bins=50)\n",
    "plt.title(\"Histogram of users' age\")\n",
    "plt.ylabel('count of users')\n",
    "plt.xlabel('age')\n",
    "plt.show()"
   ]
  },
  {
   "cell_type": "markdown",
   "metadata": {},
   "source": [
    "So, we might wonder if different age groups behave differently, on average. Let us see their mean ratings per age-group:"
   ]
  },
  {
   "cell_type": "code",
   "execution_count": 196,
   "metadata": {},
   "outputs": [
    {
     "name": "stdout",
     "output_type": "stream",
     "text": [
      "          rating          \n",
      "            size      mean\n",
      "age_group                 \n",
      "0-9           43  3.767442\n",
      "10-19       8181  3.486126\n",
      "20-29      39535  3.467333\n",
      "30-39      25696  3.554444\n",
      "40-49      15021  3.591772\n",
      "50-59       8704  3.635800\n",
      "60-69       2623  3.648875\n",
      "70-79        197  3.649746\n"
     ]
    }
   ],
   "source": [
    "# We build age groups by discretizing the variable 'age' as follows:\n",
    "labels_age = ['0-9', '10-19', '20-29', '30-39', '40-49', '50-59', '60-69', '70-79']\n",
    "data['age_group'] = pd.cut(data.age, range(0, 81, 10), right=False, labels=labels_age)\n",
    "\n",
    "# Note that we are using two aggregation functions: size and mean\n",
    "print(data.groupby('age_group').agg({'rating': [np.size, np.mean]}))"
   ]
  },
  {
   "cell_type": "markdown",
   "metadata": {},
   "source": [
    "We also have a variable that tells the year in which each movie was released. Many people say that classical movies are better than current ones. We might try to see the mean rating of the movies as time goes on:"
   ]
  },
  {
   "cell_type": "code",
   "execution_count": 197,
   "metadata": {},
   "outputs": [
    {
     "data": {
      "image/png": "[encoded data removed]",
      "text/plain": [
       "<Figure size 432x288 with 1 Axes>"
      ]
     },
     "metadata": {
      "needs_background": "light"
     },
     "output_type": "display_data"
    }
   ],
   "source": [
    "data['release_year'] = data['release_date'].apply(lambda x: int(str(x)[-4:]) \n",
    "                                                  if math.isnan(float(str(x)[-4:])) == False \n",
    "                                                  else 1999)\n",
    "rank_per_year = data.groupby('release_year')['rating'].mean()\n",
    "plt.bar(rank_per_year.keys(), rank_per_year, facecolor='#9999ff', edgecolor='white')\n",
    "plt.xlabel(\"Year\")\n",
    "plt.ylabel(\"Mean rating\")\n",
    "plt.ylim((min(rank_per_year)*0.95,max(rank_per_year)*1.05))\n",
    "plt.show()"
   ]
  },
  {
   "cell_type": "markdown",
   "metadata": {},
   "source": [
    "But, again, the number of ratings received by movies released in different years is not the same:"
   ]
  },
  {
   "cell_type": "code",
   "execution_count": 198,
   "metadata": {},
   "outputs": [
    {
     "name": "stdout",
     "output_type": "stream",
     "text": [
      "           rating          \n",
      "             size      mean\n",
      "year_group                 \n",
      "20s            56  3.535714\n",
      "30s          1496  3.925134\n",
      "40s          2249  4.010671\n",
      "50s          3506  3.937250\n",
      "60s          3875  3.881548\n",
      "70s          6242  3.866069\n",
      "80s         12122  3.749794\n",
      "90s         70454  3.398870\n"
     ]
    }
   ],
   "source": [
    "# We build years groups by discretizing the variable 'release_year' as follows:\n",
    "labels_year = ['20s', '30s', '40s', '50s', '60s', '70s', '80s', '90s']\n",
    "data['year_group'] = pd.cut(data.release_year, range(1920, 2001, 10), right=False, labels=labels_year)\n",
    "\n",
    "# Note that we are using two aggregation functions: size and mean\n",
    "print(data.groupby('year_group').agg({'rating': [np.size, np.mean]}))"
   ]
  },
  {
   "cell_type": "markdown",
   "metadata": {},
   "source": [
    "We could even try to observe the correlation between two variables. In this case, let's explore the mean rating by year of movie's release and user's age."
   ]
  },
  {
   "cell_type": "code",
   "execution_count": 199,
   "metadata": {},
   "outputs": [
    {
     "data": {
      "image/png": "[encoded data removed]",
      "text/plain": [
       "<Figure size 576x576 with 2 Axes>"
      ]
     },
     "metadata": {
      "needs_background": "light"
     },
     "output_type": "display_data"
    },
    {
     "data": {
      "image/png": "[encoded data removed]",
      "text/plain": [
       "<Figure size 576x576 with 2 Axes>"
      ]
     },
     "metadata": {
      "needs_background": "light"
     },
     "output_type": "display_data"
    }
   ],
   "source": [
    "# show number of ratings\n",
    "from matplotlib.colors import LogNorm\n",
    "v = data.groupby(['year_group','age_group'])['rating'].size()\n",
    "mat_size = v.values\n",
    "mat_size.shape = (len(labels_year),len(labels_age))\n",
    "plt.figure(figsize=(8,8))\n",
    "plt.matshow(mat_size, norm=LogNorm(), fignum=1)\n",
    "plt.colorbar()\n",
    "plt.title(\"No. ratings (log scale)\")\n",
    "plt.xlabel(\"Age\")\n",
    "plt.ylabel(\"Year\")\n",
    "plt.xticks(np.arange(8), labels_age)\n",
    "plt.yticks(np.arange(8), labels_year)\n",
    "plt.show()\n",
    "\n",
    "# show mean ratings\n",
    "v = data.groupby(['year_group','age_group'])['rating'].mean()\n",
    "mat_rating = v.values\n",
    "mat_rating.shape = (len(labels_year),len(labels_age))\n",
    "plt.figure(figsize=(8,8))\n",
    "plt.matshow(mat_rating, fignum=1)\n",
    "plt.colorbar()\n",
    "plt.title(\"Mean ratings\")\n",
    "plt.xlabel(\"Age\")\n",
    "plt.ylabel(\"Year\")\n",
    "plt.xticks(np.arange(8), labels_age)\n",
    "plt.yticks(np.arange(8), labels_year)\n",
    "plt.show()"
   ]
  },
  {
   "cell_type": "markdown",
   "metadata": {},
   "source": [
    "Now, let's focus on another interesting feature: gender.\n",
    "<div class=\"alert alert-success\">\n",
    "Question #6.-<br>\n",
    "<span style=\"color:black\">Show the mean rating per gender for 10 movies with at least 50 ratings:</span></div>"
   ]
  },
  {
   "cell_type": "code",
   "execution_count": 517,
   "metadata": {},
   "outputs": [
    {
     "name": "stdout",
     "output_type": "stream",
     "text": [
      "This is the mean rating per gender for 10 movies with at least 50 ratings:\n",
      " title                                gender\n",
      "101 Dalmatians (1996)                F         3.116279\n",
      "                                     M         2.772727\n",
      "12 Angry Men (1957)                  F         4.269231\n",
      "                                     M         4.363636\n",
      "2 Days in the Valley (1996)          F         3.235294\n",
      "                                     M         3.223684\n",
      "20,000 Leagues Under the Sea (1954)  F         3.214286\n",
      "                                     M         3.568966\n",
      "2001: A Space Odyssey (1968)         F         3.491228\n",
      "                                     M         4.103960\n",
      "39 Steps, The (1935)                 F         4.000000\n",
      "                                     M         4.060000\n",
      "Absolute Power (1997)                F         3.451613\n",
      "                                     M         3.343750\n",
      "Abyss, The (1989)                    F         3.814815\n",
      "                                     M         3.540323\n",
      "Ace Ventura: Pet Detective (1994)    F         3.105263\n",
      "                                     M         3.035714\n",
      "Name: rating, dtype: float64\n"
     ]
    }
   ],
   "source": [
    "# Question 6\n",
    "#Here we choose the 10 movies with most at least 50 ratings for both gender\n",
    "No_Rating = data.groupby(['title','gender']).size().reset_index(name='counts')\n",
    "Range_Movies = No_Rating[No_Rating['counts']>=50].head(10)\n",
    "gender_group_movie = data[data['title'].isin(Range_Movies.title)].groupby(['title','gender']).rating.mean()\n",
    "print(f'This is the mean rating per gender for 10 movies with at least 50 ratings:\\n {gender_group_movie}')\n",
    "\n"
   ]
  },
  {
   "cell_type": "markdown",
   "metadata": {},
   "source": [
    "<div class=\"alert alert-success\">\n",
    "Question #7.-<br>\n",
    "<span style=\"color:black\">Among these (movies with at least 50 ratings), which are the 10 best movies as rated by women?</span></div>"
   ]
  },
  {
   "cell_type": "code",
   "execution_count": 544,
   "metadata": {},
   "outputs": [
    {
     "name": "stdout",
     "output_type": "stream",
     "text": [
      "Movies founded only based in the Female gender\n",
      "title                         gender\n",
      "2001: A Space Odyssey (1968)  F         3.491228\n",
      "                              M         4.103960\n",
      "Air Force One (1997)          F         3.690476\n",
      "                              M         3.606557\n",
      "Aladdin (1992)                F         3.949153\n",
      "                              M         3.762500\n",
      "Alien (1979)                  F         3.660714\n",
      "                              M         4.123404\n",
      "Aliens (1986)                 F         3.672727\n",
      "                              M         4.013100\n",
      "Amadeus (1984)                F         4.038961\n",
      "                              M         4.211055\n",
      "Apollo 13 (1995)              F         4.000000\n",
      "                              M         3.909953\n",
      "Babe (1995)                   F         4.050000\n",
      "                              M         3.974843\n",
      "Back to the Future (1985)     F         3.766667\n",
      "                              M         3.857692\n",
      "Beauty and the Beast (1991)   F         3.934426\n",
      "                              M         3.730496\n",
      "Name: rating, dtype: float64\n"
     ]
    }
   ],
   "source": [
    "# Question 7\n",
    "\n",
    "#In this part, I change the methodology for choose the 10 movies based only in the Female gender\n",
    "Female_Movies = No_Rating[No_Rating['gender']=='F']\n",
    "Range_F = Female_Movies[Female_Movies['counts']>=50].head(10)\n",
    "F_group = data[data['title'].isin(Range_F.title)].groupby(['title','gender']).rating.mean()\n",
    "print('Movies founded only based in the Female gender')\n",
    "print(F_group)"
   ]
  },
  {
   "cell_type": "code",
   "execution_count": 545,
   "metadata": {},
   "outputs": [
    {
     "name": "stdout",
     "output_type": "stream",
     "text": [
      "Movies founded only based in the Male gender\n",
      "title                                gender\n",
      "101 Dalmatians (1996)                F         3.116279\n",
      "                                     M         2.772727\n",
      "12 Angry Men (1957)                  F         4.269231\n",
      "                                     M         4.363636\n",
      "2 Days in the Valley (1996)          F         3.235294\n",
      "                                     M         3.223684\n",
      "20,000 Leagues Under the Sea (1954)  F         3.214286\n",
      "                                     M         3.568966\n",
      "2001: A Space Odyssey (1968)         F         3.491228\n",
      "                                     M         4.103960\n",
      "39 Steps, The (1935)                 F         4.000000\n",
      "                                     M         4.060000\n",
      "Absolute Power (1997)                F         3.451613\n",
      "                                     M         3.343750\n",
      "Abyss, The (1989)                    F         3.814815\n",
      "                                     M         3.540323\n",
      "Ace Ventura: Pet Detective (1994)    F         3.105263\n",
      "                                     M         3.035714\n",
      "Addams Family Values (1993)          F         3.000000\n",
      "                                     M         2.757576\n",
      "Name: rating, dtype: float64\n"
     ]
    }
   ],
   "source": [
    "#In this part, I change the methodology for choose the 10 movies based only in the Male gender\n",
    "Male_Movies = No_Rating[No_Rating['gender']=='M']\n",
    "Range_M = Male_Movies[Male_Movies['counts']>=50].head(10)\n",
    "M_group = data[data['title'].isin(Range_M.title)].groupby(['title','gender']).rating.mean()\n",
    "print('Movies founded only based in the Male gender')\n",
    "print(M_group)"
   ]
  },
  {
   "cell_type": "markdown",
   "metadata": {},
   "source": [
    "You probably has already noticed a difference between the mean ratings of women and those of men. Now we wonder which movies have been rated more differently by men and by women.\n",
    "\n",
    "<div class=\"alert alert-success\">\n",
    "Question #8.-<br>\n",
    "<span style=\"color:black\">Show the 10 movies with the largest difference between women's mean rating and men's.\n",
    "</span></div>"
   ]
  },
  {
   "cell_type": "code",
   "execution_count": 570,
   "metadata": {},
   "outputs": [
    {
     "data": {
      "text/plain": [
       "title                                                                            gender\n",
       "Microcosmos: Le peuple de l'herbe (1996)                                         F         2.828427\n",
       "The Deadly Cure (1996)                                                           M         2.828427\n",
       "Turbo: A Power Rangers Movie (1997)                                              F         2.828427\n",
       "For the Moment (1994)                                                            M         2.828427\n",
       "Don't Be a Menace to South Central While Drinking Your Juice in the Hood (1996)  F         2.828427\n",
       "Tough and Deadly (1995)                                                          M         2.828427\n",
       "Mondo (1996)                                                                     M         2.828427\n",
       "Braindead (1992)                                                                 F         2.828427\n",
       "In the Bleak Midwinter (1995)                                                    F         2.309401\n",
       "Bad Taste (1987)                                                                 F         2.309401\n",
       "Name: rating, dtype: float64"
      ]
     },
     "execution_count": 570,
     "metadata": {},
     "output_type": "execute_result"
    }
   ],
   "source": [
    "# Question 8\n",
    "#Here, we found the difference between Male and Female rating mean\n",
    "Difference_F_M = data.groupby(['title','gender']).rating.std()\n",
    "Difference_F_M.sort_values(ascending=False).head(10)"
   ]
  },
  {
   "cell_type": "code",
   "execution_count": 574,
   "metadata": {},
   "outputs": [
    {
     "name": "stdout",
     "output_type": "stream",
     "text": [
      "gender  title                            \n",
      "F       Ace Ventura: Pet Detective (1994)    1.370107\n",
      "M       Ace Ventura: Pet Detective (1994)    1.186738\n",
      "F       101 Dalmatians (1996)                1.179372\n",
      "        2001: A Space Odyssey (1968)         1.135826\n",
      "        Abyss, The (1989)                    1.039121\n",
      "M       Absolute Power (1997)                0.992902\n",
      "        101 Dalmatians (1996)                0.989101\n",
      "        2 Days in the Valley (1996)          0.987909\n",
      "        2001: A Space Odyssey (1968)         0.953696\n",
      "        Abyss, The (1989)                    0.877906\n",
      "Name: rating, dtype: float64\n"
     ]
    }
   ],
   "source": [
    "#In this part we found the deviation for the movies with more than 50 rating per movie\n",
    "gender_group_movie = data[data['title'].isin(Range_Movies.title)].groupby(['gender','title']).rating.std()\n",
    "print(gender_group_movie.sort_values(ascending=False).head(10))"
   ]
  },
  {
   "cell_type": "code",
   "execution_count": 573,
   "metadata": {},
   "outputs": [
    {
     "data": {
      "text/plain": [
       "title                                       gender\n",
       "Star Kid (1997)                             M         5.0\n",
       "Telling Lies in America (1997)              F         5.0\n",
       "Prefontaine (1997)                          M         5.0\n",
       "Foreign Correspondent (1940)                F         5.0\n",
       "Great Day in Harlem, A (1994)               M         5.0\n",
       "Saint of Fort Washington, The (1993)        M         5.0\n",
       "Everest (1998)                              F         5.0\n",
       "Santa with Muscles (1996)                   M         5.0\n",
       "Marlene Dietrich: Shadow and Light (1996)   M         5.0\n",
       "Stripes (1981)                              F         5.0\n",
       "Name: rating, dtype: float64"
      ]
     },
     "execution_count": 573,
     "metadata": {},
     "output_type": "execute_result"
    }
   ],
   "source": [
    "diference = data[data['title'].isin(No_Rating.title)].groupby(['title','gender']).rating.mean()\n",
    "diference.sort_values(ascending=False).head(10)"
   ]
  }
 ],
 "metadata": {
  "anaconda-cloud": {},
  "kernelspec": {
   "display_name": "Python 3 (ipykernel)",
   "language": "python",
   "name": "python3"
  },
  "language_info": {
   "codemirror_mode": {
    "name": "ipython",
    "version": 3
   },
   "file_extension": ".py",
   "mimetype": "text/x-python",
   "name": "python",
   "nbconvert_exporter": "python",
   "pygments_lexer": "ipython3",
   "version": "3.8.8"
  }
 },
 "nbformat": 4,
 "nbformat_minor": 1
}
