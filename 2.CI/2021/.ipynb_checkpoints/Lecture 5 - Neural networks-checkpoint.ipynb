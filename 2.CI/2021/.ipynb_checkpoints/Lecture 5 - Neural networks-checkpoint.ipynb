{
 "cells": [
  {
   "cell_type": "markdown",
   "id": "a0a31735",
   "metadata": {},
   "source": [
    "# Lecture 3 - Neural networks - Multilayer Perceptron"
   ]
  },
  {
   "cell_type": "raw",
   "id": "e19ab332",
   "metadata": {},
   "source": [
    "Outline\n",
    "1. Introduction\n",
    "2. Linear regression\n",
    "3."
   ]
  },
  {
   "cell_type": "markdown",
   "id": "11477c94",
   "metadata": {},
   "source": [
    "## 1.INTRODUCTION\n",
    "A neural networks are defined by a set of interconnected units (neurons), that proccess information, this set of connections are called neural network.\n",
    "\n",
    "### Types of neura networks:\n",
    "####    a.Fased-forward neural networks\n",
    "        i. Multilayer perceptron \n",
    "        ii.\n",
    "        iii.\n",
    "####    b.Recurrent neural networks\n",
    "        i.\n",
    "        ii.\n",
    "        iii.\n",
    "####    c.\n",
    "    \n",
    "Explain how is a typical example:\n",
    "\n",
    "THe first thing when a system of nerual network start is when the inputs data enter for the receptors, later the pass for the neuron where compute with the activation function and the output of the first layer, pass how the input data for the second layer, this proccess is repeted the times that we have hidden layer. In the end the output values is deliver \n",
    "\n",
    "\n",
    "Imputs--->[hiden level of neuron]-->[k hidden level of neurons] ---> output level\n",
    "\n",
    "what is an activation function?\n",
    "\n",
    "#### The output of the aggreation function is named net-input or pre-activation\n",
    "#### The output of the activation function is named the net-output or activation of the unit\n",
    "\n",
    "input units are fed with the data\n",
    "\n",
    "the main thing in the convulutional network is the activation function\n",
    "\n",
    "### Different types of activation functions\n",
    "    \n",
    "    1.Identity function\n",
    "    \n",
    "    2.Logistic function: The sigmoid activation function, also called the logistic function, is traditionally a\n",
    "    very popular activation function for neural networks. The input to the function is transformed into a value\n",
    "    between 0.0 and 1.0. ... The shape of the function for all possible inputs is an S-shape from zero up through \n",
    "    0.5 to 1.0.\n",
    "    \n",
    "    3.Hyperbolic tangent function:Tanh is the hyperbolic tangent function, which is the hyperbolic analogue of \n",
    "    the Tan circular function used throughout trigonometry. Tanh[α] is defined as the ratio of the corresponding \n",
    "    hyperbolic sine and hyperbolic cosine functions via . Tanh may also be defined as , where is the base of the \n",
    "    natural logarithm Log.\n",
    "    \n",
    "    4.Gaussian function\n",
    "    \n",
    "    5.Rectifier linear \n"
   ]
  },
  {
   "cell_type": "code",
   "execution_count": null,
   "id": "46523c64",
   "metadata": {},
   "outputs": [],
   "source": []
  },
  {
   "cell_type": "code",
   "execution_count": null,
   "id": "70a9c508",
   "metadata": {},
   "outputs": [],
   "source": []
  }
 ],
 "metadata": {
  "kernelspec": {
   "display_name": "Python 3 (ipykernel)",
   "language": "python",
   "name": "python3"
  },
  "language_info": {
   "codemirror_mode": {
    "name": "ipython",
    "version": 3
   },
   "file_extension": ".py",
   "mimetype": "text/x-python",
   "name": "python",
   "nbconvert_exporter": "python",
   "pygments_lexer": "ipython3",
   "version": "3.8.8"
  }
 },
 "nbformat": 4,
 "nbformat_minor": 5
}
